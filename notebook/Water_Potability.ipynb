{
  "nbformat": 4,
  "nbformat_minor": 0,
  "metadata": {
    "colab": {
      "name": "Water-Potability",
      "provenance": [],
      "collapsed_sections": [
        "3Ve8CgpE1BAA",
        "DKQG2puuftem",
        "oCmltdM1mc1l",
        "DXBfjRRNUn8F",
        "aN2vCtepnYBe",
        "9ZH0n6Ts-tb6",
        "5pyGVNFho0UJ",
        "hQaBKPcbZcS5",
        "TWDOpWlnpYKK",
        "OP_YauwlqE3s",
        "kQmYGrQU-gad",
        "8RZ5X7kXE0XD"
      ],
      "toc_visible": true
    },
    "kernelspec": {
      "display_name": "Python 3",
      "name": "python3"
    },
    "language_info": {
      "name": "python"
    }
  },
  "cells": [
    {
      "cell_type": "markdown",
      "metadata": {
        "id": "3Ve8CgpE1BAA"
      },
      "source": [
        "# Introduction\n",
        "\n"
      ]
    },
    {
      "cell_type": "markdown",
      "metadata": {
        "id": "1Y3W5qXWABYT"
      },
      "source": [
        "# Dataset and Libraries setup"
      ]
    },
    {
      "cell_type": "markdown",
      "metadata": {
        "id": "2ufwrliP-uJK"
      },
      "source": [
        "##Libraries and Dataset setup\n",
        "\n",
        "Download the dataset and the libraries needed.\n",
        "\n",
        "**Libraries**\n",
        "- pandas\n",
        "- numpy\n",
        "- kaggle\n",
        "- plotly"
      ]
    },
    {
      "cell_type": "code",
      "metadata": {
        "id": "y1Mh9Ol_I88j"
      },
      "source": [
        "### Download files\n",
        "! apt-get update > /dev/null\n",
        "! apt-get upgrade > /dev/null\n",
        "! apt-get install unzip > /dev/nulll\n",
        "\n",
        "# Python libs\n",
        "! pip install -q kaggle > /dev/null\n",
        "! pip install plotly==4.14.3 > /dev/null\n",
        "! pip install -U kaleido > /dev/null"
      ],
      "execution_count": null,
      "outputs": []
    },
    {
      "cell_type": "markdown",
      "metadata": {
        "id": "k0tklqOA8XhC"
      },
      "source": [
        "Import plot and other useful libraries"
      ]
    },
    {
      "cell_type": "code",
      "metadata": {
        "id": "a86cMyQNGKAC"
      },
      "source": [
        "### Import section\n",
        "\n",
        "# Plot\n",
        "import pandas as pd\n",
        "import matplotlib.pyplot as plt\n",
        "import seaborn as sns\n",
        "import numpy as np\n",
        "import plotly.graph_objects as go\n",
        "\n",
        "# Others\n",
        "import csv\n",
        "from io import StringIO\n",
        "from datetime import datetime"
      ],
      "execution_count": null,
      "outputs": []
    },
    {
      "cell_type": "markdown",
      "metadata": {
        "id": "wOSH7YCE-7Qe"
      },
      "source": [
        "##Import dataset\n",
        "There are two ways to download the dataset, one from kaggle using kaggle api the other one from github (the dataset may be out of date)"
      ]
    },
    {
      "cell_type": "code",
      "metadata": {
        "id": "87mmzkepfj6f",
        "colab": {
          "base_uri": "https://localhost:8080/"
        },
        "outputId": "b7e36c20-b151-4e06-e02f-de8308732eef"
      },
      "source": [
        "### Delete old folders and create new ones\n",
        "! rm -r /content/data > /dev/null\n",
        "! mkdir /content/data/ > /dev/null\n",
        "! rm -r ~/.kaggle > /dev/null\n",
        "! mkdir ~/.kaggle > /dev/null"
      ],
      "execution_count": null,
      "outputs": [
        {
          "output_type": "stream",
          "name": "stdout",
          "text": [
            "rm: cannot remove '/content/data': No such file or directory\n"
          ]
        }
      ]
    },
    {
      "cell_type": "markdown",
      "metadata": {
        "id": "7vkJnrG5fqat"
      },
      "source": [
        "### Kaggle\n",
        "\n",
        "Connect to kaggle, download datataset and setup the files"
      ]
    },
    {
      "cell_type": "code",
      "metadata": {
        "id": "TknXpMfPcCvM",
        "colab": {
          "base_uri": "https://localhost:8080/"
        },
        "outputId": "2291013a-fcf8-4f1b-c1cb-8ea461e6e88a"
      },
      "source": [
        "### Kaggle download setup \n",
        "\n",
        "# Insert here the link to the token json file\n",
        "! wget --no-check-certificate 'https://docs.google.com/uc?export=download&id=1-4sfcaQg3DdP6ZoRnm0uFvM5VlMhPDSM' -P /content -O kaggle.json > /dev/null\n",
        "\n",
        "# Copy token in the right folder\n",
        "! cp kaggle.json ~/.kaggle/ > /dev/null\n",
        "! chmod 600 ~/.kaggle/kaggle.json > /dev/null\n",
        "\n",
        "# Download dataset\n",
        "! kaggle datasets download -d adityakadiwal/water-potability -p /content/data > /dev/null\n",
        "\n",
        "# Unzip and remove the zip\n",
        "! unzip /content/data/water-potability.zip -d /content/data > /dev/null\n",
        "! rm /content/data/water-potability.zip > /dev/null"
      ],
      "execution_count": null,
      "outputs": [
        {
          "output_type": "stream",
          "name": "stdout",
          "text": [
            "--2021-09-25 09:25:18--  https://docs.google.com/uc?export=download&id=1-4sfcaQg3DdP6ZoRnm0uFvM5VlMhPDSM\n",
            "Resolving docs.google.com (docs.google.com)... 172.217.219.139, 172.217.219.100, 172.217.219.113, ...\n",
            "Connecting to docs.google.com (docs.google.com)|172.217.219.139|:443... connected.\n",
            "HTTP request sent, awaiting response... 302 Moved Temporarily\n",
            "Location: https://doc-04-5s-docs.googleusercontent.com/docs/securesc/ha0ro937gcuc7l7deffksulhg5h7mbp1/db6a5npqodc377gvkgd15enp2hk0s0sp/1632561900000/08916338998030749634/*/1-4sfcaQg3DdP6ZoRnm0uFvM5VlMhPDSM?e=download [following]\n",
            "Warning: wildcards not supported in HTTP.\n",
            "--2021-09-25 09:25:18--  https://doc-04-5s-docs.googleusercontent.com/docs/securesc/ha0ro937gcuc7l7deffksulhg5h7mbp1/db6a5npqodc377gvkgd15enp2hk0s0sp/1632561900000/08916338998030749634/*/1-4sfcaQg3DdP6ZoRnm0uFvM5VlMhPDSM?e=download\n",
            "Resolving doc-04-5s-docs.googleusercontent.com (doc-04-5s-docs.googleusercontent.com)... 173.194.192.132, 2607:f8b0:4001:c0e::84\n",
            "Connecting to doc-04-5s-docs.googleusercontent.com (doc-04-5s-docs.googleusercontent.com)|173.194.192.132|:443... connected.\n",
            "HTTP request sent, awaiting response... 200 OK\n",
            "Length: 66 [application/json]\n",
            "Saving to: ‘kaggle.json’\n",
            "\n",
            "on                  100%[===================>]      66  --.-KB/s    in 0s      \n",
            "\n",
            "2021-09-25 09:25:18 (2.11 MB/s) - ‘kaggle.json’ saved [66/66]\n",
            "\n",
            "100% 251k/251k [00:00<00:00, 72.5MB/s]\n"
          ]
        }
      ]
    },
    {
      "cell_type": "markdown",
      "metadata": {
        "id": "DKQG2puuftem"
      },
      "source": [
        "### Github\n",
        "Connect to Github, download datataset and setup the files"
      ]
    },
    {
      "cell_type": "code",
      "metadata": {
        "id": "a7dIhEHgCp5R"
      },
      "source": [
        "# ### Download dataset from github repository\n",
        "\n",
        "# # Donwload all the files\n",
        "# ! wget -P /content/data https://raw.githubusercontent.com/thisispivi/Deep-Learning-Water-Potability/main/data/data.zip\n",
        "\n",
        "# # Unzip and remove the zip\n",
        "# ! unzip /content/data/data.zip -d /content/data\n",
        "# ! rm /content/data/data.zip"
      ],
      "execution_count": null,
      "outputs": []
    },
    {
      "cell_type": "markdown",
      "metadata": {
        "id": "7774NYzghPEm"
      },
      "source": [
        "## Read Files\n",
        "In this section we import the csv files."
      ]
    },
    {
      "cell_type": "code",
      "metadata": {
        "id": "HANip0NiQt2C"
      },
      "source": [
        "df = pd.read_csv('data/water_potability.csv')"
      ],
      "execution_count": null,
      "outputs": []
    },
    {
      "cell_type": "markdown",
      "metadata": {
        "id": "Tmlr_NX0nmkh"
      },
      "source": [
        "Split the dataset into label and data"
      ]
    },
    {
      "cell_type": "code",
      "metadata": {
        "id": "RtS4xSrDnmIm"
      },
      "source": [
        "labels = df['Potability']\n",
        "data = df.drop(['Potability'], axis=1)"
      ],
      "execution_count": null,
      "outputs": []
    },
    {
      "cell_type": "markdown",
      "metadata": {
        "id": "3ueMIguyma0p"
      },
      "source": [
        "# Deep Learning"
      ]
    },
    {
      "cell_type": "markdown",
      "metadata": {
        "id": "oCmltdM1mc1l"
      },
      "source": [
        "## Import Section"
      ]
    },
    {
      "cell_type": "code",
      "metadata": {
        "id": "0NTgQAtvmell"
      },
      "source": [
        "from tensorflow import keras\n",
        "from sklearn.preprocessing import StandardScaler\n",
        "from imblearn.over_sampling import SMOTE\n",
        "from sklearn.model_selection import train_test_split"
      ],
      "execution_count": null,
      "outputs": []
    },
    {
      "cell_type": "markdown",
      "metadata": {
        "id": "Zsj3Ea2ZmvIc"
      },
      "source": [
        "## Analyze Dataset\n",
        " In this section we will analyze the dataset shape, balance and if it has null values in its rows"
      ]
    },
    {
      "cell_type": "markdown",
      "metadata": {
        "id": "DXBfjRRNUn8F"
      },
      "source": [
        "### Shape\n",
        "\n",
        "Check the shape of the dataset"
      ]
    },
    {
      "cell_type": "code",
      "metadata": {
        "colab": {
          "base_uri": "https://localhost:8080/"
        },
        "id": "CQWXt386m5NS",
        "outputId": "0979e00b-2f53-4118-fcc4-0ce0f8add829"
      },
      "source": [
        "print('Data shape:', data.shape)\n",
        "print('Labels shape:', labels.shape)"
      ],
      "execution_count": null,
      "outputs": [
        {
          "output_type": "stream",
          "name": "stdout",
          "text": [
            "Data shape: (3276, 9)\n",
            "Labels shape: (3276,)\n"
          ]
        }
      ]
    },
    {
      "cell_type": "markdown",
      "metadata": {
        "id": "-oCqdHEXn6oi"
      },
      "source": [
        "### Null values\n",
        "\n",
        "Check if there are null values"
      ]
    },
    {
      "cell_type": "code",
      "metadata": {
        "colab": {
          "base_uri": "https://localhost:8080/"
        },
        "id": "Hn9v8puSn9ty",
        "outputId": "f4d3573a-2709-4188-8375-aef598e46d7f"
      },
      "source": [
        "df.isnull().sum(axis = 0)"
      ],
      "execution_count": null,
      "outputs": [
        {
          "output_type": "execute_result",
          "data": {
            "text/plain": [
              "ph                 491\n",
              "Hardness             0\n",
              "Solids               0\n",
              "Chloramines          0\n",
              "Sulfate            781\n",
              "Conductivity         0\n",
              "Organic_carbon       0\n",
              "Trihalomethanes    162\n",
              "Turbidity            0\n",
              "Potability           0\n",
              "dtype: int64"
            ]
          },
          "metadata": {},
          "execution_count": 112
        }
      ]
    },
    {
      "cell_type": "markdown",
      "metadata": {
        "id": "2QyfnpJ3oABq"
      },
      "source": [
        "There are null values so we have to fix this"
      ]
    },
    {
      "cell_type": "markdown",
      "metadata": {
        "id": "Vtf2qyspoF3t"
      },
      "source": [
        "### Balance\n",
        "\n",
        "Check if the dataset is balanced"
      ]
    },
    {
      "cell_type": "code",
      "metadata": {
        "colab": {
          "base_uri": "https://localhost:8080/"
        },
        "id": "OLS9UhojoLiz",
        "outputId": "f33a58ef-0ebf-4073-84c1-707d60926a1c"
      },
      "source": [
        "new_df = pd.DataFrame(df['Potability'])\n",
        "result = new_df['Potability'].value_counts()\n",
        "zero_percentage = round((result[0]*100)/(result[0]+result[1]),2)\n",
        "print(\"No. of 0: \"+ str(result[0]) + \"\\nNo. of 1: \" + str(result[1]) + \n",
        "      \"\\nPercentage of 0: \"+ str(zero_percentage)+ \" %\\nPercentage of 1: \"+\n",
        "      str(round((100-zero_percentage),2))+\" %\")"
      ],
      "execution_count": null,
      "outputs": [
        {
          "output_type": "stream",
          "name": "stdout",
          "text": [
            "No. of 0: 1998\n",
            "No. of 1: 1278\n",
            "Percentage of 0: 60.99 %\n",
            "Percentage of 1: 39.01 %\n"
          ]
        }
      ]
    },
    {
      "cell_type": "code",
      "metadata": {
        "colab": {
          "base_uri": "https://localhost:8080/",
          "height": 298
        },
        "id": "mPXwVtTwoVV5",
        "outputId": "ea161ea6-546e-4ab7-ffc2-b9b9faec53c8"
      },
      "source": [
        "plt.bar(x=[\"No Potability\", \"Potability\"], height=[result[0], result[1]], color=[\"royalblue\", \"indianred\"])\n",
        "plt.ylabel(\"Count\")\n",
        "plt.title(\"Number of No Potability rows vs number of Potability rows \")"
      ],
      "execution_count": null,
      "outputs": [
        {
          "output_type": "execute_result",
          "data": {
            "text/plain": [
              "Text(0.5, 1.0, 'Number of No Potability rows vs number of Potability rows ')"
            ]
          },
          "metadata": {},
          "execution_count": 57
        },
        {
          "output_type": "display_data",
          "data": {
            "image/png": "[encoded data removed]",
            "text/plain": [
              "<Figure size 432x288 with 1 Axes>"
            ]
          },
          "metadata": {
            "needs_background": "light"
          }
        }
      ]
    },
    {
      "cell_type": "code",
      "metadata": {
        "colab": {
          "base_uri": "https://localhost:8080/",
          "height": 281
        },
        "id": "75CteXZhoWyV",
        "outputId": "b9fffd54-4773-42c3-b772-0ae62a80c63b"
      },
      "source": [
        "plt.pie([result[0], result[1]], labels=[\"No Potability\", \"Potability\"], explode=(0.1, 0), autopct='%1.2f%%', colors=[\"thistle\", \"paleturquoise\"])\n",
        "plt.title(\"Percentage of No Potability vs percentage of Potability\")"
      ],
      "execution_count": null,
      "outputs": [
        {
          "output_type": "execute_result",
          "data": {
            "text/plain": [
              "Text(0.5, 1.0, 'Percentage of No Potability vs percentage of Potability')"
            ]
          },
          "metadata": {},
          "execution_count": 58
        },
        {
          "output_type": "display_data",
          "data": {
            "image/png": "[encoded data removed]",
            "text/plain": [
              "<Figure size 432x288 with 1 Axes>"
            ]
          },
          "metadata": {}
        }
      ]
    },
    {
      "cell_type": "markdown",
      "metadata": {
        "id": "olFV_O5sowpC"
      },
      "source": [
        "The dataset is not balanced."
      ]
    },
    {
      "cell_type": "markdown",
      "metadata": {
        "id": "aN2vCtepnYBe"
      },
      "source": [
        "## Outliers, Skewness and Correlation\n",
        "\n",
        "Here we want to analyze our data to understand if there are outliers, if our data is skew and if there's correlation between data."
      ]
    },
    {
      "cell_type": "markdown",
      "metadata": {
        "id": "9ZH0n6Ts-tb6"
      },
      "source": [
        "### Outliers"
      ]
    },
    {
      "cell_type": "code",
      "metadata": {
        "colab": {
          "base_uri": "https://localhost:8080/"
        },
        "id": "UfV8p5CmnXSH",
        "outputId": "68608c99-d824-4747-c4d6-ace9f883a51a"
      },
      "source": [
        "fig, ax = plt.subplots(3,3, figsize=(16,12))\n",
        "fig.suptitle('Checking Outliers')\n",
        "sns.boxplot(ax=ax[0, 0], x = df[\"ph\"], data=df)\n",
        "sns.boxplot(ax=ax[0, 1], x = df[\"Hardness\"], data=df)\n",
        "sns.boxplot(ax=ax[0, 2], x = df[\"Solids\"], data=df)\n",
        "sns.boxplot(ax=ax[1, 0], x = df[\"Chloramines\"], data=df)\n",
        "sns.boxplot(ax=ax[1, 1], x = df[\"Sulfate\"], data=df)\n",
        "sns.boxplot(ax=ax[1, 2], x = df[\"Conductivity\"], data=df)\n",
        "sns.boxplot(ax=ax[2, 0], x = df[\"Organic_carbon\"], data=df)\n",
        "sns.boxplot(ax=ax[2, 1], x = df[\"Trihalomethanes\"], data=df)\n",
        "sns.boxplot(ax=ax[2, 2], x = df[\"Turbidity\"], data=df)"
      ],
      "execution_count": null,
      "outputs": [
        {
          "output_type": "execute_result",
          "data": {
            "text/plain": [
              "<matplotlib.axes._subplots.AxesSubplot at 0x7f30e1b76810>"
            ]
          },
          "metadata": {},
          "execution_count": 59
        },
        {
          "output_type": "display_data",
          "data": {
            "image/png": "[encoded data removed]",
            "text/plain": [
              "<Figure size 1152x864 with 9 Axes>"
            ]
          },
          "metadata": {
            "needs_background": "light"
          }
        }
      ]
    },
    {
      "cell_type": "markdown",
      "metadata": {
        "id": "suJHQy-9UFQY"
      },
      "source": [
        "As we can see there are a lot of outliers (the points on the left and on the right of the bars)."
      ]
    },
    {
      "cell_type": "markdown",
      "metadata": {
        "id": "xf9dyOQtUGD2"
      },
      "source": [
        "### Skewness"
      ]
    },
    {
      "cell_type": "code",
      "metadata": {
        "colab": {
          "base_uri": "https://localhost:8080/"
        },
        "id": "bB5sUNgTATzB",
        "outputId": "7e5b23a8-4364-4056-b40e-06c9857dee2d"
      },
      "source": [
        "fig, ax = plt.subplots(3,3, figsize=(16,12))\n",
        "fig.suptitle('Checking Skewness')\n",
        "sns.distplot(ax=ax[0, 0], x = df[\"ph\"][df[\"Potability\"] == 1], color='cyan', axlabel=\"ph\")\n",
        "sns.distplot(ax=ax[0, 0], x = df[\"ph\"][df[\"Potability\"] == 0], color='violet', axlabel=\"ph\")\n",
        "ax[0, 0].legend(['Potable', 'Not Potable']) \n",
        "sns.distplot(ax=ax[0, 1], x = df[\"Hardness\"][df[\"Potability\"] == 1], color='cyan', axlabel=\"Hardness\")\n",
        "sns.distplot(ax=ax[0, 1], x = df[\"Hardness\"][df[\"Potability\"] == 0], color='violet', axlabel=\"Hardness\")\n",
        "ax[0, 1].legend(['Potable', 'Not Potable']) \n",
        "sns.distplot(ax=ax[0, 2], x = df[\"Solids\"][df[\"Potability\"] == 1], color='cyan', axlabel=\"Solids\")\n",
        "sns.distplot(ax=ax[0, 2], x = df[\"Solids\"][df[\"Potability\"] == 0], color='violet', axlabel=\"Solids\")\n",
        "ax[0, 2].legend(['Potable', 'Not Potable']) \n",
        "sns.distplot(ax=ax[1, 0], x = df[\"Chloramines\"][df[\"Potability\"] == 1], color='cyan', axlabel=\"Chloramines\")\n",
        "sns.distplot(ax=ax[1, 0], x = df[\"Chloramines\"][df[\"Potability\"] == 0], color='violet', axlabel=\"Chloramines\")\n",
        "ax[1, 0].legend(['Potable', 'Not Potable']) \n",
        "sns.distplot(ax=ax[1, 1], x = df[\"Sulfate\"][df[\"Potability\"] == 1], color='cyan', axlabel=\"Sulfate\")\n",
        "sns.distplot(ax=ax[1, 1], x = df[\"Sulfate\"][df[\"Potability\"] == 0], color='violet', axlabel=\"Sulfate\")\n",
        "ax[1, 1].legend(['Potable', 'Not Potable']) \n",
        "sns.distplot(ax=ax[1, 2], x = df[\"Conductivity\"][df[\"Potability\"] == 1], color='cyan', axlabel=\"Conductivity\")\n",
        "sns.distplot(ax=ax[1, 2], x = df[\"Conductivity\"][df[\"Potability\"] == 0], color='violet', axlabel=\"Conductivity\")\n",
        "ax[1, 2].legend(['Potable', 'Not Potable']) \n",
        "sns.distplot(ax=ax[2, 0], x = df[\"Organic_carbon\"][df[\"Potability\"] == 1], color='cyan', axlabel=\"Orgainc Carbon\")\n",
        "sns.distplot(ax=ax[2, 0], x = df[\"Organic_carbon\"][df[\"Potability\"] == 0], color='violet', axlabel=\"Orgainc Carbon\")\n",
        "ax[2, 0].legend(['Potable', 'Not Potable']) \n",
        "sns.distplot(ax=ax[2, 1], x = df[\"Trihalomethanes\"][df[\"Potability\"] == 1], color='cyan', axlabel=\"Trihalomethanes\")\n",
        "sns.distplot(ax=ax[2, 1], x = df[\"Trihalomethanes\"][df[\"Potability\"] == 0], color='violet', axlabel=\"Trihalomethanes\")\n",
        "ax[2, 1].legend(['Potable', 'Not Potable']) \n",
        "sns.distplot(ax=ax[2, 2], x = df[\"Turbidity\"][df[\"Potability\"] == 1], color='cyan', axlabel=\"Turbidity\")\n",
        "sns.distplot(ax=ax[2, 2], x = df[\"Turbidity\"][df[\"Potability\"] == 0], color='violet', axlabel=\"Turbidity\")\n",
        "ax[2, 2].legend(['Potable', 'Not Potable']) "
      ],
      "execution_count": null,
      "outputs": [
        {
          "output_type": "stream",
          "name": "stderr",
          "text": [
            "/usr/local/lib/python3.7/dist-packages/seaborn/distributions.py:2619: FutureWarning:\n",
            "\n",
            "`distplot` is a deprecated function and will be removed in a future version. Please adapt your code to use either `displot` (a figure-level function with similar flexibility) or `histplot` (an axes-level function for histograms).\n",
            "\n",
            "/usr/local/lib/python3.7/dist-packages/seaborn/distributions.py:2619: FutureWarning:\n",
            "\n",
            "`distplot` is a deprecated function and will be removed in a future version. Please adapt your code to use either `displot` (a figure-level function with similar flexibility) or `histplot` (an axes-level function for histograms).\n",
            "\n",
            "/usr/local/lib/python3.7/dist-packages/seaborn/distributions.py:2619: FutureWarning:\n",
            "\n",
            "`distplot` is a deprecated function and will be removed in a future version. Please adapt your code to use either `displot` (a figure-level function with similar flexibility) or `histplot` (an axes-level function for histograms).\n",
            "\n",
            "/usr/local/lib/python3.7/dist-packages/seaborn/distributions.py:2619: FutureWarning:\n",
            "\n",
            "`distplot` is a deprecated function and will be removed in a future version. Please adapt your code to use either `displot` (a figure-level function with similar flexibility) or `histplot` (an axes-level function for histograms).\n",
            "\n",
            "/usr/local/lib/python3.7/dist-packages/seaborn/distributions.py:2619: FutureWarning:\n",
            "\n",
            "`distplot` is a deprecated function and will be removed in a future version. Please adapt your code to use either `displot` (a figure-level function with similar flexibility) or `histplot` (an axes-level function for histograms).\n",
            "\n",
            "/usr/local/lib/python3.7/dist-packages/seaborn/distributions.py:2619: FutureWarning:\n",
            "\n",
            "`distplot` is a deprecated function and will be removed in a future version. Please adapt your code to use either `displot` (a figure-level function with similar flexibility) or `histplot` (an axes-level function for histograms).\n",
            "\n",
            "/usr/local/lib/python3.7/dist-packages/seaborn/distributions.py:2619: FutureWarning:\n",
            "\n",
            "`distplot` is a deprecated function and will be removed in a future version. Please adapt your code to use either `displot` (a figure-level function with similar flexibility) or `histplot` (an axes-level function for histograms).\n",
            "\n",
            "/usr/local/lib/python3.7/dist-packages/seaborn/distributions.py:2619: FutureWarning:\n",
            "\n",
            "`distplot` is a deprecated function and will be removed in a future version. Please adapt your code to use either `displot` (a figure-level function with similar flexibility) or `histplot` (an axes-level function for histograms).\n",
            "\n",
            "/usr/local/lib/python3.7/dist-packages/seaborn/distributions.py:2619: FutureWarning:\n",
            "\n",
            "`distplot` is a deprecated function and will be removed in a future version. Please adapt your code to use either `displot` (a figure-level function with similar flexibility) or `histplot` (an axes-level function for histograms).\n",
            "\n",
            "/usr/local/lib/python3.7/dist-packages/seaborn/distributions.py:2619: FutureWarning:\n",
            "\n",
            "`distplot` is a deprecated function and will be removed in a future version. Please adapt your code to use either `displot` (a figure-level function with similar flexibility) or `histplot` (an axes-level function for histograms).\n",
            "\n",
            "/usr/local/lib/python3.7/dist-packages/seaborn/distributions.py:2619: FutureWarning:\n",
            "\n",
            "`distplot` is a deprecated function and will be removed in a future version. Please adapt your code to use either `displot` (a figure-level function with similar flexibility) or `histplot` (an axes-level function for histograms).\n",
            "\n",
            "/usr/local/lib/python3.7/dist-packages/seaborn/distributions.py:2619: FutureWarning:\n",
            "\n",
            "`distplot` is a deprecated function and will be removed in a future version. Please adapt your code to use either `displot` (a figure-level function with similar flexibility) or `histplot` (an axes-level function for histograms).\n",
            "\n",
            "/usr/local/lib/python3.7/dist-packages/seaborn/distributions.py:2619: FutureWarning:\n",
            "\n",
            "`distplot` is a deprecated function and will be removed in a future version. Please adapt your code to use either `displot` (a figure-level function with similar flexibility) or `histplot` (an axes-level function for histograms).\n",
            "\n",
            "/usr/local/lib/python3.7/dist-packages/seaborn/distributions.py:2619: FutureWarning:\n",
            "\n",
            "`distplot` is a deprecated function and will be removed in a future version. Please adapt your code to use either `displot` (a figure-level function with similar flexibility) or `histplot` (an axes-level function for histograms).\n",
            "\n",
            "/usr/local/lib/python3.7/dist-packages/seaborn/distributions.py:2619: FutureWarning:\n",
            "\n",
            "`distplot` is a deprecated function and will be removed in a future version. Please adapt your code to use either `displot` (a figure-level function with similar flexibility) or `histplot` (an axes-level function for histograms).\n",
            "\n",
            "/usr/local/lib/python3.7/dist-packages/seaborn/distributions.py:2619: FutureWarning:\n",
            "\n",
            "`distplot` is a deprecated function and will be removed in a future version. Please adapt your code to use either `displot` (a figure-level function with similar flexibility) or `histplot` (an axes-level function for histograms).\n",
            "\n",
            "/usr/local/lib/python3.7/dist-packages/seaborn/distributions.py:2619: FutureWarning:\n",
            "\n",
            "`distplot` is a deprecated function and will be removed in a future version. Please adapt your code to use either `displot` (a figure-level function with similar flexibility) or `histplot` (an axes-level function for histograms).\n",
            "\n",
            "/usr/local/lib/python3.7/dist-packages/seaborn/distributions.py:2619: FutureWarning:\n",
            "\n",
            "`distplot` is a deprecated function and will be removed in a future version. Please adapt your code to use either `displot` (a figure-level function with similar flexibility) or `histplot` (an axes-level function for histograms).\n",
            "\n"
          ]
        },
        {
          "output_type": "execute_result",
          "data": {
            "text/plain": [
              "<matplotlib.legend.Legend at 0x7f30e1e91f90>"
            ]
          },
          "metadata": {},
          "execution_count": 60
        },
        {
          "output_type": "display_data",
          "data": {
            "image/png": "[encoded data removed]",
            "text/plain": [
              "<Figure size 1152x864 with 9 Axes>"
            ]
          },
          "metadata": {
            "needs_background": "light"
          }
        }
      ]
    },
    {
      "cell_type": "markdown",
      "metadata": {
        "id": "rDWaKrRo_j4W"
      },
      "source": [
        "Solids and Conductivity are the two columns that are affected by positive skewness.\n",
        "\n",
        "The positive skewness is a problem because it means that we have a high number of data points having low values. So when we train the model it will perform better predicting low values than higher.\n",
        "\n",
        "We can also use skewness to see the direction of the outliers. A positive skew column will have many outliers in the right side of the distribution.\n"
      ]
    },
    {
      "cell_type": "code",
      "metadata": {
        "colab": {
          "base_uri": "https://localhost:8080/"
        },
        "id": "R9xyVu_MrCnS",
        "outputId": "c56d4b68-524a-47c4-e408-f3f88de525a7"
      },
      "source": [
        "matrix = np.triu(df.corr())\n",
        "plt.subplots(figsize=(12,8))\n",
        "sns.heatmap(df.corr(), annot=True,linewidth=.01, cmap=sns.cubehelix_palette(as_cmap=True));"
      ],
      "execution_count": null,
      "outputs": [
        {
          "output_type": "display_data",
          "data": {
            "image/png": "[encoded data removed]",
            "text/plain": [
              "<Figure size 864x576 with 2 Axes>"
            ]
          },
          "metadata": {
            "needs_background": "light"
          }
        }
      ]
    },
    {
      "cell_type": "markdown",
      "metadata": {
        "id": "PuBlJEOXEklI"
      },
      "source": [
        "As we can see there is no correlation between the columns."
      ]
    },
    {
      "cell_type": "markdown",
      "metadata": {
        "id": "5pyGVNFho0UJ"
      },
      "source": [
        "## Fix Null Values\n",
        "\n",
        "In this section we will fill the null values of the columns: ph, sulfate and trihalomethanes.\n",
        "\n",
        "There are three options to fix null values:\n",
        "* **mean**: If there are outliers this is not the best solution\n",
        "* **median**: If there are outliers this is recommended\n",
        "* **drop**: If there are few rows this could be the worse because we lose many data"
      ]
    },
    {
      "cell_type": "code",
      "metadata": {
        "id": "FYtI4pJMo--2"
      },
      "source": [
        "# solution = \"mean\"\n",
        "solution = \"median\"\n",
        "# solution = \"drop\"\n",
        "\n",
        "if solution == \"mean\":\n",
        "  df.ph = df.ph.fillna(df.ph.mean())\n",
        "  df.Sulfate = df.Sulfate.fillna(df.Sulfate.mean())\n",
        "  df.Trihalomethanes = df.Trihalomethanes.fillna(df.Trihalomethanes.mean())\n",
        "elif solution == \"median\":\n",
        "  df.ph = df.ph.fillna(df.ph.median())\n",
        "  df.Sulfate = df.Sulfate.fillna(df.Sulfate.median())\n",
        "  df.Trihalomethanes = df.Trihalomethanes.fillna(df.Trihalomethanes.median())\n",
        "else:\n",
        "  df = df.dropna()"
      ],
      "execution_count": null,
      "outputs": []
    },
    {
      "cell_type": "markdown",
      "metadata": {
        "id": "hQaBKPcbZcS5"
      },
      "source": [
        "## Fix outliers\n",
        "\n",
        "We fix the outliers capping and flooring them."
      ]
    },
    {
      "cell_type": "code",
      "metadata": {
        "id": "KEqWtoYWZmjo"
      },
      "source": [
        "substitute = True\n",
        "\n",
        "if substitute == True:\n",
        "  for col in df:\n",
        "    q1 = df[col].quantile(0.25)\n",
        "    q3 = df[col].quantile(0.75)\n",
        "    iqr = q3 - q1\n",
        "    whisker_width = 1.5\n",
        "    lower_whisker = q1 -(whisker_width*iqr)\n",
        "    upper_whisker = q3 + (whisker_width*iqr)\n",
        "    df[col]=np.where(df[col]>upper_whisker,upper_whisker,np.where(df[col]<lower_whisker,lower_whisker,df[col]))"
      ],
      "execution_count": null,
      "outputs": []
    },
    {
      "cell_type": "markdown",
      "metadata": {
        "id": "L4m9clPb7AtG"
      },
      "source": [
        "Next we plotted the new boxplot to see if there are any outliers left."
      ]
    },
    {
      "cell_type": "code",
      "metadata": {
        "colab": {
          "base_uri": "https://localhost:8080/"
        },
        "id": "2wOXtlfHaU1L",
        "outputId": "9a6a8886-7641-4326-a7ba-36d2018fee0c"
      },
      "source": [
        "if substitute == True:\n",
        "  fig, ax = plt.subplots(3,3, figsize=(16,12))\n",
        "  fig.suptitle('Checking Outliers and Skewness')\n",
        "  sns.boxplot(ax=ax[0, 0], x = df[\"ph\"], data=df)\n",
        "  sns.boxplot(ax=ax[0, 1], x = df[\"Hardness\"], data=df)\n",
        "  sns.boxplot(ax=ax[0, 2], x = df[\"Solids\"], data=df)\n",
        "  sns.boxplot(ax=ax[1, 0], x = df[\"Chloramines\"], data=df)\n",
        "  sns.boxplot(ax=ax[1, 1], x = df[\"Sulfate\"], data=df)\n",
        "  sns.boxplot(ax=ax[1, 2], x = df[\"Conductivity\"], data=df)\n",
        "  sns.boxplot(ax=ax[2, 0], x = df[\"Organic_carbon\"], data=df)\n",
        "  sns.boxplot(ax=ax[2, 1], x = df[\"Trihalomethanes\"], data=df)\n",
        "  sns.boxplot(ax=ax[2, 2], x = df[\"Turbidity\"], data=df)"
      ],
      "execution_count": null,
      "outputs": [
        {
          "output_type": "display_data",
          "data": {
            "image/png": "[encoded data removed]",
            "text/plain": [
              "<Figure size 1152x864 with 9 Axes>"
            ]
          },
          "metadata": {
            "needs_background": "light"
          }
        }
      ]
    },
    {
      "cell_type": "markdown",
      "metadata": {
        "id": "TWDOpWlnpYKK"
      },
      "source": [
        "## Normalize values\n",
        "\n",
        "In this section we want to normalize the values, so we take the colums with values over 1 and with values less than 0 and we normalize them using *StandardScaler()*. This scaler uses the mean and the standard deviation to set all values to between 0 and 1."
      ]
    },
    {
      "cell_type": "code",
      "metadata": {
        "id": "Jb-xQ02bpYcP"
      },
      "source": [
        "### Normalize values\n",
        "\n",
        "# Take the columns with values over 1\n",
        "cols_for_scale = df.max()[df.max()>1]\n",
        "# Take the columns with values less than 0\n",
        "df.min()[df.min()<0] # It is none there aren't negative values\n",
        "# Normalize values\n",
        "scale = StandardScaler()\n",
        "scaled = scale.fit_transform(df[cols_for_scale.keys()])\n",
        "# Substitute the old values with the normalized ones\n",
        "i = 0\n",
        "for column in cols_for_scale.keys():\n",
        "    df[column] = scaled[:,i]\n",
        "    i += 1\n",
        "\n",
        "# Update labels and data\n",
        "labels = df['Potability']\n",
        "data = df.drop(['Potability'], axis=1)"
      ],
      "execution_count": null,
      "outputs": []
    },
    {
      "cell_type": "markdown",
      "metadata": {
        "id": "eSD9q6AapRWs"
      },
      "source": [
        "## Balance Dataset using SMOTE\n",
        "To balance the dataset we use SMOTE (Synthetic Minority Oversampling Technique).\n",
        "\n",
        "[Link](https://towardsdatascience.com/applying-smote-for-class-imbalance-with-just-a-few-lines-of-code-python-cdf603e58688)"
      ]
    },
    {
      "cell_type": "markdown",
      "metadata": {
        "id": "B6VpVyuQpyg8"
      },
      "source": [
        "Import SMOTE and resample the data"
      ]
    },
    {
      "cell_type": "code",
      "metadata": {
        "colab": {
          "base_uri": "https://localhost:8080/",
          "height": 323
        },
        "id": "xajVCB6d1FQE",
        "outputId": "f131867f-5c07-46a0-b929-09e7152a666e"
      },
      "source": [
        "sm = SMOTE()\n",
        "data_new, labels_new = sm.fit_resample(data, labels)"
      ],
      "execution_count": null,
      "outputs": [
        {
          "output_type": "error",
          "ename": "ValueError",
          "evalue": "ignored",
          "traceback": [
            "\u001b[0;31m---------------------------------------------------------------------------\u001b[0m",
            "\u001b[0;31mValueError\u001b[0m                                Traceback (most recent call last)",
            "\u001b[0;32m<ipython-input-122-bfc4a9184197>\u001b[0m in \u001b[0;36m<module>\u001b[0;34m()\u001b[0m\n\u001b[1;32m      1\u001b[0m \u001b[0msm\u001b[0m \u001b[0;34m=\u001b[0m \u001b[0mSMOTE\u001b[0m\u001b[0;34m(\u001b[0m\u001b[0;34m)\u001b[0m\u001b[0;34m\u001b[0m\u001b[0;34m\u001b[0m\u001b[0m\n\u001b[0;32m----> 2\u001b[0;31m \u001b[0mdata_new\u001b[0m\u001b[0;34m,\u001b[0m \u001b[0mlabels_new\u001b[0m \u001b[0;34m=\u001b[0m \u001b[0msm\u001b[0m\u001b[0;34m.\u001b[0m\u001b[0mfit_resample\u001b[0m\u001b[0;34m(\u001b[0m\u001b[0mdata\u001b[0m\u001b[0;34m,\u001b[0m \u001b[0mlabels\u001b[0m\u001b[0;34m)\u001b[0m\u001b[0;34m\u001b[0m\u001b[0;34m\u001b[0m\u001b[0m\n\u001b[0m",
            "\u001b[0;32m/usr/local/lib/python3.7/dist-packages/imblearn/base.py\u001b[0m in \u001b[0;36mfit_resample\u001b[0;34m(self, X, y)\u001b[0m\n\u001b[1;32m     78\u001b[0m         \u001b[0mself\u001b[0m\u001b[0;34m.\u001b[0m\u001b[0m_deprecate_ratio\u001b[0m\u001b[0;34m(\u001b[0m\u001b[0;34m)\u001b[0m\u001b[0;34m\u001b[0m\u001b[0;34m\u001b[0m\u001b[0m\n\u001b[1;32m     79\u001b[0m \u001b[0;34m\u001b[0m\u001b[0m\n\u001b[0;32m---> 80\u001b[0;31m         \u001b[0mX\u001b[0m\u001b[0;34m,\u001b[0m \u001b[0my\u001b[0m\u001b[0;34m,\u001b[0m \u001b[0mbinarize_y\u001b[0m \u001b[0;34m=\u001b[0m \u001b[0mself\u001b[0m\u001b[0;34m.\u001b[0m\u001b[0m_check_X_y\u001b[0m\u001b[0;34m(\u001b[0m\u001b[0mX\u001b[0m\u001b[0;34m,\u001b[0m \u001b[0my\u001b[0m\u001b[0;34m)\u001b[0m\u001b[0;34m\u001b[0m\u001b[0;34m\u001b[0m\u001b[0m\n\u001b[0m\u001b[1;32m     81\u001b[0m \u001b[0;34m\u001b[0m\u001b[0m\n\u001b[1;32m     82\u001b[0m         self.sampling_strategy_ = check_sampling_strategy(\n",
            "\u001b[0;32m/usr/local/lib/python3.7/dist-packages/imblearn/base.py\u001b[0m in \u001b[0;36m_check_X_y\u001b[0;34m(X, y)\u001b[0m\n\u001b[1;32m    136\u001b[0m     \u001b[0;32mdef\u001b[0m \u001b[0m_check_X_y\u001b[0m\u001b[0;34m(\u001b[0m\u001b[0mX\u001b[0m\u001b[0;34m,\u001b[0m \u001b[0my\u001b[0m\u001b[0;34m)\u001b[0m\u001b[0;34m:\u001b[0m\u001b[0;34m\u001b[0m\u001b[0;34m\u001b[0m\u001b[0m\n\u001b[1;32m    137\u001b[0m         \u001b[0my\u001b[0m\u001b[0;34m,\u001b[0m \u001b[0mbinarize_y\u001b[0m \u001b[0;34m=\u001b[0m \u001b[0mcheck_target_type\u001b[0m\u001b[0;34m(\u001b[0m\u001b[0my\u001b[0m\u001b[0;34m,\u001b[0m \u001b[0mindicate_one_vs_all\u001b[0m\u001b[0;34m=\u001b[0m\u001b[0;32mTrue\u001b[0m\u001b[0;34m)\u001b[0m\u001b[0;34m\u001b[0m\u001b[0;34m\u001b[0m\u001b[0m\n\u001b[0;32m--> 138\u001b[0;31m         \u001b[0mX\u001b[0m\u001b[0;34m,\u001b[0m \u001b[0my\u001b[0m \u001b[0;34m=\u001b[0m \u001b[0mcheck_X_y\u001b[0m\u001b[0;34m(\u001b[0m\u001b[0mX\u001b[0m\u001b[0;34m,\u001b[0m \u001b[0my\u001b[0m\u001b[0;34m,\u001b[0m \u001b[0maccept_sparse\u001b[0m\u001b[0;34m=\u001b[0m\u001b[0;34m[\u001b[0m\u001b[0;34m'csr'\u001b[0m\u001b[0;34m,\u001b[0m \u001b[0;34m'csc'\u001b[0m\u001b[0;34m]\u001b[0m\u001b[0;34m)\u001b[0m\u001b[0;34m\u001b[0m\u001b[0;34m\u001b[0m\u001b[0m\n\u001b[0m\u001b[1;32m    139\u001b[0m         \u001b[0;32mreturn\u001b[0m \u001b[0mX\u001b[0m\u001b[0;34m,\u001b[0m \u001b[0my\u001b[0m\u001b[0;34m,\u001b[0m \u001b[0mbinarize_y\u001b[0m\u001b[0;34m\u001b[0m\u001b[0;34m\u001b[0m\u001b[0m\n\u001b[1;32m    140\u001b[0m \u001b[0;34m\u001b[0m\u001b[0m\n",
            "\u001b[0;32m/usr/local/lib/python3.7/dist-packages/sklearn/utils/validation.py\u001b[0m in \u001b[0;36mcheck_X_y\u001b[0;34m(X, y, accept_sparse, accept_large_sparse, dtype, order, copy, force_all_finite, ensure_2d, allow_nd, multi_output, ensure_min_samples, ensure_min_features, y_numeric, warn_on_dtype, estimator)\u001b[0m\n\u001b[1;32m    753\u001b[0m                     \u001b[0mensure_min_features\u001b[0m\u001b[0;34m=\u001b[0m\u001b[0mensure_min_features\u001b[0m\u001b[0;34m,\u001b[0m\u001b[0;34m\u001b[0m\u001b[0;34m\u001b[0m\u001b[0m\n\u001b[1;32m    754\u001b[0m                     \u001b[0mwarn_on_dtype\u001b[0m\u001b[0;34m=\u001b[0m\u001b[0mwarn_on_dtype\u001b[0m\u001b[0;34m,\u001b[0m\u001b[0;34m\u001b[0m\u001b[0;34m\u001b[0m\u001b[0m\n\u001b[0;32m--> 755\u001b[0;31m                     estimator=estimator)\n\u001b[0m\u001b[1;32m    756\u001b[0m     \u001b[0;32mif\u001b[0m \u001b[0mmulti_output\u001b[0m\u001b[0;34m:\u001b[0m\u001b[0;34m\u001b[0m\u001b[0;34m\u001b[0m\u001b[0m\n\u001b[1;32m    757\u001b[0m         y = check_array(y, 'csr', force_all_finite=True, ensure_2d=False,\n",
            "\u001b[0;32m/usr/local/lib/python3.7/dist-packages/sklearn/utils/validation.py\u001b[0m in \u001b[0;36mcheck_array\u001b[0;34m(array, accept_sparse, accept_large_sparse, dtype, order, copy, force_all_finite, ensure_2d, allow_nd, ensure_min_samples, ensure_min_features, warn_on_dtype, estimator)\u001b[0m\n\u001b[1;32m    576\u001b[0m         \u001b[0;32mif\u001b[0m \u001b[0mforce_all_finite\u001b[0m\u001b[0;34m:\u001b[0m\u001b[0;34m\u001b[0m\u001b[0;34m\u001b[0m\u001b[0m\n\u001b[1;32m    577\u001b[0m             _assert_all_finite(array,\n\u001b[0;32m--> 578\u001b[0;31m                                allow_nan=force_all_finite == 'allow-nan')\n\u001b[0m\u001b[1;32m    579\u001b[0m \u001b[0;34m\u001b[0m\u001b[0m\n\u001b[1;32m    580\u001b[0m     \u001b[0;32mif\u001b[0m \u001b[0mensure_min_samples\u001b[0m \u001b[0;34m>\u001b[0m \u001b[0;36m0\u001b[0m\u001b[0;34m:\u001b[0m\u001b[0;34m\u001b[0m\u001b[0;34m\u001b[0m\u001b[0m\n",
            "\u001b[0;32m/usr/local/lib/python3.7/dist-packages/sklearn/utils/validation.py\u001b[0m in \u001b[0;36m_assert_all_finite\u001b[0;34m(X, allow_nan, msg_dtype)\u001b[0m\n\u001b[1;32m     58\u001b[0m                     \u001b[0mmsg_err\u001b[0m\u001b[0;34m.\u001b[0m\u001b[0mformat\u001b[0m\u001b[0;34m\u001b[0m\u001b[0;34m\u001b[0m\u001b[0m\n\u001b[1;32m     59\u001b[0m                     (type_err,\n\u001b[0;32m---> 60\u001b[0;31m                      msg_dtype if msg_dtype is not None else X.dtype)\n\u001b[0m\u001b[1;32m     61\u001b[0m             )\n\u001b[1;32m     62\u001b[0m     \u001b[0;31m# for object dtype data, we only check for NaNs (GH-13254)\u001b[0m\u001b[0;34m\u001b[0m\u001b[0;34m\u001b[0m\u001b[0;34m\u001b[0m\u001b[0m\n",
            "\u001b[0;31mValueError\u001b[0m: Input contains NaN, infinity or a value too large for dtype('float64')."
          ]
        }
      ]
    },
    {
      "cell_type": "code",
      "metadata": {
        "colab": {
          "base_uri": "https://localhost:8080/"
        },
        "id": "SLxXqJM-1j3y",
        "outputId": "458be08c-d281-42f4-96ad-6dfac0b10074"
      },
      "source": [
        "print('Data shape:', data_new.shape)\n",
        "print('Labels shape:', labels_new.shape)"
      ],
      "execution_count": null,
      "outputs": [
        {
          "output_type": "stream",
          "name": "stdout",
          "text": [
            "Data shape: (3996, 9)\n",
            "Labels shape: (3996,)\n"
          ]
        }
      ]
    },
    {
      "cell_type": "code",
      "metadata": {
        "colab": {
          "base_uri": "https://localhost:8080/"
        },
        "id": "MSHGtjXF_RWp",
        "outputId": "1856fae4-d904-4ee0-e32d-feac49825efd"
      },
      "source": [
        "new_df = pd.Series(labels_new)\n",
        "result = new_df.value_counts()\n",
        "zero_percentage = round((result[0]*100)/(result[0]+result[1]),2)\n",
        "print(\"No. of 0: \"+ str(result[0]) + \"\\nNo. of 1: \" + str(result[1]) + \n",
        "      \"\\nPercentage of 0: \"+ str(zero_percentage)+ \" %\\nPercentage of 1: \"+\n",
        "      str(round((100-zero_percentage),2))+\" %\")"
      ],
      "execution_count": null,
      "outputs": [
        {
          "output_type": "stream",
          "name": "stdout",
          "text": [
            "No. of 0: 1998\n",
            "No. of 1: 1998\n",
            "Percentage of 0: 50.0 %\n",
            "Percentage of 1: 50.0 %\n"
          ]
        }
      ]
    },
    {
      "cell_type": "code",
      "metadata": {
        "colab": {
          "base_uri": "https://localhost:8080/",
          "height": 298
        },
        "id": "RCTevXYXp-mK",
        "outputId": "be13abc8-812e-40ef-e36a-4c4ceaf965da"
      },
      "source": [
        "plt.bar(x=[\"No Potability\", \"Potability\"], height=[result[0], result[1]], color=[\"royalblue\", \"indianred\"])\n",
        "plt.ylabel(\"Count\")\n",
        "plt.title(\"Number of No Potability rows vs number of Potability rows \")"
      ],
      "execution_count": null,
      "outputs": [
        {
          "output_type": "execute_result",
          "data": {
            "text/plain": [
              "Text(0.5, 1.0, 'Number of No Potability rows vs number of Potability rows ')"
            ]
          },
          "metadata": {},
          "execution_count": 69
        },
        {
          "output_type": "display_data",
          "data": {
            "image/png": "[encoded data removed]",
            "text/plain": [
              "<Figure size 432x288 with 1 Axes>"
            ]
          },
          "metadata": {
            "needs_background": "light"
          }
        }
      ]
    },
    {
      "cell_type": "code",
      "metadata": {
        "colab": {
          "base_uri": "https://localhost:8080/",
          "height": 281
        },
        "id": "oWYkBErAqBdu",
        "outputId": "3be7e3b1-aae4-4c5b-ae2a-13e4512c9d54"
      },
      "source": [
        "plt.pie([result[0], result[1]], labels=[\"No Potability\", \"Potability\"], explode=(0.1, 0), autopct='%1.2f%%', colors=[\"thistle\", \"paleturquoise\"])\n",
        "plt.title(\"Percentage of No Potability vs percentage of Potability\")"
      ],
      "execution_count": null,
      "outputs": [
        {
          "output_type": "execute_result",
          "data": {
            "text/plain": [
              "Text(0.5, 1.0, 'Percentage of No Potability vs percentage of Potability')"
            ]
          },
          "metadata": {},
          "execution_count": 70
        },
        {
          "output_type": "display_data",
          "data": {
            "image/png": "[encoded data removed]",
            "text/plain": [
              "<Figure size 432x288 with 1 Axes>"
            ]
          },
          "metadata": {}
        }
      ]
    },
    {
      "cell_type": "markdown",
      "metadata": {
        "id": "OP_YauwlqE3s"
      },
      "source": [
        "## Split data into training, validation and test set"
      ]
    },
    {
      "cell_type": "markdown",
      "metadata": {
        "id": "fEOXCixGqHT8"
      },
      "source": [
        "Split the data in:\n",
        "* x_train: The training set data\n",
        "* y_train: The training set label\n",
        "* x_valid: The validation set data\n",
        "* y_valid: The validation set label\n",
        "* x_test: The validation set data\n",
        "* y_test: The validation set label\n",
        "\n",
        "The dimension will be something like\n",
        "\n",
        "* Training: 70%\n",
        "* Validation: 20%\n",
        "* Test: 10%"
      ]
    },
    {
      "cell_type": "code",
      "metadata": {
        "id": "UWwfEB7BgwFD"
      },
      "source": [
        "x_train, x_test, y_train, y_test = train_test_split(data_new, labels_new, train_size=0.9)\n",
        "x_train, x_valid, y_train, y_valid = train_test_split(x_train, y_train, train_size=0.8)"
      ],
      "execution_count": null,
      "outputs": []
    },
    {
      "cell_type": "markdown",
      "metadata": {
        "id": "ENYFHN9fqNRO"
      },
      "source": [
        "Print all the sizes"
      ]
    },
    {
      "cell_type": "code",
      "metadata": {
        "colab": {
          "base_uri": "https://localhost:8080/"
        },
        "id": "jtEKg4t3qORm",
        "outputId": "cc8ce50b-b460-41b5-cf03-a99ec5dfc4b2"
      },
      "source": [
        "print('Train data shape:', x_train.shape)\n",
        "print('Train labels shape:', y_train.shape)\n",
        "print('Validation data shape:', x_valid.shape)\n",
        "print('Validation labels shape:', y_valid.shape)\n",
        "print('Test data shape:', x_test.shape)\n",
        "print('Test labels shape:', y_test.shape)"
      ],
      "execution_count": null,
      "outputs": [
        {
          "output_type": "stream",
          "name": "stdout",
          "text": [
            "Train data shape: (2876, 9)\n",
            "Train labels shape: (2876,)\n",
            "Validation data shape: (720, 9)\n",
            "Validation labels shape: (720,)\n",
            "Test data shape: (400, 9)\n",
            "Test labels shape: (400,)\n"
          ]
        }
      ]
    },
    {
      "cell_type": "markdown",
      "metadata": {
        "id": "60HT1pwCxI0F"
      },
      "source": [
        "## Create New Model"
      ]
    },
    {
      "cell_type": "markdown",
      "metadata": {
        "id": "691U7JYNE_a0"
      },
      "source": [
        "### Options\n",
        "\n",
        "In this section there are some boolean variables to tune what the code will do:\n",
        "\n",
        "* train_model -> True: the network will be trained / False: network wont' be trained\n",
        "* model_loss -> True: plot the model loss / False: don't plot the model loss\n",
        "* model_accuracy -> True: plot the model accuracy / False: don't plot the model accuracy\n",
        "* evaluate_model -> True: evaluate the model / False: don't evaluate the model\n",
        "* conf_matr -> True: plot the confusion matrix / False: don't plot the confusion matrix\n",
        "* plot_model -> True: plot the structure of the network / False: don't plot the structure of the network\n",
        "* save_model -> True: save the model / False: don't save the model"
      ]
    },
    {
      "cell_type": "code",
      "metadata": {
        "id": "HoljJF-6E__7"
      },
      "source": [
        "train_model = True\n",
        "model_loss = True\n",
        "model_accuracy = True\n",
        "evaluate_model = True\n",
        "conf_matr = True\n",
        "plot_model = True\n",
        "save_model = False"
      ],
      "execution_count": null,
      "outputs": []
    },
    {
      "cell_type": "markdown",
      "metadata": {
        "id": "SJ5uNrhyEXu-"
      },
      "source": [
        "### Create the network"
      ]
    },
    {
      "cell_type": "code",
      "metadata": {
        "id": "orkv-WlKxLBp"
      },
      "source": [
        "def get_model():\n",
        "  model = keras.models.Sequential()\n",
        "  model.add(keras.layers.Dense(64, activation='relu', input_shape=(9,)))\n",
        "  model.add(keras.layers.Dropout(0.5))\n",
        "  model.add(keras.layers.Dense(48,kernel_regularizer=keras.regularizers.l2(0.001), activation='relu'))\n",
        "  model.add(keras.layers.Dropout(0.5))\n",
        "  model.add(keras.layers.Dense(32,kernel_regularizer=keras.regularizers.l2(0.001), activation='relu'))\n",
        "  model.add(keras.layers.Dropout(0.5))\n",
        "  model.add(keras.layers.Dense(16,kernel_regularizer=keras.regularizers.l2(0.001), activation='relu'))\n",
        "  model.add(keras.layers.Dropout(0.5))\n",
        "  model.add(keras.layers.Dense(1, activation='sigmoid'))\n",
        "  model.compile(optimizer = keras.optimizers.Adam(learning_rate=0.001), loss='binary_crossentropy',metrics=['accuracy'])\n",
        "  return model\n",
        "\n",
        "model = get_model()"
      ],
      "execution_count": null,
      "outputs": []
    },
    {
      "cell_type": "markdown",
      "metadata": {
        "id": "LigW-AsMEbri"
      },
      "source": [
        "### Train the network"
      ]
    },
    {
      "cell_type": "code",
      "metadata": {
        "id": "D9EaKz5dzOeL",
        "colab": {
          "base_uri": "https://localhost:8080/"
        },
        "outputId": "41bf3c70-9951-4fa7-e486-3b33d4a51c25"
      },
      "source": [
        "if train_model == True and solution != \"drop\":\n",
        "  history = model.fit(x_train, y_train, epochs=200, validation_data=(x_valid,y_valid))"
      ],
      "execution_count": null,
      "outputs": [
        {
          "output_type": "stream",
          "name": "stdout",
          "text": [
            "Epoch 1/200\n",
            "90/90 [==============================] - 2s 6ms/step - loss: 0.8447 - accuracy: 0.4990 - val_loss: 0.7991 - val_accuracy: 0.5014\n",
            "Epoch 2/200\n",
            "90/90 [==============================] - 0s 3ms/step - loss: 0.8042 - accuracy: 0.4864 - val_loss: 0.7914 - val_accuracy: 0.5069\n",
            "Epoch 3/200\n",
            "90/90 [==============================] - 0s 4ms/step - loss: 0.7978 - accuracy: 0.4917 - val_loss: 0.7843 - val_accuracy: 0.5069\n",
            "Epoch 4/200\n",
            "90/90 [==============================] - 0s 4ms/step - loss: 0.7828 - accuracy: 0.5090 - val_loss: 0.7774 - val_accuracy: 0.5069\n",
            "Epoch 5/200\n",
            "90/90 [==============================] - 0s 3ms/step - loss: 0.7753 - accuracy: 0.5031 - val_loss: 0.7710 - val_accuracy: 0.5028\n",
            "Epoch 6/200\n",
            "90/90 [==============================] - 0s 3ms/step - loss: 0.7697 - accuracy: 0.4986 - val_loss: 0.7645 - val_accuracy: 0.5069\n",
            "Epoch 7/200\n",
            "90/90 [==============================] - 0s 3ms/step - loss: 0.7626 - accuracy: 0.5170 - val_loss: 0.7584 - val_accuracy: 0.5292\n",
            "Epoch 8/200\n",
            "90/90 [==============================] - 0s 3ms/step - loss: 0.7570 - accuracy: 0.5156 - val_loss: 0.7526 - val_accuracy: 0.5361\n",
            "Epoch 9/200\n",
            "90/90 [==============================] - 0s 3ms/step - loss: 0.7486 - accuracy: 0.5268 - val_loss: 0.7468 - val_accuracy: 0.5500\n",
            "Epoch 10/200\n",
            "90/90 [==============================] - 0s 3ms/step - loss: 0.7445 - accuracy: 0.5150 - val_loss: 0.7418 - val_accuracy: 0.5556\n",
            "Epoch 11/200\n",
            "90/90 [==============================] - 0s 3ms/step - loss: 0.7387 - accuracy: 0.5205 - val_loss: 0.7369 - val_accuracy: 0.5417\n",
            "Epoch 12/200\n",
            "90/90 [==============================] - 0s 3ms/step - loss: 0.7350 - accuracy: 0.5146 - val_loss: 0.7330 - val_accuracy: 0.5444\n",
            "Epoch 13/200\n",
            "90/90 [==============================] - 0s 3ms/step - loss: 0.7295 - accuracy: 0.5275 - val_loss: 0.7276 - val_accuracy: 0.5472\n",
            "Epoch 14/200\n",
            "90/90 [==============================] - 0s 3ms/step - loss: 0.7248 - accuracy: 0.5362 - val_loss: 0.7220 - val_accuracy: 0.5486\n",
            "Epoch 15/200\n",
            "90/90 [==============================] - 0s 3ms/step - loss: 0.7221 - accuracy: 0.5355 - val_loss: 0.7181 - val_accuracy: 0.5444\n",
            "Epoch 16/200\n",
            "90/90 [==============================] - 0s 3ms/step - loss: 0.7143 - accuracy: 0.5504 - val_loss: 0.7094 - val_accuracy: 0.5556\n",
            "Epoch 17/200\n",
            "90/90 [==============================] - 0s 4ms/step - loss: 0.7147 - accuracy: 0.5327 - val_loss: 0.7065 - val_accuracy: 0.5542\n",
            "Epoch 18/200\n",
            "90/90 [==============================] - 0s 3ms/step - loss: 0.7081 - accuracy: 0.5508 - val_loss: 0.7008 - val_accuracy: 0.5833\n",
            "Epoch 19/200\n",
            "90/90 [==============================] - 0s 3ms/step - loss: 0.7038 - accuracy: 0.5553 - val_loss: 0.6947 - val_accuracy: 0.5986\n",
            "Epoch 20/200\n",
            "90/90 [==============================] - 0s 3ms/step - loss: 0.6997 - accuracy: 0.5688 - val_loss: 0.6866 - val_accuracy: 0.6250\n",
            "Epoch 21/200\n",
            "90/90 [==============================] - 0s 3ms/step - loss: 0.6959 - accuracy: 0.5647 - val_loss: 0.6794 - val_accuracy: 0.6361\n",
            "Epoch 22/200\n",
            "90/90 [==============================] - 0s 3ms/step - loss: 0.6907 - accuracy: 0.5928 - val_loss: 0.6717 - val_accuracy: 0.6306\n",
            "Epoch 23/200\n",
            "90/90 [==============================] - 0s 3ms/step - loss: 0.6843 - accuracy: 0.5876 - val_loss: 0.6697 - val_accuracy: 0.6278\n",
            "Epoch 24/200\n",
            "90/90 [==============================] - 0s 3ms/step - loss: 0.6834 - accuracy: 0.5862 - val_loss: 0.6686 - val_accuracy: 0.6292\n",
            "Epoch 25/200\n",
            "90/90 [==============================] - 0s 3ms/step - loss: 0.6778 - accuracy: 0.5984 - val_loss: 0.6642 - val_accuracy: 0.6431\n",
            "Epoch 26/200\n",
            "90/90 [==============================] - 0s 3ms/step - loss: 0.6749 - accuracy: 0.6040 - val_loss: 0.6533 - val_accuracy: 0.6278\n",
            "Epoch 27/200\n",
            "90/90 [==============================] - 0s 3ms/step - loss: 0.6742 - accuracy: 0.6050 - val_loss: 0.6539 - val_accuracy: 0.6472\n",
            "Epoch 28/200\n",
            "90/90 [==============================] - 0s 3ms/step - loss: 0.6669 - accuracy: 0.6147 - val_loss: 0.6495 - val_accuracy: 0.6444\n",
            "Epoch 29/200\n",
            "90/90 [==============================] - 0s 3ms/step - loss: 0.6700 - accuracy: 0.6158 - val_loss: 0.6511 - val_accuracy: 0.6417\n",
            "Epoch 30/200\n",
            "90/90 [==============================] - 0s 4ms/step - loss: 0.6651 - accuracy: 0.6217 - val_loss: 0.6436 - val_accuracy: 0.6500\n",
            "Epoch 31/200\n",
            "90/90 [==============================] - 0s 4ms/step - loss: 0.6669 - accuracy: 0.6189 - val_loss: 0.6462 - val_accuracy: 0.6486\n",
            "Epoch 32/200\n",
            "90/90 [==============================] - 0s 4ms/step - loss: 0.6596 - accuracy: 0.6255 - val_loss: 0.6423 - val_accuracy: 0.6458\n",
            "Epoch 33/200\n",
            "90/90 [==============================] - 0s 4ms/step - loss: 0.6622 - accuracy: 0.6241 - val_loss: 0.6426 - val_accuracy: 0.6486\n",
            "Epoch 34/200\n",
            "90/90 [==============================] - 0s 3ms/step - loss: 0.6595 - accuracy: 0.6311 - val_loss: 0.6399 - val_accuracy: 0.6528\n",
            "Epoch 35/200\n",
            "90/90 [==============================] - 0s 3ms/step - loss: 0.6479 - accuracy: 0.6457 - val_loss: 0.6375 - val_accuracy: 0.6403\n",
            "Epoch 36/200\n",
            "90/90 [==============================] - 0s 3ms/step - loss: 0.6566 - accuracy: 0.6398 - val_loss: 0.6400 - val_accuracy: 0.6417\n",
            "Epoch 37/200\n",
            "90/90 [==============================] - 0s 3ms/step - loss: 0.6621 - accuracy: 0.6241 - val_loss: 0.6423 - val_accuracy: 0.6444\n",
            "Epoch 38/200\n",
            "90/90 [==============================] - 0s 3ms/step - loss: 0.6531 - accuracy: 0.6366 - val_loss: 0.6377 - val_accuracy: 0.6486\n",
            "Epoch 39/200\n",
            "90/90 [==============================] - 0s 3ms/step - loss: 0.6516 - accuracy: 0.6373 - val_loss: 0.6358 - val_accuracy: 0.6458\n",
            "Epoch 40/200\n",
            "90/90 [==============================] - 0s 3ms/step - loss: 0.6592 - accuracy: 0.6283 - val_loss: 0.6345 - val_accuracy: 0.6528\n",
            "Epoch 41/200\n",
            "90/90 [==============================] - 0s 3ms/step - loss: 0.6549 - accuracy: 0.6412 - val_loss: 0.6349 - val_accuracy: 0.6500\n",
            "Epoch 42/200\n",
            "90/90 [==============================] - 0s 3ms/step - loss: 0.6452 - accuracy: 0.6457 - val_loss: 0.6330 - val_accuracy: 0.6458\n",
            "Epoch 43/200\n",
            "90/90 [==============================] - 0s 3ms/step - loss: 0.6587 - accuracy: 0.6304 - val_loss: 0.6375 - val_accuracy: 0.6500\n",
            "Epoch 44/200\n",
            "90/90 [==============================] - 0s 3ms/step - loss: 0.6417 - accuracy: 0.6492 - val_loss: 0.6325 - val_accuracy: 0.6542\n",
            "Epoch 45/200\n",
            "90/90 [==============================] - 0s 3ms/step - loss: 0.6458 - accuracy: 0.6481 - val_loss: 0.6339 - val_accuracy: 0.6528\n",
            "Epoch 46/200\n",
            "90/90 [==============================] - 0s 3ms/step - loss: 0.6511 - accuracy: 0.6356 - val_loss: 0.6349 - val_accuracy: 0.6500\n",
            "Epoch 47/200\n",
            "90/90 [==============================] - 0s 4ms/step - loss: 0.6461 - accuracy: 0.6419 - val_loss: 0.6333 - val_accuracy: 0.6431\n",
            "Epoch 48/200\n",
            "90/90 [==============================] - 0s 3ms/step - loss: 0.6419 - accuracy: 0.6488 - val_loss: 0.6319 - val_accuracy: 0.6444\n",
            "Epoch 49/200\n",
            "90/90 [==============================] - 0s 3ms/step - loss: 0.6476 - accuracy: 0.6446 - val_loss: 0.6353 - val_accuracy: 0.6486\n",
            "Epoch 50/200\n",
            "90/90 [==============================] - 0s 3ms/step - loss: 0.6391 - accuracy: 0.6495 - val_loss: 0.6322 - val_accuracy: 0.6472\n",
            "Epoch 51/200\n",
            "90/90 [==============================] - 0s 3ms/step - loss: 0.6401 - accuracy: 0.6537 - val_loss: 0.6327 - val_accuracy: 0.6528\n",
            "Epoch 52/200\n",
            "90/90 [==============================] - 0s 3ms/step - loss: 0.6463 - accuracy: 0.6328 - val_loss: 0.6326 - val_accuracy: 0.6639\n",
            "Epoch 53/200\n",
            "90/90 [==============================] - 0s 3ms/step - loss: 0.6485 - accuracy: 0.6446 - val_loss: 0.6324 - val_accuracy: 0.6611\n",
            "Epoch 54/200\n",
            "90/90 [==============================] - 0s 4ms/step - loss: 0.6386 - accuracy: 0.6540 - val_loss: 0.6285 - val_accuracy: 0.6486\n",
            "Epoch 55/200\n",
            "90/90 [==============================] - 0s 3ms/step - loss: 0.6417 - accuracy: 0.6478 - val_loss: 0.6288 - val_accuracy: 0.6625\n",
            "Epoch 56/200\n",
            "90/90 [==============================] - 0s 3ms/step - loss: 0.6445 - accuracy: 0.6457 - val_loss: 0.6315 - val_accuracy: 0.6542\n",
            "Epoch 57/200\n",
            "90/90 [==============================] - 0s 4ms/step - loss: 0.6441 - accuracy: 0.6387 - val_loss: 0.6328 - val_accuracy: 0.6500\n",
            "Epoch 58/200\n",
            "90/90 [==============================] - 0s 3ms/step - loss: 0.6464 - accuracy: 0.6495 - val_loss: 0.6319 - val_accuracy: 0.6458\n",
            "Epoch 59/200\n",
            "90/90 [==============================] - 0s 3ms/step - loss: 0.6412 - accuracy: 0.6353 - val_loss: 0.6310 - val_accuracy: 0.6472\n",
            "Epoch 60/200\n",
            "90/90 [==============================] - 0s 3ms/step - loss: 0.6386 - accuracy: 0.6592 - val_loss: 0.6323 - val_accuracy: 0.6444\n",
            "Epoch 61/200\n",
            "90/90 [==============================] - 0s 3ms/step - loss: 0.6447 - accuracy: 0.6547 - val_loss: 0.6334 - val_accuracy: 0.6542\n",
            "Epoch 62/200\n",
            "90/90 [==============================] - 0s 3ms/step - loss: 0.6356 - accuracy: 0.6589 - val_loss: 0.6280 - val_accuracy: 0.6625\n",
            "Epoch 63/200\n",
            "90/90 [==============================] - 0s 3ms/step - loss: 0.6388 - accuracy: 0.6599 - val_loss: 0.6307 - val_accuracy: 0.6500\n",
            "Epoch 64/200\n",
            "90/90 [==============================] - 0s 3ms/step - loss: 0.6387 - accuracy: 0.6579 - val_loss: 0.6320 - val_accuracy: 0.6597\n",
            "Epoch 65/200\n",
            "90/90 [==============================] - 0s 3ms/step - loss: 0.6415 - accuracy: 0.6561 - val_loss: 0.6365 - val_accuracy: 0.6403\n",
            "Epoch 66/200\n",
            "90/90 [==============================] - 0s 3ms/step - loss: 0.6424 - accuracy: 0.6561 - val_loss: 0.6304 - val_accuracy: 0.6597\n",
            "Epoch 67/200\n",
            "90/90 [==============================] - 0s 3ms/step - loss: 0.6323 - accuracy: 0.6599 - val_loss: 0.6287 - val_accuracy: 0.6597\n",
            "Epoch 68/200\n",
            "90/90 [==============================] - 0s 3ms/step - loss: 0.6433 - accuracy: 0.6464 - val_loss: 0.6303 - val_accuracy: 0.6486\n",
            "Epoch 69/200\n",
            "90/90 [==============================] - 0s 3ms/step - loss: 0.6394 - accuracy: 0.6631 - val_loss: 0.6324 - val_accuracy: 0.6431\n",
            "Epoch 70/200\n",
            "90/90 [==============================] - 0s 3ms/step - loss: 0.6401 - accuracy: 0.6551 - val_loss: 0.6292 - val_accuracy: 0.6569\n",
            "Epoch 71/200\n",
            "90/90 [==============================] - 0s 4ms/step - loss: 0.6449 - accuracy: 0.6471 - val_loss: 0.6315 - val_accuracy: 0.6611\n",
            "Epoch 72/200\n",
            "90/90 [==============================] - 0s 3ms/step - loss: 0.6356 - accuracy: 0.6592 - val_loss: 0.6323 - val_accuracy: 0.6472\n",
            "Epoch 73/200\n",
            "90/90 [==============================] - 0s 3ms/step - loss: 0.6358 - accuracy: 0.6519 - val_loss: 0.6285 - val_accuracy: 0.6569\n",
            "Epoch 74/200\n",
            "90/90 [==============================] - 0s 4ms/step - loss: 0.6352 - accuracy: 0.6589 - val_loss: 0.6307 - val_accuracy: 0.6528\n",
            "Epoch 75/200\n",
            "90/90 [==============================] - 0s 4ms/step - loss: 0.6289 - accuracy: 0.6693 - val_loss: 0.6280 - val_accuracy: 0.6597\n",
            "Epoch 76/200\n",
            "90/90 [==============================] - 0s 3ms/step - loss: 0.6440 - accuracy: 0.6478 - val_loss: 0.6302 - val_accuracy: 0.6597\n",
            "Epoch 77/200\n",
            "90/90 [==============================] - 0s 4ms/step - loss: 0.6344 - accuracy: 0.6582 - val_loss: 0.6284 - val_accuracy: 0.6556\n",
            "Epoch 78/200\n",
            "90/90 [==============================] - 0s 4ms/step - loss: 0.6357 - accuracy: 0.6606 - val_loss: 0.6309 - val_accuracy: 0.6667\n",
            "Epoch 79/200\n",
            "90/90 [==============================] - 0s 4ms/step - loss: 0.6406 - accuracy: 0.6551 - val_loss: 0.6310 - val_accuracy: 0.6556\n",
            "Epoch 80/200\n",
            "90/90 [==============================] - 0s 3ms/step - loss: 0.6319 - accuracy: 0.6634 - val_loss: 0.6309 - val_accuracy: 0.6542\n",
            "Epoch 81/200\n",
            "90/90 [==============================] - 0s 3ms/step - loss: 0.6350 - accuracy: 0.6537 - val_loss: 0.6303 - val_accuracy: 0.6556\n",
            "Epoch 82/200\n",
            "90/90 [==============================] - 0s 3ms/step - loss: 0.6339 - accuracy: 0.6572 - val_loss: 0.6277 - val_accuracy: 0.6639\n",
            "Epoch 83/200\n",
            "90/90 [==============================] - 0s 4ms/step - loss: 0.6318 - accuracy: 0.6690 - val_loss: 0.6283 - val_accuracy: 0.6569\n",
            "Epoch 84/200\n",
            "90/90 [==============================] - 0s 3ms/step - loss: 0.6361 - accuracy: 0.6613 - val_loss: 0.6283 - val_accuracy: 0.6556\n",
            "Epoch 85/200\n",
            "90/90 [==============================] - 0s 3ms/step - loss: 0.6273 - accuracy: 0.6599 - val_loss: 0.6261 - val_accuracy: 0.6625\n",
            "Epoch 86/200\n",
            "90/90 [==============================] - 0s 3ms/step - loss: 0.6300 - accuracy: 0.6617 - val_loss: 0.6263 - val_accuracy: 0.6681\n",
            "Epoch 87/200\n",
            "90/90 [==============================] - 0s 4ms/step - loss: 0.6342 - accuracy: 0.6617 - val_loss: 0.6258 - val_accuracy: 0.6542\n",
            "Epoch 88/200\n",
            "90/90 [==============================] - 0s 3ms/step - loss: 0.6401 - accuracy: 0.6627 - val_loss: 0.6295 - val_accuracy: 0.6681\n",
            "Epoch 89/200\n",
            "90/90 [==============================] - 0s 3ms/step - loss: 0.6207 - accuracy: 0.6662 - val_loss: 0.6239 - val_accuracy: 0.6542\n",
            "Epoch 90/200\n",
            "90/90 [==============================] - 0s 3ms/step - loss: 0.6398 - accuracy: 0.6638 - val_loss: 0.6279 - val_accuracy: 0.6639\n",
            "Epoch 91/200\n",
            "90/90 [==============================] - 0s 3ms/step - loss: 0.6335 - accuracy: 0.6714 - val_loss: 0.6269 - val_accuracy: 0.6458\n",
            "Epoch 92/200\n",
            "90/90 [==============================] - 0s 3ms/step - loss: 0.6328 - accuracy: 0.6666 - val_loss: 0.6263 - val_accuracy: 0.6597\n",
            "Epoch 93/200\n",
            "90/90 [==============================] - 0s 3ms/step - loss: 0.6287 - accuracy: 0.6613 - val_loss: 0.6261 - val_accuracy: 0.6569\n",
            "Epoch 94/200\n",
            "90/90 [==============================] - 0s 4ms/step - loss: 0.6310 - accuracy: 0.6624 - val_loss: 0.6265 - val_accuracy: 0.6597\n",
            "Epoch 95/200\n",
            "90/90 [==============================] - 0s 3ms/step - loss: 0.6267 - accuracy: 0.6624 - val_loss: 0.6259 - val_accuracy: 0.6597\n",
            "Epoch 96/200\n",
            "90/90 [==============================] - 0s 3ms/step - loss: 0.6346 - accuracy: 0.6606 - val_loss: 0.6275 - val_accuracy: 0.6486\n",
            "Epoch 97/200\n",
            "90/90 [==============================] - 0s 3ms/step - loss: 0.6319 - accuracy: 0.6693 - val_loss: 0.6252 - val_accuracy: 0.6569\n",
            "Epoch 98/200\n",
            "90/90 [==============================] - 0s 3ms/step - loss: 0.6288 - accuracy: 0.6777 - val_loss: 0.6262 - val_accuracy: 0.6639\n",
            "Epoch 99/200\n",
            "90/90 [==============================] - 0s 3ms/step - loss: 0.6321 - accuracy: 0.6582 - val_loss: 0.6256 - val_accuracy: 0.6569\n",
            "Epoch 100/200\n",
            "90/90 [==============================] - 0s 3ms/step - loss: 0.6308 - accuracy: 0.6679 - val_loss: 0.6273 - val_accuracy: 0.6653\n",
            "Epoch 101/200\n",
            "90/90 [==============================] - 0s 3ms/step - loss: 0.6258 - accuracy: 0.6683 - val_loss: 0.6237 - val_accuracy: 0.6667\n",
            "Epoch 102/200\n",
            "90/90 [==============================] - 0s 3ms/step - loss: 0.6305 - accuracy: 0.6742 - val_loss: 0.6261 - val_accuracy: 0.6625\n",
            "Epoch 103/200\n",
            "90/90 [==============================] - 0s 3ms/step - loss: 0.6283 - accuracy: 0.6742 - val_loss: 0.6244 - val_accuracy: 0.6694\n",
            "Epoch 104/200\n",
            "90/90 [==============================] - 0s 4ms/step - loss: 0.6343 - accuracy: 0.6624 - val_loss: 0.6259 - val_accuracy: 0.6639\n",
            "Epoch 105/200\n",
            "90/90 [==============================] - 0s 3ms/step - loss: 0.6304 - accuracy: 0.6648 - val_loss: 0.6249 - val_accuracy: 0.6681\n",
            "Epoch 106/200\n",
            "90/90 [==============================] - 0s 4ms/step - loss: 0.6241 - accuracy: 0.6690 - val_loss: 0.6256 - val_accuracy: 0.6611\n",
            "Epoch 107/200\n",
            "90/90 [==============================] - 0s 3ms/step - loss: 0.6319 - accuracy: 0.6672 - val_loss: 0.6254 - val_accuracy: 0.6597\n",
            "Epoch 108/200\n",
            "90/90 [==============================] - 0s 3ms/step - loss: 0.6257 - accuracy: 0.6603 - val_loss: 0.6235 - val_accuracy: 0.6694\n",
            "Epoch 109/200\n",
            "90/90 [==============================] - 0s 3ms/step - loss: 0.6248 - accuracy: 0.6711 - val_loss: 0.6273 - val_accuracy: 0.6611\n",
            "Epoch 110/200\n",
            "90/90 [==============================] - 0s 3ms/step - loss: 0.6292 - accuracy: 0.6773 - val_loss: 0.6275 - val_accuracy: 0.6583\n",
            "Epoch 111/200\n",
            "90/90 [==============================] - 0s 3ms/step - loss: 0.6283 - accuracy: 0.6672 - val_loss: 0.6275 - val_accuracy: 0.6667\n",
            "Epoch 112/200\n",
            "90/90 [==============================] - 0s 3ms/step - loss: 0.6314 - accuracy: 0.6683 - val_loss: 0.6269 - val_accuracy: 0.6597\n",
            "Epoch 113/200\n",
            "90/90 [==============================] - 0s 3ms/step - loss: 0.6310 - accuracy: 0.6704 - val_loss: 0.6272 - val_accuracy: 0.6667\n",
            "Epoch 114/200\n",
            "90/90 [==============================] - 0s 3ms/step - loss: 0.6283 - accuracy: 0.6634 - val_loss: 0.6275 - val_accuracy: 0.6708\n",
            "Epoch 115/200\n",
            "90/90 [==============================] - 0s 3ms/step - loss: 0.6299 - accuracy: 0.6697 - val_loss: 0.6282 - val_accuracy: 0.6597\n",
            "Epoch 116/200\n",
            "90/90 [==============================] - 0s 3ms/step - loss: 0.6222 - accuracy: 0.6801 - val_loss: 0.6280 - val_accuracy: 0.6667\n",
            "Epoch 117/200\n",
            "90/90 [==============================] - 0s 3ms/step - loss: 0.6333 - accuracy: 0.6648 - val_loss: 0.6292 - val_accuracy: 0.6667\n",
            "Epoch 118/200\n",
            "90/90 [==============================] - 0s 4ms/step - loss: 0.6287 - accuracy: 0.6683 - val_loss: 0.6271 - val_accuracy: 0.6569\n",
            "Epoch 119/200\n",
            "90/90 [==============================] - 0s 3ms/step - loss: 0.6227 - accuracy: 0.6780 - val_loss: 0.6267 - val_accuracy: 0.6597\n",
            "Epoch 120/200\n",
            "90/90 [==============================] - 0s 3ms/step - loss: 0.6351 - accuracy: 0.6634 - val_loss: 0.6278 - val_accuracy: 0.6597\n",
            "Epoch 121/200\n",
            "90/90 [==============================] - 0s 3ms/step - loss: 0.6265 - accuracy: 0.6745 - val_loss: 0.6263 - val_accuracy: 0.6611\n",
            "Epoch 122/200\n",
            "90/90 [==============================] - 0s 3ms/step - loss: 0.6266 - accuracy: 0.6787 - val_loss: 0.6260 - val_accuracy: 0.6653\n",
            "Epoch 123/200\n",
            "90/90 [==============================] - 0s 3ms/step - loss: 0.6294 - accuracy: 0.6725 - val_loss: 0.6295 - val_accuracy: 0.6625\n",
            "Epoch 124/200\n",
            "90/90 [==============================] - 0s 3ms/step - loss: 0.6283 - accuracy: 0.6620 - val_loss: 0.6282 - val_accuracy: 0.6569\n",
            "Epoch 125/200\n",
            "90/90 [==============================] - 0s 3ms/step - loss: 0.6290 - accuracy: 0.6652 - val_loss: 0.6269 - val_accuracy: 0.6667\n",
            "Epoch 126/200\n",
            "90/90 [==============================] - 0s 3ms/step - loss: 0.6241 - accuracy: 0.6732 - val_loss: 0.6278 - val_accuracy: 0.6611\n",
            "Epoch 127/200\n",
            "90/90 [==============================] - 0s 3ms/step - loss: 0.6345 - accuracy: 0.6714 - val_loss: 0.6274 - val_accuracy: 0.6625\n",
            "Epoch 128/200\n",
            "90/90 [==============================] - 0s 3ms/step - loss: 0.6253 - accuracy: 0.6721 - val_loss: 0.6256 - val_accuracy: 0.6417\n",
            "Epoch 129/200\n",
            "90/90 [==============================] - 0s 4ms/step - loss: 0.6293 - accuracy: 0.6721 - val_loss: 0.6232 - val_accuracy: 0.6708\n",
            "Epoch 130/200\n",
            "90/90 [==============================] - 0s 3ms/step - loss: 0.6293 - accuracy: 0.6693 - val_loss: 0.6254 - val_accuracy: 0.6708\n",
            "Epoch 131/200\n",
            "90/90 [==============================] - 0s 4ms/step - loss: 0.6234 - accuracy: 0.6756 - val_loss: 0.6234 - val_accuracy: 0.6639\n",
            "Epoch 132/200\n",
            "90/90 [==============================] - 0s 3ms/step - loss: 0.6318 - accuracy: 0.6728 - val_loss: 0.6272 - val_accuracy: 0.6597\n",
            "Epoch 133/200\n",
            "90/90 [==============================] - 0s 4ms/step - loss: 0.6315 - accuracy: 0.6721 - val_loss: 0.6260 - val_accuracy: 0.6681\n",
            "Epoch 134/200\n",
            "90/90 [==============================] - 0s 3ms/step - loss: 0.6196 - accuracy: 0.6759 - val_loss: 0.6267 - val_accuracy: 0.6542\n",
            "Epoch 135/200\n",
            "90/90 [==============================] - 0s 4ms/step - loss: 0.6261 - accuracy: 0.6725 - val_loss: 0.6283 - val_accuracy: 0.6528\n",
            "Epoch 136/200\n",
            "90/90 [==============================] - 0s 3ms/step - loss: 0.6332 - accuracy: 0.6659 - val_loss: 0.6266 - val_accuracy: 0.6528\n",
            "Epoch 137/200\n",
            "90/90 [==============================] - 0s 4ms/step - loss: 0.6320 - accuracy: 0.6669 - val_loss: 0.6261 - val_accuracy: 0.6611\n",
            "Epoch 138/200\n",
            "90/90 [==============================] - 0s 3ms/step - loss: 0.6246 - accuracy: 0.6725 - val_loss: 0.6235 - val_accuracy: 0.6667\n",
            "Epoch 139/200\n",
            "90/90 [==============================] - 0s 3ms/step - loss: 0.6273 - accuracy: 0.6739 - val_loss: 0.6219 - val_accuracy: 0.6556\n",
            "Epoch 140/200\n",
            "90/90 [==============================] - 0s 3ms/step - loss: 0.6250 - accuracy: 0.6728 - val_loss: 0.6217 - val_accuracy: 0.6639\n",
            "Epoch 141/200\n",
            "90/90 [==============================] - 0s 3ms/step - loss: 0.6263 - accuracy: 0.6773 - val_loss: 0.6224 - val_accuracy: 0.6583\n",
            "Epoch 142/200\n",
            "90/90 [==============================] - 0s 4ms/step - loss: 0.6287 - accuracy: 0.6770 - val_loss: 0.6228 - val_accuracy: 0.6569\n",
            "Epoch 143/200\n",
            "90/90 [==============================] - 0s 4ms/step - loss: 0.6279 - accuracy: 0.6690 - val_loss: 0.6244 - val_accuracy: 0.6569\n",
            "Epoch 144/200\n",
            "90/90 [==============================] - 0s 3ms/step - loss: 0.6286 - accuracy: 0.6732 - val_loss: 0.6240 - val_accuracy: 0.6514\n",
            "Epoch 145/200\n",
            "90/90 [==============================] - 0s 4ms/step - loss: 0.6275 - accuracy: 0.6752 - val_loss: 0.6251 - val_accuracy: 0.6625\n",
            "Epoch 146/200\n",
            "90/90 [==============================] - 0s 3ms/step - loss: 0.6223 - accuracy: 0.6787 - val_loss: 0.6233 - val_accuracy: 0.6667\n",
            "Epoch 147/200\n",
            "90/90 [==============================] - 0s 4ms/step - loss: 0.6258 - accuracy: 0.6766 - val_loss: 0.6234 - val_accuracy: 0.6708\n",
            "Epoch 148/200\n",
            "90/90 [==============================] - 0s 3ms/step - loss: 0.6312 - accuracy: 0.6638 - val_loss: 0.6240 - val_accuracy: 0.6681\n",
            "Epoch 149/200\n",
            "90/90 [==============================] - 0s 4ms/step - loss: 0.6292 - accuracy: 0.6714 - val_loss: 0.6241 - val_accuracy: 0.6569\n",
            "Epoch 150/200\n",
            "90/90 [==============================] - 0s 3ms/step - loss: 0.6248 - accuracy: 0.6822 - val_loss: 0.6222 - val_accuracy: 0.6514\n",
            "Epoch 151/200\n",
            "90/90 [==============================] - 0s 3ms/step - loss: 0.6210 - accuracy: 0.6780 - val_loss: 0.6205 - val_accuracy: 0.6750\n",
            "Epoch 152/200\n",
            "90/90 [==============================] - 0s 3ms/step - loss: 0.6204 - accuracy: 0.6825 - val_loss: 0.6231 - val_accuracy: 0.6625\n",
            "Epoch 153/200\n",
            "90/90 [==============================] - 0s 4ms/step - loss: 0.6322 - accuracy: 0.6725 - val_loss: 0.6240 - val_accuracy: 0.6667\n",
            "Epoch 154/200\n",
            "90/90 [==============================] - 0s 4ms/step - loss: 0.6250 - accuracy: 0.6825 - val_loss: 0.6227 - val_accuracy: 0.6500\n",
            "Epoch 155/200\n",
            "90/90 [==============================] - 0s 4ms/step - loss: 0.6316 - accuracy: 0.6683 - val_loss: 0.6242 - val_accuracy: 0.6569\n",
            "Epoch 156/200\n",
            "90/90 [==============================] - 0s 4ms/step - loss: 0.6276 - accuracy: 0.6756 - val_loss: 0.6243 - val_accuracy: 0.6667\n",
            "Epoch 157/200\n",
            "90/90 [==============================] - 0s 4ms/step - loss: 0.6237 - accuracy: 0.6690 - val_loss: 0.6222 - val_accuracy: 0.6569\n",
            "Epoch 158/200\n",
            "90/90 [==============================] - 0s 4ms/step - loss: 0.6210 - accuracy: 0.6766 - val_loss: 0.6239 - val_accuracy: 0.6556\n",
            "Epoch 159/200\n",
            "90/90 [==============================] - 0s 3ms/step - loss: 0.6176 - accuracy: 0.6759 - val_loss: 0.6257 - val_accuracy: 0.6597\n",
            "Epoch 160/200\n",
            "90/90 [==============================] - 0s 3ms/step - loss: 0.6177 - accuracy: 0.6780 - val_loss: 0.6243 - val_accuracy: 0.6611\n",
            "Epoch 161/200\n",
            "90/90 [==============================] - 0s 3ms/step - loss: 0.6311 - accuracy: 0.6745 - val_loss: 0.6226 - val_accuracy: 0.6597\n",
            "Epoch 162/200\n",
            "90/90 [==============================] - 0s 3ms/step - loss: 0.6278 - accuracy: 0.6732 - val_loss: 0.6276 - val_accuracy: 0.6556\n",
            "Epoch 163/200\n",
            "90/90 [==============================] - 0s 3ms/step - loss: 0.6287 - accuracy: 0.6666 - val_loss: 0.6220 - val_accuracy: 0.6639\n",
            "Epoch 164/200\n",
            "90/90 [==============================] - 0s 3ms/step - loss: 0.6202 - accuracy: 0.6735 - val_loss: 0.6204 - val_accuracy: 0.6611\n",
            "Epoch 165/200\n",
            "90/90 [==============================] - 0s 3ms/step - loss: 0.6298 - accuracy: 0.6735 - val_loss: 0.6215 - val_accuracy: 0.6736\n",
            "Epoch 166/200\n",
            "90/90 [==============================] - 0s 3ms/step - loss: 0.6255 - accuracy: 0.6773 - val_loss: 0.6216 - val_accuracy: 0.6625\n",
            "Epoch 167/200\n",
            "90/90 [==============================] - 0s 3ms/step - loss: 0.6143 - accuracy: 0.6930 - val_loss: 0.6225 - val_accuracy: 0.6611\n",
            "Epoch 168/200\n",
            "90/90 [==============================] - 0s 4ms/step - loss: 0.6201 - accuracy: 0.6801 - val_loss: 0.6216 - val_accuracy: 0.6583\n",
            "Epoch 169/200\n",
            "90/90 [==============================] - 0s 3ms/step - loss: 0.6254 - accuracy: 0.6902 - val_loss: 0.6227 - val_accuracy: 0.6625\n",
            "Epoch 170/200\n",
            "90/90 [==============================] - 0s 3ms/step - loss: 0.6205 - accuracy: 0.6822 - val_loss: 0.6220 - val_accuracy: 0.6708\n",
            "Epoch 171/200\n",
            "90/90 [==============================] - 0s 3ms/step - loss: 0.6222 - accuracy: 0.6735 - val_loss: 0.6208 - val_accuracy: 0.6653\n",
            "Epoch 172/200\n",
            "90/90 [==============================] - 0s 3ms/step - loss: 0.6272 - accuracy: 0.6798 - val_loss: 0.6222 - val_accuracy: 0.6514\n",
            "Epoch 173/200\n",
            "90/90 [==============================] - 0s 3ms/step - loss: 0.6254 - accuracy: 0.6756 - val_loss: 0.6223 - val_accuracy: 0.6653\n",
            "Epoch 174/200\n",
            "90/90 [==============================] - 0s 3ms/step - loss: 0.6287 - accuracy: 0.6756 - val_loss: 0.6242 - val_accuracy: 0.6653\n",
            "Epoch 175/200\n",
            "90/90 [==============================] - 0s 3ms/step - loss: 0.6270 - accuracy: 0.6693 - val_loss: 0.6235 - val_accuracy: 0.6597\n",
            "Epoch 176/200\n",
            "90/90 [==============================] - 0s 3ms/step - loss: 0.6279 - accuracy: 0.6655 - val_loss: 0.6234 - val_accuracy: 0.6556\n",
            "Epoch 177/200\n",
            "90/90 [==============================] - 0s 3ms/step - loss: 0.6223 - accuracy: 0.6818 - val_loss: 0.6215 - val_accuracy: 0.6583\n",
            "Epoch 178/200\n",
            "90/90 [==============================] - 0s 3ms/step - loss: 0.6198 - accuracy: 0.6846 - val_loss: 0.6211 - val_accuracy: 0.6556\n",
            "Epoch 179/200\n",
            "90/90 [==============================] - 0s 3ms/step - loss: 0.6222 - accuracy: 0.6839 - val_loss: 0.6209 - val_accuracy: 0.6500\n",
            "Epoch 180/200\n",
            "90/90 [==============================] - 0s 3ms/step - loss: 0.6273 - accuracy: 0.6704 - val_loss: 0.6251 - val_accuracy: 0.6583\n",
            "Epoch 181/200\n",
            "90/90 [==============================] - 0s 4ms/step - loss: 0.6173 - accuracy: 0.6808 - val_loss: 0.6243 - val_accuracy: 0.6458\n",
            "Epoch 182/200\n",
            "90/90 [==============================] - 0s 3ms/step - loss: 0.6213 - accuracy: 0.6777 - val_loss: 0.6230 - val_accuracy: 0.6472\n",
            "Epoch 183/200\n",
            "90/90 [==============================] - 0s 3ms/step - loss: 0.6287 - accuracy: 0.6725 - val_loss: 0.6220 - val_accuracy: 0.6625\n",
            "Epoch 184/200\n",
            "90/90 [==============================] - 0s 3ms/step - loss: 0.6123 - accuracy: 0.6885 - val_loss: 0.6192 - val_accuracy: 0.6597\n",
            "Epoch 185/200\n",
            "90/90 [==============================] - 0s 4ms/step - loss: 0.6183 - accuracy: 0.6815 - val_loss: 0.6207 - val_accuracy: 0.6569\n",
            "Epoch 186/200\n",
            "90/90 [==============================] - 0s 3ms/step - loss: 0.6215 - accuracy: 0.6787 - val_loss: 0.6226 - val_accuracy: 0.6569\n",
            "Epoch 187/200\n",
            "90/90 [==============================] - 0s 3ms/step - loss: 0.6312 - accuracy: 0.6669 - val_loss: 0.6251 - val_accuracy: 0.6639\n",
            "Epoch 188/200\n",
            "90/90 [==============================] - 0s 4ms/step - loss: 0.6278 - accuracy: 0.6763 - val_loss: 0.6260 - val_accuracy: 0.6681\n",
            "Epoch 189/200\n",
            "90/90 [==============================] - 0s 4ms/step - loss: 0.6261 - accuracy: 0.6853 - val_loss: 0.6230 - val_accuracy: 0.6667\n",
            "Epoch 190/200\n",
            "90/90 [==============================] - 0s 4ms/step - loss: 0.6153 - accuracy: 0.6881 - val_loss: 0.6210 - val_accuracy: 0.6597\n",
            "Epoch 191/200\n",
            "90/90 [==============================] - 0s 3ms/step - loss: 0.6216 - accuracy: 0.6735 - val_loss: 0.6244 - val_accuracy: 0.6694\n",
            "Epoch 192/200\n",
            "90/90 [==============================] - 0s 4ms/step - loss: 0.6278 - accuracy: 0.6773 - val_loss: 0.6281 - val_accuracy: 0.6472\n",
            "Epoch 193/200\n",
            "90/90 [==============================] - 0s 3ms/step - loss: 0.6246 - accuracy: 0.6766 - val_loss: 0.6237 - val_accuracy: 0.6569\n",
            "Epoch 194/200\n",
            "90/90 [==============================] - 0s 3ms/step - loss: 0.6247 - accuracy: 0.6666 - val_loss: 0.6228 - val_accuracy: 0.6681\n",
            "Epoch 195/200\n",
            "90/90 [==============================] - 0s 3ms/step - loss: 0.6287 - accuracy: 0.6718 - val_loss: 0.6232 - val_accuracy: 0.6625\n",
            "Epoch 196/200\n",
            "90/90 [==============================] - 0s 4ms/step - loss: 0.6243 - accuracy: 0.6756 - val_loss: 0.6239 - val_accuracy: 0.6694\n",
            "Epoch 197/200\n",
            "90/90 [==============================] - 0s 3ms/step - loss: 0.6187 - accuracy: 0.6836 - val_loss: 0.6191 - val_accuracy: 0.6708\n",
            "Epoch 198/200\n",
            "90/90 [==============================] - 0s 4ms/step - loss: 0.6238 - accuracy: 0.6752 - val_loss: 0.6194 - val_accuracy: 0.6667\n",
            "Epoch 199/200\n",
            "90/90 [==============================] - 0s 4ms/step - loss: 0.6213 - accuracy: 0.6867 - val_loss: 0.6240 - val_accuracy: 0.6611\n",
            "Epoch 200/200\n",
            "90/90 [==============================] - 0s 3ms/step - loss: 0.6218 - accuracy: 0.6732 - val_loss: 0.6254 - val_accuracy: 0.6528\n"
          ]
        }
      ]
    },
    {
      "cell_type": "markdown",
      "metadata": {
        "id": "kQmYGrQU-gad"
      },
      "source": [
        "### Cross Validation\n",
        "\n",
        "By removing rows we lose many data. This can affect the training of our model, a low number of data could produce a bad model.\n",
        "\n",
        "To solve this we decided to perform the cross validation, so we divide the dataset in test and training set. We split the training set in 6 parts. At every step the k<sup>a</sup> part of the training set will be the validation, while the remaining part will be the training set. So we train the model for each of k parts avoiding the problem of overfitting.\n",
        "\n",
        "\n"
      ]
    },
    {
      "cell_type": "code",
      "metadata": {
        "id": "mLaEpANy-mrx",
        "colab": {
          "base_uri": "https://localhost:8080/"
        },
        "outputId": "48c0eb9a-66b8-49eb-dede-0e26b003ab06"
      },
      "source": [
        "if solution == \"drop\":\n",
        "  x_train, x_test, y_train, y_test = train_test_split(data_new, labels_new, train_size=0.8)\n",
        "\n",
        "  max_validation_score = 0\n",
        "  k = 6\n",
        "  num_samples = len(x_train) // k\n",
        "  validation_scores = []\n",
        "  for fold in range(k):\n",
        "    validation_data = x_train[num_samples * fold:num_samples * (fold + 1)]\n",
        "    validation_label = y_train[num_samples * fold:num_samples * (fold + 1)]\n",
        "    training_data = np.concatenate((x_train[:num_samples * fold], x_train[num_samples * (fold + 1):]))\n",
        "    training_label = np.concatenate((y_train[:num_samples * fold], y_train[num_samples * (fold + 1):]))\n",
        "    model = get_model()\n",
        "    history = model.fit(training_data, training_label,epochs=100, validation_data=(validation_data, validation_label))\n",
        "    validation_score = model.evaluate(validation_data,validation_label)\n",
        "    if validation_score[1] > max_validation_score:\n",
        "      max_validation_score = validation_score[1]\n",
        "      best_history = history\n",
        "      best_model = model\n",
        "    validation_scores.append(validation_score)\n",
        "\n",
        "  validation_score = np.average(validation_scores)\n",
        "  result = best_model.evaluate(x_test, y_test)"
      ],
      "execution_count": null,
      "outputs": [
        {
          "output_type": "stream",
          "name": "stdout",
          "text": [
            "Epoch 1/100\n",
            "50/50 [==============================] - 1s 6ms/step - loss: 0.8469 - accuracy: 0.5000 - val_loss: 0.7992 - val_accuracy: 0.4969\n",
            "Epoch 2/100\n",
            "50/50 [==============================] - 0s 2ms/step - loss: 0.8136 - accuracy: 0.5225 - val_loss: 0.7949 - val_accuracy: 0.5250\n",
            "Epoch 3/100\n",
            "50/50 [==============================] - 0s 2ms/step - loss: 0.8105 - accuracy: 0.4844 - val_loss: 0.7908 - val_accuracy: 0.5344\n",
            "Epoch 4/100\n",
            "50/50 [==============================] - 0s 2ms/step - loss: 0.8005 - accuracy: 0.4931 - val_loss: 0.7869 - val_accuracy: 0.5312\n",
            "Epoch 5/100\n",
            "50/50 [==============================] - 0s 2ms/step - loss: 0.7918 - accuracy: 0.4931 - val_loss: 0.7833 - val_accuracy: 0.5312\n",
            "Epoch 6/100\n",
            "50/50 [==============================] - 0s 3ms/step - loss: 0.7829 - accuracy: 0.5225 - val_loss: 0.7797 - val_accuracy: 0.5344\n",
            "Epoch 7/100\n",
            "50/50 [==============================] - 0s 2ms/step - loss: 0.7858 - accuracy: 0.4806 - val_loss: 0.7765 - val_accuracy: 0.5188\n",
            "Epoch 8/100\n",
            "50/50 [==============================] - 0s 2ms/step - loss: 0.7805 - accuracy: 0.4931 - val_loss: 0.7726 - val_accuracy: 0.5188\n",
            "Epoch 9/100\n",
            "50/50 [==============================] - 0s 2ms/step - loss: 0.7729 - accuracy: 0.4956 - val_loss: 0.7691 - val_accuracy: 0.5156\n",
            "Epoch 10/100\n",
            "50/50 [==============================] - 0s 3ms/step - loss: 0.7680 - accuracy: 0.5044 - val_loss: 0.7654 - val_accuracy: 0.5125\n",
            "Epoch 11/100\n",
            "50/50 [==============================] - 0s 2ms/step - loss: 0.7655 - accuracy: 0.5106 - val_loss: 0.7627 - val_accuracy: 0.5156\n",
            "Epoch 12/100\n",
            "50/50 [==============================] - 0s 2ms/step - loss: 0.7621 - accuracy: 0.5025 - val_loss: 0.7592 - val_accuracy: 0.5125\n",
            "Epoch 13/100\n",
            "50/50 [==============================] - 0s 2ms/step - loss: 0.7586 - accuracy: 0.5213 - val_loss: 0.7561 - val_accuracy: 0.5156\n",
            "Epoch 14/100\n",
            "50/50 [==============================] - 0s 2ms/step - loss: 0.7549 - accuracy: 0.5300 - val_loss: 0.7531 - val_accuracy: 0.5281\n",
            "Epoch 15/100\n",
            "50/50 [==============================] - 0s 2ms/step - loss: 0.7514 - accuracy: 0.5206 - val_loss: 0.7502 - val_accuracy: 0.5281\n",
            "Epoch 16/100\n",
            "50/50 [==============================] - 0s 2ms/step - loss: 0.7498 - accuracy: 0.5038 - val_loss: 0.7472 - val_accuracy: 0.5344\n",
            "Epoch 17/100\n",
            "50/50 [==============================] - 0s 3ms/step - loss: 0.7456 - accuracy: 0.5200 - val_loss: 0.7445 - val_accuracy: 0.5437\n",
            "Epoch 18/100\n",
            "50/50 [==============================] - 0s 3ms/step - loss: 0.7406 - accuracy: 0.5250 - val_loss: 0.7416 - val_accuracy: 0.5281\n",
            "Epoch 19/100\n",
            "50/50 [==============================] - 0s 2ms/step - loss: 0.7388 - accuracy: 0.5300 - val_loss: 0.7387 - val_accuracy: 0.5312\n",
            "Epoch 20/100\n",
            "50/50 [==============================] - 0s 2ms/step - loss: 0.7402 - accuracy: 0.5156 - val_loss: 0.7358 - val_accuracy: 0.5500\n",
            "Epoch 21/100\n",
            "50/50 [==============================] - 0s 3ms/step - loss: 0.7335 - accuracy: 0.5275 - val_loss: 0.7330 - val_accuracy: 0.5531\n",
            "Epoch 22/100\n",
            "50/50 [==============================] - 0s 2ms/step - loss: 0.7314 - accuracy: 0.5369 - val_loss: 0.7308 - val_accuracy: 0.5406\n",
            "Epoch 23/100\n",
            "50/50 [==============================] - 0s 2ms/step - loss: 0.7308 - accuracy: 0.5219 - val_loss: 0.7283 - val_accuracy: 0.5469\n",
            "Epoch 24/100\n",
            "50/50 [==============================] - 0s 2ms/step - loss: 0.7252 - accuracy: 0.5469 - val_loss: 0.7260 - val_accuracy: 0.5813\n",
            "Epoch 25/100\n",
            "50/50 [==============================] - 0s 2ms/step - loss: 0.7255 - accuracy: 0.5200 - val_loss: 0.7232 - val_accuracy: 0.5594\n",
            "Epoch 26/100\n",
            "50/50 [==============================] - 0s 2ms/step - loss: 0.7222 - accuracy: 0.5394 - val_loss: 0.7212 - val_accuracy: 0.5500\n",
            "Epoch 27/100\n",
            "50/50 [==============================] - 0s 2ms/step - loss: 0.7166 - accuracy: 0.5512 - val_loss: 0.7157 - val_accuracy: 0.5688\n",
            "Epoch 28/100\n",
            "50/50 [==============================] - 0s 2ms/step - loss: 0.7120 - accuracy: 0.5569 - val_loss: 0.7112 - val_accuracy: 0.5844\n",
            "Epoch 29/100\n",
            "50/50 [==============================] - 0s 2ms/step - loss: 0.7065 - accuracy: 0.5556 - val_loss: 0.7075 - val_accuracy: 0.5875\n",
            "Epoch 30/100\n",
            "50/50 [==============================] - 0s 2ms/step - loss: 0.7051 - accuracy: 0.5644 - val_loss: 0.7018 - val_accuracy: 0.6062\n",
            "Epoch 31/100\n",
            "50/50 [==============================] - 0s 2ms/step - loss: 0.7065 - accuracy: 0.5825 - val_loss: 0.6930 - val_accuracy: 0.5875\n",
            "Epoch 32/100\n",
            "50/50 [==============================] - 0s 2ms/step - loss: 0.6972 - accuracy: 0.5875 - val_loss: 0.6862 - val_accuracy: 0.5938\n",
            "Epoch 33/100\n",
            "50/50 [==============================] - 0s 3ms/step - loss: 0.6850 - accuracy: 0.6019 - val_loss: 0.6775 - val_accuracy: 0.6094\n",
            "Epoch 34/100\n",
            "50/50 [==============================] - 0s 2ms/step - loss: 0.6851 - accuracy: 0.6356 - val_loss: 0.6734 - val_accuracy: 0.6219\n",
            "Epoch 35/100\n",
            "50/50 [==============================] - 0s 2ms/step - loss: 0.6850 - accuracy: 0.6212 - val_loss: 0.6687 - val_accuracy: 0.6094\n",
            "Epoch 36/100\n",
            "50/50 [==============================] - 0s 2ms/step - loss: 0.6660 - accuracy: 0.6469 - val_loss: 0.6610 - val_accuracy: 0.6094\n",
            "Epoch 37/100\n",
            "50/50 [==============================] - 0s 3ms/step - loss: 0.6774 - accuracy: 0.6288 - val_loss: 0.6639 - val_accuracy: 0.6187\n",
            "Epoch 38/100\n",
            "50/50 [==============================] - 0s 2ms/step - loss: 0.6787 - accuracy: 0.6187 - val_loss: 0.6593 - val_accuracy: 0.6219\n",
            "Epoch 39/100\n",
            "50/50 [==============================] - 0s 2ms/step - loss: 0.6718 - accuracy: 0.6375 - val_loss: 0.6506 - val_accuracy: 0.6250\n",
            "Epoch 40/100\n",
            "50/50 [==============================] - 0s 2ms/step - loss: 0.6638 - accuracy: 0.6469 - val_loss: 0.6471 - val_accuracy: 0.6187\n",
            "Epoch 41/100\n",
            "50/50 [==============================] - 0s 2ms/step - loss: 0.6708 - accuracy: 0.6438 - val_loss: 0.6477 - val_accuracy: 0.6344\n",
            "Epoch 42/100\n",
            "50/50 [==============================] - 0s 2ms/step - loss: 0.6651 - accuracy: 0.6450 - val_loss: 0.6491 - val_accuracy: 0.6219\n",
            "Epoch 43/100\n",
            "50/50 [==============================] - 0s 3ms/step - loss: 0.6539 - accuracy: 0.6631 - val_loss: 0.6421 - val_accuracy: 0.6187\n",
            "Epoch 44/100\n",
            "50/50 [==============================] - 0s 3ms/step - loss: 0.6531 - accuracy: 0.6669 - val_loss: 0.6376 - val_accuracy: 0.6125\n",
            "Epoch 45/100\n",
            "50/50 [==============================] - 0s 3ms/step - loss: 0.6567 - accuracy: 0.6456 - val_loss: 0.6362 - val_accuracy: 0.6375\n",
            "Epoch 46/100\n",
            "50/50 [==============================] - 0s 2ms/step - loss: 0.6547 - accuracy: 0.6438 - val_loss: 0.6382 - val_accuracy: 0.6406\n",
            "Epoch 47/100\n",
            "50/50 [==============================] - 0s 2ms/step - loss: 0.6426 - accuracy: 0.6600 - val_loss: 0.6297 - val_accuracy: 0.6594\n",
            "Epoch 48/100\n",
            "50/50 [==============================] - 0s 2ms/step - loss: 0.6523 - accuracy: 0.6575 - val_loss: 0.6340 - val_accuracy: 0.6406\n",
            "Epoch 49/100\n",
            "50/50 [==============================] - 0s 2ms/step - loss: 0.6319 - accuracy: 0.6787 - val_loss: 0.6271 - val_accuracy: 0.6469\n",
            "Epoch 50/100\n",
            "50/50 [==============================] - 0s 2ms/step - loss: 0.6514 - accuracy: 0.6625 - val_loss: 0.6322 - val_accuracy: 0.6500\n",
            "Epoch 51/100\n",
            "50/50 [==============================] - 0s 2ms/step - loss: 0.6398 - accuracy: 0.6619 - val_loss: 0.6281 - val_accuracy: 0.6500\n",
            "Epoch 52/100\n",
            "50/50 [==============================] - 0s 3ms/step - loss: 0.6413 - accuracy: 0.6794 - val_loss: 0.6276 - val_accuracy: 0.6313\n",
            "Epoch 53/100\n",
            "50/50 [==============================] - 0s 2ms/step - loss: 0.6399 - accuracy: 0.6669 - val_loss: 0.6281 - val_accuracy: 0.6406\n",
            "Epoch 54/100\n",
            "50/50 [==============================] - 0s 2ms/step - loss: 0.6400 - accuracy: 0.6569 - val_loss: 0.6283 - val_accuracy: 0.6500\n",
            "Epoch 55/100\n",
            "50/50 [==============================] - 0s 2ms/step - loss: 0.6370 - accuracy: 0.6756 - val_loss: 0.6255 - val_accuracy: 0.6500\n",
            "Epoch 56/100\n",
            "50/50 [==============================] - 0s 2ms/step - loss: 0.6221 - accuracy: 0.6794 - val_loss: 0.6182 - val_accuracy: 0.6469\n",
            "Epoch 57/100\n",
            "50/50 [==============================] - 0s 2ms/step - loss: 0.6389 - accuracy: 0.6656 - val_loss: 0.6198 - val_accuracy: 0.6469\n",
            "Epoch 58/100\n",
            "50/50 [==============================] - 0s 3ms/step - loss: 0.6313 - accuracy: 0.6775 - val_loss: 0.6194 - val_accuracy: 0.6594\n",
            "Epoch 59/100\n",
            "50/50 [==============================] - 0s 2ms/step - loss: 0.6361 - accuracy: 0.6731 - val_loss: 0.6222 - val_accuracy: 0.6531\n",
            "Epoch 60/100\n",
            "50/50 [==============================] - 0s 2ms/step - loss: 0.6222 - accuracy: 0.6800 - val_loss: 0.6231 - val_accuracy: 0.6406\n",
            "Epoch 61/100\n",
            "50/50 [==============================] - 0s 2ms/step - loss: 0.6348 - accuracy: 0.6737 - val_loss: 0.6216 - val_accuracy: 0.6406\n",
            "Epoch 62/100\n",
            "50/50 [==============================] - 0s 2ms/step - loss: 0.6184 - accuracy: 0.6819 - val_loss: 0.6209 - val_accuracy: 0.6500\n",
            "Epoch 63/100\n",
            "50/50 [==============================] - 0s 2ms/step - loss: 0.6250 - accuracy: 0.6787 - val_loss: 0.6233 - val_accuracy: 0.6438\n",
            "Epoch 64/100\n",
            "50/50 [==============================] - 0s 2ms/step - loss: 0.6212 - accuracy: 0.6856 - val_loss: 0.6210 - val_accuracy: 0.6469\n",
            "Epoch 65/100\n",
            "50/50 [==============================] - 0s 2ms/step - loss: 0.6256 - accuracy: 0.6850 - val_loss: 0.6200 - val_accuracy: 0.6469\n",
            "Epoch 66/100\n",
            "50/50 [==============================] - 0s 2ms/step - loss: 0.6159 - accuracy: 0.6956 - val_loss: 0.6165 - val_accuracy: 0.6500\n",
            "Epoch 67/100\n",
            "50/50 [==============================] - 0s 2ms/step - loss: 0.6205 - accuracy: 0.6888 - val_loss: 0.6172 - val_accuracy: 0.6500\n",
            "Epoch 68/100\n",
            "50/50 [==============================] - 0s 2ms/step - loss: 0.6186 - accuracy: 0.6794 - val_loss: 0.6155 - val_accuracy: 0.6531\n",
            "Epoch 69/100\n",
            "50/50 [==============================] - 0s 2ms/step - loss: 0.6222 - accuracy: 0.6875 - val_loss: 0.6146 - val_accuracy: 0.6469\n",
            "Epoch 70/100\n",
            "50/50 [==============================] - 0s 3ms/step - loss: 0.6359 - accuracy: 0.6619 - val_loss: 0.6152 - val_accuracy: 0.6469\n",
            "Epoch 71/100\n",
            "50/50 [==============================] - 0s 2ms/step - loss: 0.6082 - accuracy: 0.6963 - val_loss: 0.6152 - val_accuracy: 0.6375\n",
            "Epoch 72/100\n",
            "50/50 [==============================] - 0s 2ms/step - loss: 0.6221 - accuracy: 0.6869 - val_loss: 0.6138 - val_accuracy: 0.6500\n",
            "Epoch 73/100\n",
            "50/50 [==============================] - 0s 2ms/step - loss: 0.6124 - accuracy: 0.6938 - val_loss: 0.6178 - val_accuracy: 0.6469\n",
            "Epoch 74/100\n",
            "50/50 [==============================] - 0s 3ms/step - loss: 0.6113 - accuracy: 0.6819 - val_loss: 0.6137 - val_accuracy: 0.6625\n",
            "Epoch 75/100\n",
            "50/50 [==============================] - 0s 2ms/step - loss: 0.6178 - accuracy: 0.6831 - val_loss: 0.6113 - val_accuracy: 0.6438\n",
            "Epoch 76/100\n",
            "50/50 [==============================] - 0s 2ms/step - loss: 0.6134 - accuracy: 0.6913 - val_loss: 0.6121 - val_accuracy: 0.6438\n",
            "Epoch 77/100\n",
            "50/50 [==============================] - 0s 2ms/step - loss: 0.6079 - accuracy: 0.6837 - val_loss: 0.6160 - val_accuracy: 0.6375\n",
            "Epoch 78/100\n",
            "50/50 [==============================] - 0s 2ms/step - loss: 0.6130 - accuracy: 0.6913 - val_loss: 0.6140 - val_accuracy: 0.6375\n",
            "Epoch 79/100\n",
            "50/50 [==============================] - 0s 2ms/step - loss: 0.6061 - accuracy: 0.7081 - val_loss: 0.6146 - val_accuracy: 0.6375\n",
            "Epoch 80/100\n",
            "50/50 [==============================] - 0s 2ms/step - loss: 0.6224 - accuracy: 0.6812 - val_loss: 0.6159 - val_accuracy: 0.6406\n",
            "Epoch 81/100\n",
            "50/50 [==============================] - 0s 2ms/step - loss: 0.6252 - accuracy: 0.6938 - val_loss: 0.6143 - val_accuracy: 0.6281\n",
            "Epoch 82/100\n",
            "50/50 [==============================] - 0s 2ms/step - loss: 0.6055 - accuracy: 0.6975 - val_loss: 0.6175 - val_accuracy: 0.6406\n",
            "Epoch 83/100\n",
            "50/50 [==============================] - 0s 2ms/step - loss: 0.5929 - accuracy: 0.7050 - val_loss: 0.6169 - val_accuracy: 0.6469\n",
            "Epoch 84/100\n",
            "50/50 [==============================] - 0s 2ms/step - loss: 0.6137 - accuracy: 0.6888 - val_loss: 0.6140 - val_accuracy: 0.6438\n",
            "Epoch 85/100\n",
            "50/50 [==============================] - 0s 2ms/step - loss: 0.6058 - accuracy: 0.6881 - val_loss: 0.6109 - val_accuracy: 0.6500\n",
            "Epoch 86/100\n",
            "50/50 [==============================] - 0s 2ms/step - loss: 0.6047 - accuracy: 0.6938 - val_loss: 0.6153 - val_accuracy: 0.6375\n",
            "Epoch 87/100\n",
            "50/50 [==============================] - 0s 2ms/step - loss: 0.6090 - accuracy: 0.6806 - val_loss: 0.6172 - val_accuracy: 0.6375\n",
            "Epoch 88/100\n",
            "50/50 [==============================] - 0s 2ms/step - loss: 0.6082 - accuracy: 0.7100 - val_loss: 0.6197 - val_accuracy: 0.6344\n",
            "Epoch 89/100\n",
            "50/50 [==============================] - 0s 3ms/step - loss: 0.6132 - accuracy: 0.6875 - val_loss: 0.6176 - val_accuracy: 0.6375\n",
            "Epoch 90/100\n",
            "50/50 [==============================] - 0s 2ms/step - loss: 0.5998 - accuracy: 0.7100 - val_loss: 0.6179 - val_accuracy: 0.6406\n",
            "Epoch 91/100\n",
            "50/50 [==============================] - 0s 2ms/step - loss: 0.5917 - accuracy: 0.7138 - val_loss: 0.6183 - val_accuracy: 0.6438\n",
            "Epoch 92/100\n",
            "50/50 [==============================] - 0s 2ms/step - loss: 0.5980 - accuracy: 0.6994 - val_loss: 0.6177 - val_accuracy: 0.6438\n",
            "Epoch 93/100\n",
            "50/50 [==============================] - 0s 2ms/step - loss: 0.6112 - accuracy: 0.7081 - val_loss: 0.6205 - val_accuracy: 0.6375\n",
            "Epoch 94/100\n",
            "50/50 [==============================] - 0s 2ms/step - loss: 0.6043 - accuracy: 0.7013 - val_loss: 0.6205 - val_accuracy: 0.6438\n",
            "Epoch 95/100\n",
            "50/50 [==============================] - 0s 2ms/step - loss: 0.6053 - accuracy: 0.7125 - val_loss: 0.6189 - val_accuracy: 0.6562\n",
            "Epoch 96/100\n",
            "50/50 [==============================] - 0s 2ms/step - loss: 0.6132 - accuracy: 0.6944 - val_loss: 0.6205 - val_accuracy: 0.6406\n",
            "Epoch 97/100\n",
            "50/50 [==============================] - 0s 2ms/step - loss: 0.5937 - accuracy: 0.7075 - val_loss: 0.6154 - val_accuracy: 0.6438\n",
            "Epoch 98/100\n",
            "50/50 [==============================] - 0s 2ms/step - loss: 0.6023 - accuracy: 0.6906 - val_loss: 0.6139 - val_accuracy: 0.6500\n",
            "Epoch 99/100\n",
            "50/50 [==============================] - 0s 2ms/step - loss: 0.6110 - accuracy: 0.7044 - val_loss: 0.6145 - val_accuracy: 0.6500\n",
            "Epoch 100/100\n",
            "50/50 [==============================] - 0s 2ms/step - loss: 0.6021 - accuracy: 0.6988 - val_loss: 0.6136 - val_accuracy: 0.6500\n",
            "10/10 [==============================] - 0s 2ms/step - loss: 0.6136 - accuracy: 0.6500\n",
            "Epoch 1/100\n",
            "50/50 [==============================] - 1s 5ms/step - loss: 0.8720 - accuracy: 0.5088 - val_loss: 0.8056 - val_accuracy: 0.4875\n",
            "Epoch 2/100\n",
            "50/50 [==============================] - 0s 2ms/step - loss: 0.8442 - accuracy: 0.4806 - val_loss: 0.8026 - val_accuracy: 0.4938\n",
            "Epoch 3/100\n",
            "50/50 [==============================] - 0s 3ms/step - loss: 0.8101 - accuracy: 0.5138 - val_loss: 0.7993 - val_accuracy: 0.4969\n",
            "Epoch 4/100\n",
            "50/50 [==============================] - 0s 3ms/step - loss: 0.8064 - accuracy: 0.5069 - val_loss: 0.7957 - val_accuracy: 0.5000\n",
            "Epoch 5/100\n",
            "50/50 [==============================] - 0s 2ms/step - loss: 0.8006 - accuracy: 0.5031 - val_loss: 0.7925 - val_accuracy: 0.5031\n",
            "Epoch 6/100\n",
            "50/50 [==============================] - 0s 3ms/step - loss: 0.7979 - accuracy: 0.5006 - val_loss: 0.7891 - val_accuracy: 0.5188\n",
            "Epoch 7/100\n",
            "50/50 [==============================] - 0s 3ms/step - loss: 0.7928 - accuracy: 0.5044 - val_loss: 0.7856 - val_accuracy: 0.5219\n",
            "Epoch 8/100\n",
            "50/50 [==============================] - 0s 3ms/step - loss: 0.7861 - accuracy: 0.5113 - val_loss: 0.7823 - val_accuracy: 0.5156\n",
            "Epoch 9/100\n",
            "50/50 [==============================] - 0s 2ms/step - loss: 0.7782 - accuracy: 0.5175 - val_loss: 0.7794 - val_accuracy: 0.5188\n",
            "Epoch 10/100\n",
            "50/50 [==============================] - 0s 3ms/step - loss: 0.7782 - accuracy: 0.5044 - val_loss: 0.7758 - val_accuracy: 0.5219\n",
            "Epoch 11/100\n",
            "50/50 [==============================] - 0s 2ms/step - loss: 0.7764 - accuracy: 0.5056 - val_loss: 0.7726 - val_accuracy: 0.5281\n",
            "Epoch 12/100\n",
            "50/50 [==============================] - 0s 3ms/step - loss: 0.7744 - accuracy: 0.5050 - val_loss: 0.7688 - val_accuracy: 0.5500\n",
            "Epoch 13/100\n",
            "50/50 [==============================] - 0s 2ms/step - loss: 0.7693 - accuracy: 0.5156 - val_loss: 0.7654 - val_accuracy: 0.5437\n",
            "Epoch 14/100\n",
            "50/50 [==============================] - 0s 2ms/step - loss: 0.7671 - accuracy: 0.5325 - val_loss: 0.7623 - val_accuracy: 0.5469\n",
            "Epoch 15/100\n",
            "50/50 [==============================] - 0s 2ms/step - loss: 0.7629 - accuracy: 0.5200 - val_loss: 0.7598 - val_accuracy: 0.5531\n",
            "Epoch 16/100\n",
            "50/50 [==============================] - 0s 2ms/step - loss: 0.7573 - accuracy: 0.5337 - val_loss: 0.7568 - val_accuracy: 0.5437\n",
            "Epoch 17/100\n",
            "50/50 [==============================] - 0s 2ms/step - loss: 0.7555 - accuracy: 0.5081 - val_loss: 0.7541 - val_accuracy: 0.5406\n",
            "Epoch 18/100\n",
            "50/50 [==============================] - 0s 2ms/step - loss: 0.7499 - accuracy: 0.5362 - val_loss: 0.7491 - val_accuracy: 0.5781\n",
            "Epoch 19/100\n",
            "50/50 [==============================] - 0s 3ms/step - loss: 0.7507 - accuracy: 0.5175 - val_loss: 0.7453 - val_accuracy: 0.5750\n",
            "Epoch 20/100\n",
            "50/50 [==============================] - 0s 2ms/step - loss: 0.7437 - accuracy: 0.5256 - val_loss: 0.7410 - val_accuracy: 0.5969\n",
            "Epoch 21/100\n",
            "50/50 [==============================] - 0s 2ms/step - loss: 0.7396 - accuracy: 0.5362 - val_loss: 0.7338 - val_accuracy: 0.5906\n",
            "Epoch 22/100\n",
            "50/50 [==============================] - 0s 3ms/step - loss: 0.7387 - accuracy: 0.5288 - val_loss: 0.7321 - val_accuracy: 0.5969\n",
            "Epoch 23/100\n",
            "50/50 [==============================] - 0s 3ms/step - loss: 0.7323 - accuracy: 0.5531 - val_loss: 0.7277 - val_accuracy: 0.5969\n",
            "Epoch 24/100\n",
            "50/50 [==============================] - 0s 2ms/step - loss: 0.7314 - accuracy: 0.5650 - val_loss: 0.7247 - val_accuracy: 0.6031\n",
            "Epoch 25/100\n",
            "50/50 [==============================] - 0s 2ms/step - loss: 0.7301 - accuracy: 0.5450 - val_loss: 0.7229 - val_accuracy: 0.6156\n",
            "Epoch 26/100\n",
            "50/50 [==============================] - 0s 2ms/step - loss: 0.7221 - accuracy: 0.5688 - val_loss: 0.7193 - val_accuracy: 0.6094\n",
            "Epoch 27/100\n",
            "50/50 [==============================] - 0s 2ms/step - loss: 0.7223 - accuracy: 0.5700 - val_loss: 0.7094 - val_accuracy: 0.6375\n",
            "Epoch 28/100\n",
            "50/50 [==============================] - 0s 2ms/step - loss: 0.7173 - accuracy: 0.5788 - val_loss: 0.7004 - val_accuracy: 0.6469\n",
            "Epoch 29/100\n",
            "50/50 [==============================] - 0s 3ms/step - loss: 0.7148 - accuracy: 0.5706 - val_loss: 0.6970 - val_accuracy: 0.6500\n",
            "Epoch 30/100\n",
            "50/50 [==============================] - 0s 2ms/step - loss: 0.7117 - accuracy: 0.5731 - val_loss: 0.6919 - val_accuracy: 0.6750\n",
            "Epoch 31/100\n",
            "50/50 [==============================] - 0s 2ms/step - loss: 0.7062 - accuracy: 0.5962 - val_loss: 0.6832 - val_accuracy: 0.6656\n",
            "Epoch 32/100\n",
            "50/50 [==============================] - 0s 2ms/step - loss: 0.7089 - accuracy: 0.5656 - val_loss: 0.6854 - val_accuracy: 0.6781\n",
            "Epoch 33/100\n",
            "50/50 [==============================] - 0s 2ms/step - loss: 0.7000 - accuracy: 0.5863 - val_loss: 0.6794 - val_accuracy: 0.6812\n",
            "Epoch 34/100\n",
            "50/50 [==============================] - 0s 2ms/step - loss: 0.6869 - accuracy: 0.6094 - val_loss: 0.6594 - val_accuracy: 0.6906\n",
            "Epoch 35/100\n",
            "50/50 [==============================] - 0s 2ms/step - loss: 0.7037 - accuracy: 0.6019 - val_loss: 0.6689 - val_accuracy: 0.6875\n",
            "Epoch 36/100\n",
            "50/50 [==============================] - 0s 3ms/step - loss: 0.6939 - accuracy: 0.6000 - val_loss: 0.6637 - val_accuracy: 0.6875\n",
            "Epoch 37/100\n",
            "50/50 [==============================] - 0s 3ms/step - loss: 0.6782 - accuracy: 0.6388 - val_loss: 0.6466 - val_accuracy: 0.7063\n",
            "Epoch 38/100\n",
            "50/50 [==============================] - 0s 2ms/step - loss: 0.6835 - accuracy: 0.6306 - val_loss: 0.6444 - val_accuracy: 0.6969\n",
            "Epoch 39/100\n",
            "50/50 [==============================] - 0s 2ms/step - loss: 0.6793 - accuracy: 0.6369 - val_loss: 0.6429 - val_accuracy: 0.6969\n",
            "Epoch 40/100\n",
            "50/50 [==============================] - 0s 2ms/step - loss: 0.6783 - accuracy: 0.6225 - val_loss: 0.6398 - val_accuracy: 0.6875\n",
            "Epoch 41/100\n",
            "50/50 [==============================] - 0s 2ms/step - loss: 0.6630 - accuracy: 0.6431 - val_loss: 0.6264 - val_accuracy: 0.6812\n",
            "Epoch 42/100\n",
            "50/50 [==============================] - 0s 2ms/step - loss: 0.6805 - accuracy: 0.6181 - val_loss: 0.6351 - val_accuracy: 0.6812\n",
            "Epoch 43/100\n",
            "50/50 [==============================] - 0s 2ms/step - loss: 0.6683 - accuracy: 0.6381 - val_loss: 0.6289 - val_accuracy: 0.6875\n",
            "Epoch 44/100\n",
            "50/50 [==============================] - 0s 2ms/step - loss: 0.6649 - accuracy: 0.6531 - val_loss: 0.6240 - val_accuracy: 0.6812\n",
            "Epoch 45/100\n",
            "50/50 [==============================] - 0s 2ms/step - loss: 0.6667 - accuracy: 0.6269 - val_loss: 0.6253 - val_accuracy: 0.6875\n",
            "Epoch 46/100\n",
            "50/50 [==============================] - 0s 2ms/step - loss: 0.6573 - accuracy: 0.6350 - val_loss: 0.6185 - val_accuracy: 0.7188\n",
            "Epoch 47/100\n",
            "50/50 [==============================] - 0s 3ms/step - loss: 0.6786 - accuracy: 0.6331 - val_loss: 0.6212 - val_accuracy: 0.6969\n",
            "Epoch 48/100\n",
            "50/50 [==============================] - 0s 2ms/step - loss: 0.6659 - accuracy: 0.6450 - val_loss: 0.6270 - val_accuracy: 0.6875\n",
            "Epoch 49/100\n",
            "50/50 [==============================] - 0s 2ms/step - loss: 0.6504 - accuracy: 0.6700 - val_loss: 0.6104 - val_accuracy: 0.6969\n",
            "Epoch 50/100\n",
            "50/50 [==============================] - 0s 3ms/step - loss: 0.6634 - accuracy: 0.6463 - val_loss: 0.6175 - val_accuracy: 0.6844\n",
            "Epoch 51/100\n",
            "50/50 [==============================] - 0s 2ms/step - loss: 0.6592 - accuracy: 0.6825 - val_loss: 0.6156 - val_accuracy: 0.6938\n",
            "Epoch 52/100\n",
            "50/50 [==============================] - 0s 3ms/step - loss: 0.6578 - accuracy: 0.6525 - val_loss: 0.6143 - val_accuracy: 0.6844\n",
            "Epoch 53/100\n",
            "50/50 [==============================] - 0s 2ms/step - loss: 0.6468 - accuracy: 0.6562 - val_loss: 0.6045 - val_accuracy: 0.6938\n",
            "Epoch 54/100\n",
            "50/50 [==============================] - 0s 3ms/step - loss: 0.6464 - accuracy: 0.6619 - val_loss: 0.6050 - val_accuracy: 0.6750\n",
            "Epoch 55/100\n",
            "50/50 [==============================] - 0s 2ms/step - loss: 0.6447 - accuracy: 0.6519 - val_loss: 0.5986 - val_accuracy: 0.7063\n",
            "Epoch 56/100\n",
            "50/50 [==============================] - 0s 3ms/step - loss: 0.6503 - accuracy: 0.6544 - val_loss: 0.6048 - val_accuracy: 0.7031\n",
            "Epoch 57/100\n",
            "50/50 [==============================] - 0s 2ms/step - loss: 0.6502 - accuracy: 0.6662 - val_loss: 0.6031 - val_accuracy: 0.6906\n",
            "Epoch 58/100\n",
            "50/50 [==============================] - 0s 2ms/step - loss: 0.6493 - accuracy: 0.6612 - val_loss: 0.5996 - val_accuracy: 0.6844\n",
            "Epoch 59/100\n",
            "50/50 [==============================] - 0s 2ms/step - loss: 0.6408 - accuracy: 0.6544 - val_loss: 0.5927 - val_accuracy: 0.6875\n",
            "Epoch 60/100\n",
            "50/50 [==============================] - 0s 2ms/step - loss: 0.6309 - accuracy: 0.6694 - val_loss: 0.5849 - val_accuracy: 0.7125\n",
            "Epoch 61/100\n",
            "50/50 [==============================] - 0s 3ms/step - loss: 0.6406 - accuracy: 0.6562 - val_loss: 0.5892 - val_accuracy: 0.6906\n",
            "Epoch 62/100\n",
            "50/50 [==============================] - 0s 2ms/step - loss: 0.6385 - accuracy: 0.6662 - val_loss: 0.5910 - val_accuracy: 0.6938\n",
            "Epoch 63/100\n",
            "50/50 [==============================] - 0s 2ms/step - loss: 0.6313 - accuracy: 0.6875 - val_loss: 0.5894 - val_accuracy: 0.6844\n",
            "Epoch 64/100\n",
            "50/50 [==============================] - 0s 3ms/step - loss: 0.6364 - accuracy: 0.6800 - val_loss: 0.5879 - val_accuracy: 0.7219\n",
            "Epoch 65/100\n",
            "50/50 [==============================] - 0s 2ms/step - loss: 0.6402 - accuracy: 0.6675 - val_loss: 0.5919 - val_accuracy: 0.7094\n",
            "Epoch 66/100\n",
            "50/50 [==============================] - 0s 2ms/step - loss: 0.6283 - accuracy: 0.6787 - val_loss: 0.5863 - val_accuracy: 0.7031\n",
            "Epoch 67/100\n",
            "50/50 [==============================] - 0s 2ms/step - loss: 0.6290 - accuracy: 0.6637 - val_loss: 0.5821 - val_accuracy: 0.7031\n",
            "Epoch 68/100\n",
            "50/50 [==============================] - 0s 2ms/step - loss: 0.6272 - accuracy: 0.6931 - val_loss: 0.5858 - val_accuracy: 0.7125\n",
            "Epoch 69/100\n",
            "50/50 [==============================] - 0s 3ms/step - loss: 0.6158 - accuracy: 0.6725 - val_loss: 0.5828 - val_accuracy: 0.7063\n",
            "Epoch 70/100\n",
            "50/50 [==============================] - 0s 3ms/step - loss: 0.6277 - accuracy: 0.6856 - val_loss: 0.5901 - val_accuracy: 0.7000\n",
            "Epoch 71/100\n",
            "50/50 [==============================] - 0s 2ms/step - loss: 0.6251 - accuracy: 0.6869 - val_loss: 0.5865 - val_accuracy: 0.7156\n",
            "Epoch 72/100\n",
            "50/50 [==============================] - 0s 2ms/step - loss: 0.6257 - accuracy: 0.6831 - val_loss: 0.5840 - val_accuracy: 0.7125\n",
            "Epoch 73/100\n",
            "50/50 [==============================] - 0s 3ms/step - loss: 0.6127 - accuracy: 0.6850 - val_loss: 0.5804 - val_accuracy: 0.7063\n",
            "Epoch 74/100\n",
            "50/50 [==============================] - 0s 3ms/step - loss: 0.6238 - accuracy: 0.6881 - val_loss: 0.5820 - val_accuracy: 0.7125\n",
            "Epoch 75/100\n",
            "50/50 [==============================] - 0s 2ms/step - loss: 0.6123 - accuracy: 0.6888 - val_loss: 0.5786 - val_accuracy: 0.7031\n",
            "Epoch 76/100\n",
            "50/50 [==============================] - 0s 2ms/step - loss: 0.6319 - accuracy: 0.6837 - val_loss: 0.5866 - val_accuracy: 0.7031\n",
            "Epoch 77/100\n",
            "50/50 [==============================] - 0s 2ms/step - loss: 0.6249 - accuracy: 0.6787 - val_loss: 0.5819 - val_accuracy: 0.7312\n",
            "Epoch 78/100\n",
            "50/50 [==============================] - 0s 2ms/step - loss: 0.6261 - accuracy: 0.6894 - val_loss: 0.5830 - val_accuracy: 0.7219\n",
            "Epoch 79/100\n",
            "50/50 [==============================] - 0s 2ms/step - loss: 0.6203 - accuracy: 0.6837 - val_loss: 0.5759 - val_accuracy: 0.7156\n",
            "Epoch 80/100\n",
            "50/50 [==============================] - 0s 3ms/step - loss: 0.6126 - accuracy: 0.6787 - val_loss: 0.5768 - val_accuracy: 0.7188\n",
            "Epoch 81/100\n",
            "50/50 [==============================] - 0s 2ms/step - loss: 0.6169 - accuracy: 0.6787 - val_loss: 0.5746 - val_accuracy: 0.7219\n",
            "Epoch 82/100\n",
            "50/50 [==============================] - 0s 2ms/step - loss: 0.6225 - accuracy: 0.6831 - val_loss: 0.5813 - val_accuracy: 0.7188\n",
            "Epoch 83/100\n",
            "50/50 [==============================] - 0s 2ms/step - loss: 0.6226 - accuracy: 0.6794 - val_loss: 0.5815 - val_accuracy: 0.7125\n",
            "Epoch 84/100\n",
            "50/50 [==============================] - 0s 3ms/step - loss: 0.6142 - accuracy: 0.6812 - val_loss: 0.5805 - val_accuracy: 0.7000\n",
            "Epoch 85/100\n",
            "50/50 [==============================] - 0s 2ms/step - loss: 0.6191 - accuracy: 0.6862 - val_loss: 0.5861 - val_accuracy: 0.6969\n",
            "Epoch 86/100\n",
            "50/50 [==============================] - 0s 3ms/step - loss: 0.6067 - accuracy: 0.6975 - val_loss: 0.5765 - val_accuracy: 0.7188\n",
            "Epoch 87/100\n",
            "50/50 [==============================] - 0s 3ms/step - loss: 0.6182 - accuracy: 0.6988 - val_loss: 0.5830 - val_accuracy: 0.6906\n",
            "Epoch 88/100\n",
            "50/50 [==============================] - 0s 2ms/step - loss: 0.6074 - accuracy: 0.6819 - val_loss: 0.5804 - val_accuracy: 0.7000\n",
            "Epoch 89/100\n",
            "50/50 [==============================] - 0s 2ms/step - loss: 0.6119 - accuracy: 0.6919 - val_loss: 0.5807 - val_accuracy: 0.7188\n",
            "Epoch 90/100\n",
            "50/50 [==============================] - 0s 2ms/step - loss: 0.6219 - accuracy: 0.6787 - val_loss: 0.5805 - val_accuracy: 0.7188\n",
            "Epoch 91/100\n",
            "50/50 [==============================] - 0s 2ms/step - loss: 0.6059 - accuracy: 0.6925 - val_loss: 0.5761 - val_accuracy: 0.7281\n",
            "Epoch 92/100\n",
            "50/50 [==============================] - 0s 3ms/step - loss: 0.6097 - accuracy: 0.7013 - val_loss: 0.5742 - val_accuracy: 0.7125\n",
            "Epoch 93/100\n",
            "50/50 [==============================] - 0s 2ms/step - loss: 0.6045 - accuracy: 0.7013 - val_loss: 0.5730 - val_accuracy: 0.7125\n",
            "Epoch 94/100\n",
            "50/50 [==============================] - 0s 2ms/step - loss: 0.6222 - accuracy: 0.6969 - val_loss: 0.5800 - val_accuracy: 0.7094\n",
            "Epoch 95/100\n",
            "50/50 [==============================] - 0s 3ms/step - loss: 0.6082 - accuracy: 0.6975 - val_loss: 0.5785 - val_accuracy: 0.7344\n",
            "Epoch 96/100\n",
            "50/50 [==============================] - 0s 2ms/step - loss: 0.6006 - accuracy: 0.6981 - val_loss: 0.5738 - val_accuracy: 0.7156\n",
            "Epoch 97/100\n",
            "50/50 [==============================] - 0s 2ms/step - loss: 0.6167 - accuracy: 0.6981 - val_loss: 0.5708 - val_accuracy: 0.7406\n",
            "Epoch 98/100\n",
            "50/50 [==============================] - 0s 2ms/step - loss: 0.6195 - accuracy: 0.6837 - val_loss: 0.5755 - val_accuracy: 0.7312\n",
            "Epoch 99/100\n",
            "50/50 [==============================] - 0s 2ms/step - loss: 0.6221 - accuracy: 0.6750 - val_loss: 0.5781 - val_accuracy: 0.7250\n",
            "Epoch 100/100\n",
            "50/50 [==============================] - 0s 3ms/step - loss: 0.6105 - accuracy: 0.6875 - val_loss: 0.5699 - val_accuracy: 0.7312\n",
            "10/10 [==============================] - 0s 2ms/step - loss: 0.5699 - accuracy: 0.7312\n",
            "Epoch 1/100\n",
            "50/50 [==============================] - 1s 6ms/step - loss: 0.8694 - accuracy: 0.4719 - val_loss: 0.8020 - val_accuracy: 0.5031\n",
            "Epoch 2/100\n",
            "50/50 [==============================] - 0s 2ms/step - loss: 0.8241 - accuracy: 0.5025 - val_loss: 0.7983 - val_accuracy: 0.5188\n",
            "Epoch 3/100\n",
            "50/50 [==============================] - 0s 3ms/step - loss: 0.8062 - accuracy: 0.5125 - val_loss: 0.7953 - val_accuracy: 0.5125\n",
            "Epoch 4/100\n",
            "50/50 [==============================] - 0s 3ms/step - loss: 0.8066 - accuracy: 0.4913 - val_loss: 0.7917 - val_accuracy: 0.5156\n",
            "Epoch 5/100\n",
            "50/50 [==============================] - 0s 2ms/step - loss: 0.7981 - accuracy: 0.5063 - val_loss: 0.7878 - val_accuracy: 0.5281\n",
            "Epoch 6/100\n",
            "50/50 [==============================] - 0s 3ms/step - loss: 0.7900 - accuracy: 0.5250 - val_loss: 0.7845 - val_accuracy: 0.5406\n",
            "Epoch 7/100\n",
            "50/50 [==============================] - 0s 2ms/step - loss: 0.7865 - accuracy: 0.5081 - val_loss: 0.7813 - val_accuracy: 0.5344\n",
            "Epoch 8/100\n",
            "50/50 [==============================] - 0s 2ms/step - loss: 0.7808 - accuracy: 0.5194 - val_loss: 0.7779 - val_accuracy: 0.5406\n",
            "Epoch 9/100\n",
            "50/50 [==============================] - 0s 3ms/step - loss: 0.7781 - accuracy: 0.5194 - val_loss: 0.7739 - val_accuracy: 0.5656\n",
            "Epoch 10/100\n",
            "50/50 [==============================] - 0s 3ms/step - loss: 0.7719 - accuracy: 0.5156 - val_loss: 0.7703 - val_accuracy: 0.5625\n",
            "Epoch 11/100\n",
            "50/50 [==============================] - 0s 3ms/step - loss: 0.7708 - accuracy: 0.5231 - val_loss: 0.7672 - val_accuracy: 0.5594\n",
            "Epoch 12/100\n",
            "50/50 [==============================] - 0s 3ms/step - loss: 0.7687 - accuracy: 0.4931 - val_loss: 0.7643 - val_accuracy: 0.5344\n",
            "Epoch 13/100\n",
            "50/50 [==============================] - 0s 2ms/step - loss: 0.7623 - accuracy: 0.5300 - val_loss: 0.7608 - val_accuracy: 0.5437\n",
            "Epoch 14/100\n",
            "50/50 [==============================] - 0s 2ms/step - loss: 0.7620 - accuracy: 0.5244 - val_loss: 0.7582 - val_accuracy: 0.5469\n",
            "Epoch 15/100\n",
            "50/50 [==============================] - 0s 2ms/step - loss: 0.7570 - accuracy: 0.5056 - val_loss: 0.7553 - val_accuracy: 0.5312\n",
            "Epoch 16/100\n",
            "50/50 [==============================] - 0s 3ms/step - loss: 0.7544 - accuracy: 0.5256 - val_loss: 0.7520 - val_accuracy: 0.5625\n",
            "Epoch 17/100\n",
            "50/50 [==============================] - 0s 2ms/step - loss: 0.7507 - accuracy: 0.5038 - val_loss: 0.7489 - val_accuracy: 0.5781\n",
            "Epoch 18/100\n",
            "50/50 [==============================] - 0s 3ms/step - loss: 0.7467 - accuracy: 0.5288 - val_loss: 0.7452 - val_accuracy: 0.6062\n",
            "Epoch 19/100\n",
            "50/50 [==============================] - 0s 3ms/step - loss: 0.7423 - accuracy: 0.5437 - val_loss: 0.7405 - val_accuracy: 0.6250\n",
            "Epoch 20/100\n",
            "50/50 [==============================] - 0s 2ms/step - loss: 0.7422 - accuracy: 0.5375 - val_loss: 0.7373 - val_accuracy: 0.6125\n",
            "Epoch 21/100\n",
            "50/50 [==============================] - 0s 3ms/step - loss: 0.7354 - accuracy: 0.5431 - val_loss: 0.7303 - val_accuracy: 0.6125\n",
            "Epoch 22/100\n",
            "50/50 [==============================] - 0s 2ms/step - loss: 0.7364 - accuracy: 0.5131 - val_loss: 0.7288 - val_accuracy: 0.6281\n",
            "Epoch 23/100\n",
            "50/50 [==============================] - 0s 3ms/step - loss: 0.7264 - accuracy: 0.5681 - val_loss: 0.7242 - val_accuracy: 0.6406\n",
            "Epoch 24/100\n",
            "50/50 [==============================] - 0s 4ms/step - loss: 0.7219 - accuracy: 0.5619 - val_loss: 0.7138 - val_accuracy: 0.6219\n",
            "Epoch 25/100\n",
            "50/50 [==============================] - 0s 3ms/step - loss: 0.7197 - accuracy: 0.5625 - val_loss: 0.7088 - val_accuracy: 0.6438\n",
            "Epoch 26/100\n",
            "50/50 [==============================] - 0s 3ms/step - loss: 0.7184 - accuracy: 0.5769 - val_loss: 0.7056 - val_accuracy: 0.6406\n",
            "Epoch 27/100\n",
            "50/50 [==============================] - 0s 4ms/step - loss: 0.7073 - accuracy: 0.5838 - val_loss: 0.6963 - val_accuracy: 0.6594\n",
            "Epoch 28/100\n",
            "50/50 [==============================] - 0s 4ms/step - loss: 0.7116 - accuracy: 0.5844 - val_loss: 0.6913 - val_accuracy: 0.6719\n",
            "Epoch 29/100\n",
            "50/50 [==============================] - 0s 3ms/step - loss: 0.7032 - accuracy: 0.5900 - val_loss: 0.6807 - val_accuracy: 0.6844\n",
            "Epoch 30/100\n",
            "50/50 [==============================] - 0s 2ms/step - loss: 0.7040 - accuracy: 0.5994 - val_loss: 0.6729 - val_accuracy: 0.6781\n",
            "Epoch 31/100\n",
            "50/50 [==============================] - 0s 2ms/step - loss: 0.6958 - accuracy: 0.6025 - val_loss: 0.6661 - val_accuracy: 0.6844\n",
            "Epoch 32/100\n",
            "50/50 [==============================] - 0s 3ms/step - loss: 0.6838 - accuracy: 0.6087 - val_loss: 0.6559 - val_accuracy: 0.6969\n",
            "Epoch 33/100\n",
            "50/50 [==============================] - 0s 3ms/step - loss: 0.6791 - accuracy: 0.6319 - val_loss: 0.6517 - val_accuracy: 0.6969\n",
            "Epoch 34/100\n",
            "50/50 [==============================] - 0s 3ms/step - loss: 0.6840 - accuracy: 0.6162 - val_loss: 0.6556 - val_accuracy: 0.7094\n",
            "Epoch 35/100\n",
            "50/50 [==============================] - 0s 2ms/step - loss: 0.6805 - accuracy: 0.6037 - val_loss: 0.6564 - val_accuracy: 0.6969\n",
            "Epoch 36/100\n",
            "50/50 [==============================] - 0s 3ms/step - loss: 0.6662 - accuracy: 0.6413 - val_loss: 0.6383 - val_accuracy: 0.6938\n",
            "Epoch 37/100\n",
            "50/50 [==============================] - 0s 2ms/step - loss: 0.6642 - accuracy: 0.6413 - val_loss: 0.6383 - val_accuracy: 0.7000\n",
            "Epoch 38/100\n",
            "50/50 [==============================] - 0s 3ms/step - loss: 0.6609 - accuracy: 0.6400 - val_loss: 0.6353 - val_accuracy: 0.6875\n",
            "Epoch 39/100\n",
            "50/50 [==============================] - 0s 3ms/step - loss: 0.6508 - accuracy: 0.6475 - val_loss: 0.6284 - val_accuracy: 0.7000\n",
            "Epoch 40/100\n",
            "50/50 [==============================] - 0s 2ms/step - loss: 0.6521 - accuracy: 0.6475 - val_loss: 0.6299 - val_accuracy: 0.6781\n",
            "Epoch 41/100\n",
            "50/50 [==============================] - 0s 2ms/step - loss: 0.6522 - accuracy: 0.6675 - val_loss: 0.6316 - val_accuracy: 0.6844\n",
            "Epoch 42/100\n",
            "50/50 [==============================] - 0s 2ms/step - loss: 0.6502 - accuracy: 0.6538 - val_loss: 0.6293 - val_accuracy: 0.6656\n",
            "Epoch 43/100\n",
            "50/50 [==============================] - 0s 2ms/step - loss: 0.6605 - accuracy: 0.6606 - val_loss: 0.6311 - val_accuracy: 0.6781\n",
            "Epoch 44/100\n",
            "50/50 [==============================] - 0s 2ms/step - loss: 0.6503 - accuracy: 0.6562 - val_loss: 0.6213 - val_accuracy: 0.7031\n",
            "Epoch 45/100\n",
            "50/50 [==============================] - 0s 3ms/step - loss: 0.6479 - accuracy: 0.6681 - val_loss: 0.6257 - val_accuracy: 0.6531\n",
            "Epoch 46/100\n",
            "50/50 [==============================] - 0s 2ms/step - loss: 0.6449 - accuracy: 0.6494 - val_loss: 0.6223 - val_accuracy: 0.6781\n",
            "Epoch 47/100\n",
            "50/50 [==============================] - 0s 3ms/step - loss: 0.6464 - accuracy: 0.6594 - val_loss: 0.6201 - val_accuracy: 0.6875\n",
            "Epoch 48/100\n",
            "50/50 [==============================] - 0s 2ms/step - loss: 0.6418 - accuracy: 0.6612 - val_loss: 0.6161 - val_accuracy: 0.6844\n",
            "Epoch 49/100\n",
            "50/50 [==============================] - 0s 3ms/step - loss: 0.6378 - accuracy: 0.6669 - val_loss: 0.6141 - val_accuracy: 0.6938\n",
            "Epoch 50/100\n",
            "50/50 [==============================] - 0s 3ms/step - loss: 0.6456 - accuracy: 0.6631 - val_loss: 0.6193 - val_accuracy: 0.6844\n",
            "Epoch 51/100\n",
            "50/50 [==============================] - 0s 3ms/step - loss: 0.6393 - accuracy: 0.6644 - val_loss: 0.6196 - val_accuracy: 0.6687\n",
            "Epoch 52/100\n",
            "50/50 [==============================] - 0s 3ms/step - loss: 0.6338 - accuracy: 0.6819 - val_loss: 0.6125 - val_accuracy: 0.6781\n",
            "Epoch 53/100\n",
            "50/50 [==============================] - 0s 2ms/step - loss: 0.6276 - accuracy: 0.6725 - val_loss: 0.6096 - val_accuracy: 0.6875\n",
            "Epoch 54/100\n",
            "50/50 [==============================] - 0s 2ms/step - loss: 0.6349 - accuracy: 0.6637 - val_loss: 0.6132 - val_accuracy: 0.6875\n",
            "Epoch 55/100\n",
            "50/50 [==============================] - 0s 3ms/step - loss: 0.6372 - accuracy: 0.6750 - val_loss: 0.6137 - val_accuracy: 0.6812\n",
            "Epoch 56/100\n",
            "50/50 [==============================] - 0s 2ms/step - loss: 0.6343 - accuracy: 0.6644 - val_loss: 0.6154 - val_accuracy: 0.6687\n",
            "Epoch 57/100\n",
            "50/50 [==============================] - 0s 3ms/step - loss: 0.6192 - accuracy: 0.6806 - val_loss: 0.6105 - val_accuracy: 0.6719\n",
            "Epoch 58/100\n",
            "50/50 [==============================] - 0s 3ms/step - loss: 0.6274 - accuracy: 0.6625 - val_loss: 0.6127 - val_accuracy: 0.6656\n",
            "Epoch 59/100\n",
            "50/50 [==============================] - 0s 2ms/step - loss: 0.6151 - accuracy: 0.6806 - val_loss: 0.6073 - val_accuracy: 0.6906\n",
            "Epoch 60/100\n",
            "50/50 [==============================] - 0s 2ms/step - loss: 0.6185 - accuracy: 0.6756 - val_loss: 0.6095 - val_accuracy: 0.6906\n",
            "Epoch 61/100\n",
            "50/50 [==============================] - 0s 3ms/step - loss: 0.6150 - accuracy: 0.6950 - val_loss: 0.6098 - val_accuracy: 0.6781\n",
            "Epoch 62/100\n",
            "50/50 [==============================] - 0s 3ms/step - loss: 0.6223 - accuracy: 0.6931 - val_loss: 0.6149 - val_accuracy: 0.6750\n",
            "Epoch 63/100\n",
            "50/50 [==============================] - 0s 3ms/step - loss: 0.6323 - accuracy: 0.6844 - val_loss: 0.6142 - val_accuracy: 0.6812\n",
            "Epoch 64/100\n",
            "50/50 [==============================] - 0s 2ms/step - loss: 0.6269 - accuracy: 0.6800 - val_loss: 0.6111 - val_accuracy: 0.6812\n",
            "Epoch 65/100\n",
            "50/50 [==============================] - 0s 3ms/step - loss: 0.6132 - accuracy: 0.6919 - val_loss: 0.6058 - val_accuracy: 0.6750\n",
            "Epoch 66/100\n",
            "50/50 [==============================] - 0s 2ms/step - loss: 0.6257 - accuracy: 0.6794 - val_loss: 0.6107 - val_accuracy: 0.6687\n",
            "Epoch 67/100\n",
            "50/50 [==============================] - 0s 3ms/step - loss: 0.6243 - accuracy: 0.6825 - val_loss: 0.6065 - val_accuracy: 0.6906\n",
            "Epoch 68/100\n",
            "50/50 [==============================] - 0s 2ms/step - loss: 0.6086 - accuracy: 0.6881 - val_loss: 0.6105 - val_accuracy: 0.6656\n",
            "Epoch 69/100\n",
            "50/50 [==============================] - 0s 2ms/step - loss: 0.6195 - accuracy: 0.6888 - val_loss: 0.6075 - val_accuracy: 0.6625\n",
            "Epoch 70/100\n",
            "50/50 [==============================] - 0s 2ms/step - loss: 0.6217 - accuracy: 0.6869 - val_loss: 0.6107 - val_accuracy: 0.6719\n",
            "Epoch 71/100\n",
            "50/50 [==============================] - 0s 2ms/step - loss: 0.6163 - accuracy: 0.6781 - val_loss: 0.6083 - val_accuracy: 0.6687\n",
            "Epoch 72/100\n",
            "50/50 [==============================] - 0s 3ms/step - loss: 0.6136 - accuracy: 0.7006 - val_loss: 0.6089 - val_accuracy: 0.6719\n",
            "Epoch 73/100\n",
            "50/50 [==============================] - 0s 3ms/step - loss: 0.6081 - accuracy: 0.7019 - val_loss: 0.6070 - val_accuracy: 0.6750\n",
            "Epoch 74/100\n",
            "50/50 [==============================] - 0s 3ms/step - loss: 0.6047 - accuracy: 0.6900 - val_loss: 0.6034 - val_accuracy: 0.6812\n",
            "Epoch 75/100\n",
            "50/50 [==============================] - 0s 3ms/step - loss: 0.6023 - accuracy: 0.7000 - val_loss: 0.6042 - val_accuracy: 0.6781\n",
            "Epoch 76/100\n",
            "50/50 [==============================] - 0s 2ms/step - loss: 0.6079 - accuracy: 0.6919 - val_loss: 0.6100 - val_accuracy: 0.6750\n",
            "Epoch 77/100\n",
            "50/50 [==============================] - 0s 2ms/step - loss: 0.6086 - accuracy: 0.6925 - val_loss: 0.6038 - val_accuracy: 0.6844\n",
            "Epoch 78/100\n",
            "50/50 [==============================] - 0s 3ms/step - loss: 0.6135 - accuracy: 0.6806 - val_loss: 0.6056 - val_accuracy: 0.6656\n",
            "Epoch 79/100\n",
            "50/50 [==============================] - 0s 2ms/step - loss: 0.6001 - accuracy: 0.7175 - val_loss: 0.6040 - val_accuracy: 0.6750\n",
            "Epoch 80/100\n",
            "50/50 [==============================] - 0s 3ms/step - loss: 0.6079 - accuracy: 0.6919 - val_loss: 0.6039 - val_accuracy: 0.6812\n",
            "Epoch 81/100\n",
            "50/50 [==============================] - 0s 3ms/step - loss: 0.5994 - accuracy: 0.7019 - val_loss: 0.6072 - val_accuracy: 0.6812\n",
            "Epoch 82/100\n",
            "50/50 [==============================] - 0s 3ms/step - loss: 0.6004 - accuracy: 0.7038 - val_loss: 0.6025 - val_accuracy: 0.6781\n",
            "Epoch 83/100\n",
            "50/50 [==============================] - 0s 3ms/step - loss: 0.6019 - accuracy: 0.7056 - val_loss: 0.6043 - val_accuracy: 0.6812\n",
            "Epoch 84/100\n",
            "50/50 [==============================] - 0s 2ms/step - loss: 0.6055 - accuracy: 0.6956 - val_loss: 0.6015 - val_accuracy: 0.6781\n",
            "Epoch 85/100\n",
            "50/50 [==============================] - 0s 3ms/step - loss: 0.6028 - accuracy: 0.6975 - val_loss: 0.6034 - val_accuracy: 0.6750\n",
            "Epoch 86/100\n",
            "50/50 [==============================] - 0s 2ms/step - loss: 0.6008 - accuracy: 0.6988 - val_loss: 0.6008 - val_accuracy: 0.6781\n",
            "Epoch 87/100\n",
            "50/50 [==============================] - 0s 3ms/step - loss: 0.5962 - accuracy: 0.7031 - val_loss: 0.6025 - val_accuracy: 0.6625\n",
            "Epoch 88/100\n",
            "50/50 [==============================] - 0s 3ms/step - loss: 0.5866 - accuracy: 0.7013 - val_loss: 0.5997 - val_accuracy: 0.6812\n",
            "Epoch 89/100\n",
            "50/50 [==============================] - 0s 2ms/step - loss: 0.5850 - accuracy: 0.7056 - val_loss: 0.6063 - val_accuracy: 0.6656\n",
            "Epoch 90/100\n",
            "50/50 [==============================] - 0s 2ms/step - loss: 0.6025 - accuracy: 0.6881 - val_loss: 0.6048 - val_accuracy: 0.6844\n",
            "Epoch 91/100\n",
            "50/50 [==============================] - 0s 2ms/step - loss: 0.5966 - accuracy: 0.7106 - val_loss: 0.6062 - val_accuracy: 0.6750\n",
            "Epoch 92/100\n",
            "50/50 [==============================] - 0s 3ms/step - loss: 0.5871 - accuracy: 0.6956 - val_loss: 0.6024 - val_accuracy: 0.6687\n",
            "Epoch 93/100\n",
            "50/50 [==============================] - 0s 2ms/step - loss: 0.5994 - accuracy: 0.7256 - val_loss: 0.6023 - val_accuracy: 0.6844\n",
            "Epoch 94/100\n",
            "50/50 [==============================] - 0s 2ms/step - loss: 0.5937 - accuracy: 0.7081 - val_loss: 0.6001 - val_accuracy: 0.6781\n",
            "Epoch 95/100\n",
            "50/50 [==============================] - 0s 3ms/step - loss: 0.5986 - accuracy: 0.7088 - val_loss: 0.5996 - val_accuracy: 0.6875\n",
            "Epoch 96/100\n",
            "50/50 [==============================] - 0s 3ms/step - loss: 0.5907 - accuracy: 0.7081 - val_loss: 0.6056 - val_accuracy: 0.6750\n",
            "Epoch 97/100\n",
            "50/50 [==============================] - 0s 2ms/step - loss: 0.5943 - accuracy: 0.7038 - val_loss: 0.5996 - val_accuracy: 0.6812\n",
            "Epoch 98/100\n",
            "50/50 [==============================] - 0s 3ms/step - loss: 0.5920 - accuracy: 0.7106 - val_loss: 0.5989 - val_accuracy: 0.6875\n",
            "Epoch 99/100\n",
            "50/50 [==============================] - 0s 3ms/step - loss: 0.6007 - accuracy: 0.7006 - val_loss: 0.6034 - val_accuracy: 0.6812\n",
            "Epoch 100/100\n",
            "50/50 [==============================] - 0s 3ms/step - loss: 0.5764 - accuracy: 0.7225 - val_loss: 0.6034 - val_accuracy: 0.6812\n",
            "10/10 [==============================] - 0s 2ms/step - loss: 0.6034 - accuracy: 0.6812\n",
            "Epoch 1/100\n",
            "50/50 [==============================] - 1s 5ms/step - loss: 0.8681 - accuracy: 0.4725 - val_loss: 0.7999 - val_accuracy: 0.5000\n",
            "Epoch 2/100\n",
            "50/50 [==============================] - 0s 3ms/step - loss: 0.8097 - accuracy: 0.5131 - val_loss: 0.7969 - val_accuracy: 0.4906\n",
            "Epoch 3/100\n",
            "50/50 [==============================] - 0s 3ms/step - loss: 0.8002 - accuracy: 0.5275 - val_loss: 0.7916 - val_accuracy: 0.4969\n",
            "Epoch 4/100\n",
            "50/50 [==============================] - 0s 2ms/step - loss: 0.7988 - accuracy: 0.5025 - val_loss: 0.7879 - val_accuracy: 0.4906\n",
            "Epoch 5/100\n",
            "50/50 [==============================] - 0s 3ms/step - loss: 0.7908 - accuracy: 0.5056 - val_loss: 0.7846 - val_accuracy: 0.4812\n",
            "Epoch 6/100\n",
            "50/50 [==============================] - 0s 2ms/step - loss: 0.7859 - accuracy: 0.4944 - val_loss: 0.7804 - val_accuracy: 0.4844\n",
            "Epoch 7/100\n",
            "50/50 [==============================] - 0s 2ms/step - loss: 0.7792 - accuracy: 0.5200 - val_loss: 0.7762 - val_accuracy: 0.4812\n",
            "Epoch 8/100\n",
            "50/50 [==============================] - 0s 2ms/step - loss: 0.7741 - accuracy: 0.5106 - val_loss: 0.7726 - val_accuracy: 0.4812\n",
            "Epoch 9/100\n",
            "50/50 [==============================] - 0s 3ms/step - loss: 0.7684 - accuracy: 0.5150 - val_loss: 0.7688 - val_accuracy: 0.4844\n",
            "Epoch 10/100\n",
            "50/50 [==============================] - 0s 2ms/step - loss: 0.7691 - accuracy: 0.4938 - val_loss: 0.7653 - val_accuracy: 0.4812\n",
            "Epoch 11/100\n",
            "50/50 [==============================] - 0s 3ms/step - loss: 0.7630 - accuracy: 0.5263 - val_loss: 0.7613 - val_accuracy: 0.4906\n",
            "Epoch 12/100\n",
            "50/50 [==============================] - 0s 3ms/step - loss: 0.7556 - accuracy: 0.5344 - val_loss: 0.7576 - val_accuracy: 0.5063\n",
            "Epoch 13/100\n",
            "50/50 [==============================] - 0s 3ms/step - loss: 0.7531 - accuracy: 0.5300 - val_loss: 0.7530 - val_accuracy: 0.5250\n",
            "Epoch 14/100\n",
            "50/50 [==============================] - 0s 2ms/step - loss: 0.7464 - accuracy: 0.5412 - val_loss: 0.7479 - val_accuracy: 0.5500\n",
            "Epoch 15/100\n",
            "50/50 [==============================] - 0s 3ms/step - loss: 0.7413 - accuracy: 0.5450 - val_loss: 0.7423 - val_accuracy: 0.5500\n",
            "Epoch 16/100\n",
            "50/50 [==============================] - 0s 2ms/step - loss: 0.7387 - accuracy: 0.5487 - val_loss: 0.7358 - val_accuracy: 0.5500\n",
            "Epoch 17/100\n",
            "50/50 [==============================] - 0s 3ms/step - loss: 0.7321 - accuracy: 0.5450 - val_loss: 0.7311 - val_accuracy: 0.5625\n",
            "Epoch 18/100\n",
            "50/50 [==============================] - 0s 3ms/step - loss: 0.7335 - accuracy: 0.5569 - val_loss: 0.7332 - val_accuracy: 0.5437\n",
            "Epoch 19/100\n",
            "50/50 [==============================] - 0s 3ms/step - loss: 0.7277 - accuracy: 0.5738 - val_loss: 0.7263 - val_accuracy: 0.5500\n",
            "Epoch 20/100\n",
            "50/50 [==============================] - 0s 3ms/step - loss: 0.7220 - accuracy: 0.5638 - val_loss: 0.7199 - val_accuracy: 0.5594\n",
            "Epoch 21/100\n",
            "50/50 [==============================] - 0s 3ms/step - loss: 0.7179 - accuracy: 0.5688 - val_loss: 0.7171 - val_accuracy: 0.5594\n",
            "Epoch 22/100\n",
            "50/50 [==============================] - 0s 3ms/step - loss: 0.7131 - accuracy: 0.5744 - val_loss: 0.7148 - val_accuracy: 0.5531\n",
            "Epoch 23/100\n",
            "50/50 [==============================] - 0s 2ms/step - loss: 0.7149 - accuracy: 0.5788 - val_loss: 0.7179 - val_accuracy: 0.5531\n",
            "Epoch 24/100\n",
            "50/50 [==============================] - 0s 3ms/step - loss: 0.7112 - accuracy: 0.5831 - val_loss: 0.7141 - val_accuracy: 0.5437\n",
            "Epoch 25/100\n",
            "50/50 [==============================] - 0s 3ms/step - loss: 0.7076 - accuracy: 0.5906 - val_loss: 0.7077 - val_accuracy: 0.5656\n",
            "Epoch 26/100\n",
            "50/50 [==============================] - 0s 3ms/step - loss: 0.7127 - accuracy: 0.5731 - val_loss: 0.7067 - val_accuracy: 0.5844\n",
            "Epoch 27/100\n",
            "50/50 [==============================] - 0s 3ms/step - loss: 0.6968 - accuracy: 0.5994 - val_loss: 0.6972 - val_accuracy: 0.5969\n",
            "Epoch 28/100\n",
            "50/50 [==============================] - 0s 2ms/step - loss: 0.6943 - accuracy: 0.6075 - val_loss: 0.6895 - val_accuracy: 0.6031\n",
            "Epoch 29/100\n",
            "50/50 [==============================] - 0s 2ms/step - loss: 0.6987 - accuracy: 0.5900 - val_loss: 0.6881 - val_accuracy: 0.6000\n",
            "Epoch 30/100\n",
            "50/50 [==============================] - 0s 3ms/step - loss: 0.6886 - accuracy: 0.6050 - val_loss: 0.6926 - val_accuracy: 0.5875\n",
            "Epoch 31/100\n",
            "50/50 [==============================] - 0s 3ms/step - loss: 0.6827 - accuracy: 0.6087 - val_loss: 0.6820 - val_accuracy: 0.6062\n",
            "Epoch 32/100\n",
            "50/50 [==============================] - 0s 2ms/step - loss: 0.6843 - accuracy: 0.6081 - val_loss: 0.6745 - val_accuracy: 0.6250\n",
            "Epoch 33/100\n",
            "50/50 [==============================] - 0s 2ms/step - loss: 0.6839 - accuracy: 0.6200 - val_loss: 0.6679 - val_accuracy: 0.6438\n",
            "Epoch 34/100\n",
            "50/50 [==============================] - 0s 2ms/step - loss: 0.6822 - accuracy: 0.6169 - val_loss: 0.6660 - val_accuracy: 0.6500\n",
            "Epoch 35/100\n",
            "50/50 [==============================] - 0s 3ms/step - loss: 0.6710 - accuracy: 0.6294 - val_loss: 0.6622 - val_accuracy: 0.6500\n",
            "Epoch 36/100\n",
            "50/50 [==============================] - 0s 2ms/step - loss: 0.6707 - accuracy: 0.6237 - val_loss: 0.6474 - val_accuracy: 0.6750\n",
            "Epoch 37/100\n",
            "50/50 [==============================] - 0s 3ms/step - loss: 0.6707 - accuracy: 0.6250 - val_loss: 0.6453 - val_accuracy: 0.6844\n",
            "Epoch 38/100\n",
            "50/50 [==============================] - 0s 2ms/step - loss: 0.6734 - accuracy: 0.6425 - val_loss: 0.6505 - val_accuracy: 0.6562\n",
            "Epoch 39/100\n",
            "50/50 [==============================] - 0s 2ms/step - loss: 0.6518 - accuracy: 0.6444 - val_loss: 0.6389 - val_accuracy: 0.6781\n",
            "Epoch 40/100\n",
            "50/50 [==============================] - 0s 3ms/step - loss: 0.6612 - accuracy: 0.6481 - val_loss: 0.6342 - val_accuracy: 0.6906\n",
            "Epoch 41/100\n",
            "50/50 [==============================] - 0s 2ms/step - loss: 0.6584 - accuracy: 0.6419 - val_loss: 0.6312 - val_accuracy: 0.6969\n",
            "Epoch 42/100\n",
            "50/50 [==============================] - 0s 3ms/step - loss: 0.6518 - accuracy: 0.6544 - val_loss: 0.6347 - val_accuracy: 0.6812\n",
            "Epoch 43/100\n",
            "50/50 [==============================] - 0s 3ms/step - loss: 0.6600 - accuracy: 0.6375 - val_loss: 0.6376 - val_accuracy: 0.6750\n",
            "Epoch 44/100\n",
            "50/50 [==============================] - 0s 3ms/step - loss: 0.6465 - accuracy: 0.6513 - val_loss: 0.6293 - val_accuracy: 0.6812\n",
            "Epoch 45/100\n",
            "50/50 [==============================] - 0s 3ms/step - loss: 0.6408 - accuracy: 0.6612 - val_loss: 0.6194 - val_accuracy: 0.6969\n",
            "Epoch 46/100\n",
            "50/50 [==============================] - 0s 3ms/step - loss: 0.6436 - accuracy: 0.6650 - val_loss: 0.6216 - val_accuracy: 0.6875\n",
            "Epoch 47/100\n",
            "50/50 [==============================] - 0s 3ms/step - loss: 0.6439 - accuracy: 0.6637 - val_loss: 0.6195 - val_accuracy: 0.6938\n",
            "Epoch 48/100\n",
            "50/50 [==============================] - 0s 2ms/step - loss: 0.6433 - accuracy: 0.6625 - val_loss: 0.6137 - val_accuracy: 0.6938\n",
            "Epoch 49/100\n",
            "50/50 [==============================] - 0s 2ms/step - loss: 0.6490 - accuracy: 0.6531 - val_loss: 0.6295 - val_accuracy: 0.6781\n",
            "Epoch 50/100\n",
            "50/50 [==============================] - 0s 3ms/step - loss: 0.6430 - accuracy: 0.6619 - val_loss: 0.6203 - val_accuracy: 0.6875\n",
            "Epoch 51/100\n",
            "50/50 [==============================] - 0s 3ms/step - loss: 0.6408 - accuracy: 0.6481 - val_loss: 0.6207 - val_accuracy: 0.6875\n",
            "Epoch 52/100\n",
            "50/50 [==============================] - 0s 2ms/step - loss: 0.6411 - accuracy: 0.6762 - val_loss: 0.6201 - val_accuracy: 0.6812\n",
            "Epoch 53/100\n",
            "50/50 [==============================] - 0s 2ms/step - loss: 0.6393 - accuracy: 0.6519 - val_loss: 0.6105 - val_accuracy: 0.6969\n",
            "Epoch 54/100\n",
            "50/50 [==============================] - 0s 3ms/step - loss: 0.6183 - accuracy: 0.6812 - val_loss: 0.6146 - val_accuracy: 0.6812\n",
            "Epoch 55/100\n",
            "50/50 [==============================] - 0s 2ms/step - loss: 0.6351 - accuracy: 0.6719 - val_loss: 0.6151 - val_accuracy: 0.6938\n",
            "Epoch 56/100\n",
            "50/50 [==============================] - 0s 2ms/step - loss: 0.6288 - accuracy: 0.6825 - val_loss: 0.6109 - val_accuracy: 0.6875\n",
            "Epoch 57/100\n",
            "50/50 [==============================] - 0s 3ms/step - loss: 0.6317 - accuracy: 0.6687 - val_loss: 0.6151 - val_accuracy: 0.6812\n",
            "Epoch 58/100\n",
            "50/50 [==============================] - 0s 3ms/step - loss: 0.6230 - accuracy: 0.6806 - val_loss: 0.6031 - val_accuracy: 0.7063\n",
            "Epoch 59/100\n",
            "50/50 [==============================] - 0s 3ms/step - loss: 0.6323 - accuracy: 0.6675 - val_loss: 0.6155 - val_accuracy: 0.6906\n",
            "Epoch 60/100\n",
            "50/50 [==============================] - 0s 3ms/step - loss: 0.6314 - accuracy: 0.6706 - val_loss: 0.6112 - val_accuracy: 0.7031\n",
            "Epoch 61/100\n",
            "50/50 [==============================] - 0s 3ms/step - loss: 0.6345 - accuracy: 0.6756 - val_loss: 0.6149 - val_accuracy: 0.6969\n",
            "Epoch 62/100\n",
            "50/50 [==============================] - 0s 3ms/step - loss: 0.6276 - accuracy: 0.6644 - val_loss: 0.6114 - val_accuracy: 0.6844\n",
            "Epoch 63/100\n",
            "50/50 [==============================] - 0s 3ms/step - loss: 0.6194 - accuracy: 0.6725 - val_loss: 0.6061 - val_accuracy: 0.7031\n",
            "Epoch 64/100\n",
            "50/50 [==============================] - 0s 3ms/step - loss: 0.6196 - accuracy: 0.6812 - val_loss: 0.6046 - val_accuracy: 0.7000\n",
            "Epoch 65/100\n",
            "50/50 [==============================] - 0s 2ms/step - loss: 0.6213 - accuracy: 0.6775 - val_loss: 0.6148 - val_accuracy: 0.6844\n",
            "Epoch 66/100\n",
            "50/50 [==============================] - 0s 3ms/step - loss: 0.6359 - accuracy: 0.6775 - val_loss: 0.6148 - val_accuracy: 0.6875\n",
            "Epoch 67/100\n",
            "50/50 [==============================] - 0s 2ms/step - loss: 0.6293 - accuracy: 0.6681 - val_loss: 0.6084 - val_accuracy: 0.6969\n",
            "Epoch 68/100\n",
            "50/50 [==============================] - 0s 3ms/step - loss: 0.6122 - accuracy: 0.6900 - val_loss: 0.6096 - val_accuracy: 0.7000\n",
            "Epoch 69/100\n",
            "50/50 [==============================] - 0s 3ms/step - loss: 0.6189 - accuracy: 0.6700 - val_loss: 0.6065 - val_accuracy: 0.7000\n",
            "Epoch 70/100\n",
            "50/50 [==============================] - 0s 3ms/step - loss: 0.6269 - accuracy: 0.6888 - val_loss: 0.6047 - val_accuracy: 0.7063\n",
            "Epoch 71/100\n",
            "50/50 [==============================] - 0s 3ms/step - loss: 0.6279 - accuracy: 0.6769 - val_loss: 0.6115 - val_accuracy: 0.6938\n",
            "Epoch 72/100\n",
            "50/50 [==============================] - 0s 3ms/step - loss: 0.6086 - accuracy: 0.6881 - val_loss: 0.5975 - val_accuracy: 0.7000\n",
            "Epoch 73/100\n",
            "50/50 [==============================] - 0s 3ms/step - loss: 0.6220 - accuracy: 0.6806 - val_loss: 0.6043 - val_accuracy: 0.7031\n",
            "Epoch 74/100\n",
            "50/50 [==============================] - 0s 3ms/step - loss: 0.6147 - accuracy: 0.6875 - val_loss: 0.6160 - val_accuracy: 0.6812\n",
            "Epoch 75/100\n",
            "50/50 [==============================] - 0s 3ms/step - loss: 0.6095 - accuracy: 0.6856 - val_loss: 0.5994 - val_accuracy: 0.6875\n",
            "Epoch 76/100\n",
            "50/50 [==============================] - 0s 3ms/step - loss: 0.6175 - accuracy: 0.6869 - val_loss: 0.5984 - val_accuracy: 0.7000\n",
            "Epoch 77/100\n",
            "50/50 [==============================] - 0s 3ms/step - loss: 0.6210 - accuracy: 0.6794 - val_loss: 0.6044 - val_accuracy: 0.7063\n",
            "Epoch 78/100\n",
            "50/50 [==============================] - 0s 3ms/step - loss: 0.6278 - accuracy: 0.6775 - val_loss: 0.6051 - val_accuracy: 0.7000\n",
            "Epoch 79/100\n",
            "50/50 [==============================] - 0s 2ms/step - loss: 0.6180 - accuracy: 0.6787 - val_loss: 0.5997 - val_accuracy: 0.7000\n",
            "Epoch 80/100\n",
            "50/50 [==============================] - 0s 2ms/step - loss: 0.6063 - accuracy: 0.6981 - val_loss: 0.5999 - val_accuracy: 0.7000\n",
            "Epoch 81/100\n",
            "50/50 [==============================] - 0s 3ms/step - loss: 0.6132 - accuracy: 0.6812 - val_loss: 0.6021 - val_accuracy: 0.6938\n",
            "Epoch 82/100\n",
            "50/50 [==============================] - 0s 2ms/step - loss: 0.6203 - accuracy: 0.6681 - val_loss: 0.6042 - val_accuracy: 0.6812\n",
            "Epoch 83/100\n",
            "50/50 [==============================] - 0s 3ms/step - loss: 0.6136 - accuracy: 0.6900 - val_loss: 0.5996 - val_accuracy: 0.6969\n",
            "Epoch 84/100\n",
            "50/50 [==============================] - 0s 2ms/step - loss: 0.6122 - accuracy: 0.6906 - val_loss: 0.6032 - val_accuracy: 0.6812\n",
            "Epoch 85/100\n",
            "50/50 [==============================] - 0s 2ms/step - loss: 0.6158 - accuracy: 0.6869 - val_loss: 0.6010 - val_accuracy: 0.6906\n",
            "Epoch 86/100\n",
            "50/50 [==============================] - 0s 3ms/step - loss: 0.6111 - accuracy: 0.6956 - val_loss: 0.6039 - val_accuracy: 0.6906\n",
            "Epoch 87/100\n",
            "50/50 [==============================] - 0s 2ms/step - loss: 0.6165 - accuracy: 0.6869 - val_loss: 0.6040 - val_accuracy: 0.6906\n",
            "Epoch 88/100\n",
            "50/50 [==============================] - 0s 3ms/step - loss: 0.6098 - accuracy: 0.6881 - val_loss: 0.6020 - val_accuracy: 0.6938\n",
            "Epoch 89/100\n",
            "50/50 [==============================] - 0s 3ms/step - loss: 0.6135 - accuracy: 0.6950 - val_loss: 0.6057 - val_accuracy: 0.6875\n",
            "Epoch 90/100\n",
            "50/50 [==============================] - 0s 3ms/step - loss: 0.5972 - accuracy: 0.6994 - val_loss: 0.5984 - val_accuracy: 0.6781\n",
            "Epoch 91/100\n",
            "50/50 [==============================] - 0s 3ms/step - loss: 0.6081 - accuracy: 0.6988 - val_loss: 0.5972 - val_accuracy: 0.6906\n",
            "Epoch 92/100\n",
            "50/50 [==============================] - 0s 3ms/step - loss: 0.6032 - accuracy: 0.7069 - val_loss: 0.5972 - val_accuracy: 0.7031\n",
            "Epoch 93/100\n",
            "50/50 [==============================] - 0s 2ms/step - loss: 0.6129 - accuracy: 0.6913 - val_loss: 0.5951 - val_accuracy: 0.6906\n",
            "Epoch 94/100\n",
            "50/50 [==============================] - 0s 2ms/step - loss: 0.5999 - accuracy: 0.6906 - val_loss: 0.5966 - val_accuracy: 0.6938\n",
            "Epoch 95/100\n",
            "50/50 [==============================] - 0s 3ms/step - loss: 0.6042 - accuracy: 0.6888 - val_loss: 0.5918 - val_accuracy: 0.7063\n",
            "Epoch 96/100\n",
            "50/50 [==============================] - 0s 3ms/step - loss: 0.6077 - accuracy: 0.6769 - val_loss: 0.5951 - val_accuracy: 0.6875\n",
            "Epoch 97/100\n",
            "50/50 [==============================] - 0s 3ms/step - loss: 0.6029 - accuracy: 0.6919 - val_loss: 0.5985 - val_accuracy: 0.6781\n",
            "Epoch 98/100\n",
            "50/50 [==============================] - 0s 3ms/step - loss: 0.6107 - accuracy: 0.6888 - val_loss: 0.5982 - val_accuracy: 0.6906\n",
            "Epoch 99/100\n",
            "50/50 [==============================] - 0s 3ms/step - loss: 0.6092 - accuracy: 0.6844 - val_loss: 0.5965 - val_accuracy: 0.6875\n",
            "Epoch 100/100\n",
            "50/50 [==============================] - 0s 3ms/step - loss: 0.6014 - accuracy: 0.6981 - val_loss: 0.5983 - val_accuracy: 0.6906\n",
            "10/10 [==============================] - 0s 2ms/step - loss: 0.5983 - accuracy: 0.6906\n",
            "Epoch 1/100\n",
            "50/50 [==============================] - 1s 5ms/step - loss: 0.8555 - accuracy: 0.5100 - val_loss: 0.8034 - val_accuracy: 0.4875\n",
            "Epoch 2/100\n",
            "50/50 [==============================] - 0s 3ms/step - loss: 0.8292 - accuracy: 0.5006 - val_loss: 0.7982 - val_accuracy: 0.4938\n",
            "Epoch 3/100\n",
            "50/50 [==============================] - 0s 3ms/step - loss: 0.8064 - accuracy: 0.5075 - val_loss: 0.7938 - val_accuracy: 0.4875\n",
            "Epoch 4/100\n",
            "50/50 [==============================] - 0s 3ms/step - loss: 0.8002 - accuracy: 0.5244 - val_loss: 0.7899 - val_accuracy: 0.4969\n",
            "Epoch 5/100\n",
            "50/50 [==============================] - 0s 2ms/step - loss: 0.7953 - accuracy: 0.5063 - val_loss: 0.7872 - val_accuracy: 0.4812\n",
            "Epoch 6/100\n",
            "50/50 [==============================] - 0s 2ms/step - loss: 0.7865 - accuracy: 0.5188 - val_loss: 0.7835 - val_accuracy: 0.4844\n",
            "Epoch 7/100\n",
            "50/50 [==============================] - 0s 3ms/step - loss: 0.7796 - accuracy: 0.5138 - val_loss: 0.7800 - val_accuracy: 0.4875\n",
            "Epoch 8/100\n",
            "50/50 [==============================] - 0s 3ms/step - loss: 0.7760 - accuracy: 0.5337 - val_loss: 0.7768 - val_accuracy: 0.4844\n",
            "Epoch 9/100\n",
            "50/50 [==============================] - 0s 2ms/step - loss: 0.7743 - accuracy: 0.5263 - val_loss: 0.7738 - val_accuracy: 0.4875\n",
            "Epoch 10/100\n",
            "50/50 [==============================] - 0s 2ms/step - loss: 0.7704 - accuracy: 0.5275 - val_loss: 0.7708 - val_accuracy: 0.4875\n",
            "Epoch 11/100\n",
            "50/50 [==============================] - 0s 3ms/step - loss: 0.7646 - accuracy: 0.5113 - val_loss: 0.7670 - val_accuracy: 0.4906\n",
            "Epoch 12/100\n",
            "50/50 [==============================] - 0s 3ms/step - loss: 0.7660 - accuracy: 0.5225 - val_loss: 0.7642 - val_accuracy: 0.4875\n",
            "Epoch 13/100\n",
            "50/50 [==============================] - 0s 3ms/step - loss: 0.7634 - accuracy: 0.5131 - val_loss: 0.7613 - val_accuracy: 0.4875\n",
            "Epoch 14/100\n",
            "50/50 [==============================] - 0s 3ms/step - loss: 0.7570 - accuracy: 0.5356 - val_loss: 0.7580 - val_accuracy: 0.4906\n",
            "Epoch 15/100\n",
            "50/50 [==============================] - 0s 3ms/step - loss: 0.7563 - accuracy: 0.5150 - val_loss: 0.7546 - val_accuracy: 0.4938\n",
            "Epoch 16/100\n",
            "50/50 [==============================] - 0s 2ms/step - loss: 0.7491 - accuracy: 0.5381 - val_loss: 0.7502 - val_accuracy: 0.5281\n",
            "Epoch 17/100\n",
            "50/50 [==============================] - 0s 2ms/step - loss: 0.7491 - accuracy: 0.5069 - val_loss: 0.7480 - val_accuracy: 0.5156\n",
            "Epoch 18/100\n",
            "50/50 [==============================] - 0s 2ms/step - loss: 0.7408 - accuracy: 0.5462 - val_loss: 0.7425 - val_accuracy: 0.5625\n",
            "Epoch 19/100\n",
            "50/50 [==============================] - 0s 2ms/step - loss: 0.7438 - accuracy: 0.5219 - val_loss: 0.7387 - val_accuracy: 0.5688\n",
            "Epoch 20/100\n",
            "50/50 [==============================] - 0s 3ms/step - loss: 0.7375 - accuracy: 0.5394 - val_loss: 0.7343 - val_accuracy: 0.5781\n",
            "Epoch 21/100\n",
            "50/50 [==============================] - 0s 3ms/step - loss: 0.7318 - accuracy: 0.5594 - val_loss: 0.7283 - val_accuracy: 0.5844\n",
            "Epoch 22/100\n",
            "50/50 [==============================] - 0s 3ms/step - loss: 0.7329 - accuracy: 0.5487 - val_loss: 0.7287 - val_accuracy: 0.5781\n",
            "Epoch 23/100\n",
            "50/50 [==============================] - 0s 2ms/step - loss: 0.7222 - accuracy: 0.5550 - val_loss: 0.7224 - val_accuracy: 0.5906\n",
            "Epoch 24/100\n",
            "50/50 [==============================] - 0s 2ms/step - loss: 0.7210 - accuracy: 0.5556 - val_loss: 0.7168 - val_accuracy: 0.5969\n",
            "Epoch 25/100\n",
            "50/50 [==============================] - 0s 3ms/step - loss: 0.7218 - accuracy: 0.5606 - val_loss: 0.7126 - val_accuracy: 0.6062\n",
            "Epoch 26/100\n",
            "50/50 [==============================] - 0s 3ms/step - loss: 0.7152 - accuracy: 0.5738 - val_loss: 0.7083 - val_accuracy: 0.6000\n",
            "Epoch 27/100\n",
            "50/50 [==============================] - 0s 3ms/step - loss: 0.7152 - accuracy: 0.5656 - val_loss: 0.7049 - val_accuracy: 0.5969\n",
            "Epoch 28/100\n",
            "50/50 [==============================] - 0s 3ms/step - loss: 0.7040 - accuracy: 0.5913 - val_loss: 0.7013 - val_accuracy: 0.5844\n",
            "Epoch 29/100\n",
            "50/50 [==============================] - 0s 3ms/step - loss: 0.6997 - accuracy: 0.5919 - val_loss: 0.6959 - val_accuracy: 0.5906\n",
            "Epoch 30/100\n",
            "50/50 [==============================] - 0s 3ms/step - loss: 0.7022 - accuracy: 0.5969 - val_loss: 0.6908 - val_accuracy: 0.6062\n",
            "Epoch 31/100\n",
            "50/50 [==============================] - 0s 3ms/step - loss: 0.6988 - accuracy: 0.5987 - val_loss: 0.6865 - val_accuracy: 0.6125\n",
            "Epoch 32/100\n",
            "50/50 [==============================] - 0s 3ms/step - loss: 0.6893 - accuracy: 0.6162 - val_loss: 0.6785 - val_accuracy: 0.6469\n",
            "Epoch 33/100\n",
            "50/50 [==============================] - 0s 2ms/step - loss: 0.6870 - accuracy: 0.6181 - val_loss: 0.6671 - val_accuracy: 0.6594\n",
            "Epoch 34/100\n",
            "50/50 [==============================] - 0s 3ms/step - loss: 0.6786 - accuracy: 0.6150 - val_loss: 0.6595 - val_accuracy: 0.6750\n",
            "Epoch 35/100\n",
            "50/50 [==============================] - 0s 3ms/step - loss: 0.6790 - accuracy: 0.6181 - val_loss: 0.6543 - val_accuracy: 0.7000\n",
            "Epoch 36/100\n",
            "50/50 [==============================] - 0s 3ms/step - loss: 0.6708 - accuracy: 0.6281 - val_loss: 0.6516 - val_accuracy: 0.6562\n",
            "Epoch 37/100\n",
            "50/50 [==============================] - 0s 2ms/step - loss: 0.6773 - accuracy: 0.6200 - val_loss: 0.6564 - val_accuracy: 0.6594\n",
            "Epoch 38/100\n",
            "50/50 [==============================] - 0s 3ms/step - loss: 0.6634 - accuracy: 0.6450 - val_loss: 0.6423 - val_accuracy: 0.6812\n",
            "Epoch 39/100\n",
            "50/50 [==============================] - 0s 3ms/step - loss: 0.6712 - accuracy: 0.6525 - val_loss: 0.6425 - val_accuracy: 0.6750\n",
            "Epoch 40/100\n",
            "50/50 [==============================] - 0s 2ms/step - loss: 0.6539 - accuracy: 0.6413 - val_loss: 0.6430 - val_accuracy: 0.6750\n",
            "Epoch 41/100\n",
            "50/50 [==============================] - 0s 3ms/step - loss: 0.6586 - accuracy: 0.6419 - val_loss: 0.6392 - val_accuracy: 0.6750\n",
            "Epoch 42/100\n",
            "50/50 [==============================] - 0s 3ms/step - loss: 0.6556 - accuracy: 0.6469 - val_loss: 0.6380 - val_accuracy: 0.6812\n",
            "Epoch 43/100\n",
            "50/50 [==============================] - 0s 3ms/step - loss: 0.6521 - accuracy: 0.6569 - val_loss: 0.6374 - val_accuracy: 0.6812\n",
            "Epoch 44/100\n",
            "50/50 [==============================] - 0s 2ms/step - loss: 0.6562 - accuracy: 0.6475 - val_loss: 0.6324 - val_accuracy: 0.6875\n",
            "Epoch 45/100\n",
            "50/50 [==============================] - 0s 3ms/step - loss: 0.6501 - accuracy: 0.6438 - val_loss: 0.6327 - val_accuracy: 0.6781\n",
            "Epoch 46/100\n",
            "50/50 [==============================] - 0s 2ms/step - loss: 0.6526 - accuracy: 0.6562 - val_loss: 0.6328 - val_accuracy: 0.6906\n",
            "Epoch 47/100\n",
            "50/50 [==============================] - 0s 3ms/step - loss: 0.6576 - accuracy: 0.6406 - val_loss: 0.6288 - val_accuracy: 0.6906\n",
            "Epoch 48/100\n",
            "50/50 [==============================] - 0s 2ms/step - loss: 0.6523 - accuracy: 0.6675 - val_loss: 0.6259 - val_accuracy: 0.6906\n",
            "Epoch 49/100\n",
            "50/50 [==============================] - 0s 3ms/step - loss: 0.6447 - accuracy: 0.6463 - val_loss: 0.6258 - val_accuracy: 0.6906\n",
            "Epoch 50/100\n",
            "50/50 [==============================] - 0s 2ms/step - loss: 0.6354 - accuracy: 0.6719 - val_loss: 0.6187 - val_accuracy: 0.6781\n",
            "Epoch 51/100\n",
            "50/50 [==============================] - 0s 3ms/step - loss: 0.6441 - accuracy: 0.6619 - val_loss: 0.6248 - val_accuracy: 0.6781\n",
            "Epoch 52/100\n",
            "50/50 [==============================] - 0s 3ms/step - loss: 0.6432 - accuracy: 0.6550 - val_loss: 0.6264 - val_accuracy: 0.6969\n",
            "Epoch 53/100\n",
            "50/50 [==============================] - 0s 2ms/step - loss: 0.6418 - accuracy: 0.6494 - val_loss: 0.6202 - val_accuracy: 0.6687\n",
            "Epoch 54/100\n",
            "50/50 [==============================] - 0s 3ms/step - loss: 0.6547 - accuracy: 0.6506 - val_loss: 0.6287 - val_accuracy: 0.7000\n",
            "Epoch 55/100\n",
            "50/50 [==============================] - 0s 3ms/step - loss: 0.6470 - accuracy: 0.6644 - val_loss: 0.6216 - val_accuracy: 0.7031\n",
            "Epoch 56/100\n",
            "50/50 [==============================] - 0s 3ms/step - loss: 0.6322 - accuracy: 0.6662 - val_loss: 0.6246 - val_accuracy: 0.6875\n",
            "Epoch 57/100\n",
            "50/50 [==============================] - 0s 3ms/step - loss: 0.6265 - accuracy: 0.6625 - val_loss: 0.6186 - val_accuracy: 0.7063\n",
            "Epoch 58/100\n",
            "50/50 [==============================] - 0s 3ms/step - loss: 0.6415 - accuracy: 0.6675 - val_loss: 0.6167 - val_accuracy: 0.7031\n",
            "Epoch 59/100\n",
            "50/50 [==============================] - 0s 3ms/step - loss: 0.6257 - accuracy: 0.6744 - val_loss: 0.6096 - val_accuracy: 0.7063\n",
            "Epoch 60/100\n",
            "50/50 [==============================] - 0s 3ms/step - loss: 0.6318 - accuracy: 0.6531 - val_loss: 0.6152 - val_accuracy: 0.7125\n",
            "Epoch 61/100\n",
            "50/50 [==============================] - 0s 3ms/step - loss: 0.6276 - accuracy: 0.6612 - val_loss: 0.6249 - val_accuracy: 0.6781\n",
            "Epoch 62/100\n",
            "50/50 [==============================] - 0s 3ms/step - loss: 0.6235 - accuracy: 0.6819 - val_loss: 0.6117 - val_accuracy: 0.6938\n",
            "Epoch 63/100\n",
            "50/50 [==============================] - 0s 3ms/step - loss: 0.6251 - accuracy: 0.6675 - val_loss: 0.6115 - val_accuracy: 0.6969\n",
            "Epoch 64/100\n",
            "50/50 [==============================] - 0s 3ms/step - loss: 0.6218 - accuracy: 0.6875 - val_loss: 0.6136 - val_accuracy: 0.7063\n",
            "Epoch 65/100\n",
            "50/50 [==============================] - 0s 2ms/step - loss: 0.6209 - accuracy: 0.6781 - val_loss: 0.6144 - val_accuracy: 0.6969\n",
            "Epoch 66/100\n",
            "50/50 [==============================] - 0s 3ms/step - loss: 0.6220 - accuracy: 0.6812 - val_loss: 0.6105 - val_accuracy: 0.7125\n",
            "Epoch 67/100\n",
            "50/50 [==============================] - 0s 3ms/step - loss: 0.6248 - accuracy: 0.6794 - val_loss: 0.6035 - val_accuracy: 0.7063\n",
            "Epoch 68/100\n",
            "50/50 [==============================] - 0s 3ms/step - loss: 0.6144 - accuracy: 0.6775 - val_loss: 0.6056 - val_accuracy: 0.6969\n",
            "Epoch 69/100\n",
            "50/50 [==============================] - 0s 3ms/step - loss: 0.6209 - accuracy: 0.6712 - val_loss: 0.6080 - val_accuracy: 0.6969\n",
            "Epoch 70/100\n",
            "50/50 [==============================] - 0s 2ms/step - loss: 0.6102 - accuracy: 0.6862 - val_loss: 0.6038 - val_accuracy: 0.7063\n",
            "Epoch 71/100\n",
            "50/50 [==============================] - 0s 3ms/step - loss: 0.6222 - accuracy: 0.6756 - val_loss: 0.6071 - val_accuracy: 0.7188\n",
            "Epoch 72/100\n",
            "50/50 [==============================] - 0s 3ms/step - loss: 0.6128 - accuracy: 0.6781 - val_loss: 0.6065 - val_accuracy: 0.7094\n",
            "Epoch 73/100\n",
            "50/50 [==============================] - 0s 3ms/step - loss: 0.6134 - accuracy: 0.6806 - val_loss: 0.6074 - val_accuracy: 0.7000\n",
            "Epoch 74/100\n",
            "50/50 [==============================] - 0s 3ms/step - loss: 0.6249 - accuracy: 0.6644 - val_loss: 0.6063 - val_accuracy: 0.7125\n",
            "Epoch 75/100\n",
            "50/50 [==============================] - 0s 3ms/step - loss: 0.6106 - accuracy: 0.6775 - val_loss: 0.6072 - val_accuracy: 0.7063\n",
            "Epoch 76/100\n",
            "50/50 [==============================] - 0s 3ms/step - loss: 0.6244 - accuracy: 0.6869 - val_loss: 0.6095 - val_accuracy: 0.6844\n",
            "Epoch 77/100\n",
            "50/50 [==============================] - 0s 3ms/step - loss: 0.6025 - accuracy: 0.6994 - val_loss: 0.6056 - val_accuracy: 0.6969\n",
            "Epoch 78/100\n",
            "50/50 [==============================] - 0s 3ms/step - loss: 0.6205 - accuracy: 0.6769 - val_loss: 0.6093 - val_accuracy: 0.7063\n",
            "Epoch 79/100\n",
            "50/50 [==============================] - 0s 3ms/step - loss: 0.6101 - accuracy: 0.6719 - val_loss: 0.6073 - val_accuracy: 0.7031\n",
            "Epoch 80/100\n",
            "50/50 [==============================] - 0s 3ms/step - loss: 0.6050 - accuracy: 0.6888 - val_loss: 0.6013 - val_accuracy: 0.6906\n",
            "Epoch 81/100\n",
            "50/50 [==============================] - 0s 2ms/step - loss: 0.6078 - accuracy: 0.6812 - val_loss: 0.6016 - val_accuracy: 0.7000\n",
            "Epoch 82/100\n",
            "50/50 [==============================] - 0s 3ms/step - loss: 0.6127 - accuracy: 0.6869 - val_loss: 0.6066 - val_accuracy: 0.7094\n",
            "Epoch 83/100\n",
            "50/50 [==============================] - 0s 3ms/step - loss: 0.6160 - accuracy: 0.6650 - val_loss: 0.6022 - val_accuracy: 0.7156\n",
            "Epoch 84/100\n",
            "50/50 [==============================] - 0s 2ms/step - loss: 0.6228 - accuracy: 0.6706 - val_loss: 0.6048 - val_accuracy: 0.6906\n",
            "Epoch 85/100\n",
            "50/50 [==============================] - 0s 3ms/step - loss: 0.5983 - accuracy: 0.6981 - val_loss: 0.6012 - val_accuracy: 0.7125\n",
            "Epoch 86/100\n",
            "50/50 [==============================] - 0s 3ms/step - loss: 0.6053 - accuracy: 0.6781 - val_loss: 0.6070 - val_accuracy: 0.6844\n",
            "Epoch 87/100\n",
            "50/50 [==============================] - 0s 3ms/step - loss: 0.6010 - accuracy: 0.6913 - val_loss: 0.6042 - val_accuracy: 0.7000\n",
            "Epoch 88/100\n",
            "50/50 [==============================] - 0s 3ms/step - loss: 0.6081 - accuracy: 0.6956 - val_loss: 0.6074 - val_accuracy: 0.6844\n",
            "Epoch 89/100\n",
            "50/50 [==============================] - 0s 3ms/step - loss: 0.6016 - accuracy: 0.7038 - val_loss: 0.5966 - val_accuracy: 0.7125\n",
            "Epoch 90/100\n",
            "50/50 [==============================] - 0s 3ms/step - loss: 0.6165 - accuracy: 0.6656 - val_loss: 0.5998 - val_accuracy: 0.7094\n",
            "Epoch 91/100\n",
            "50/50 [==============================] - 0s 3ms/step - loss: 0.6083 - accuracy: 0.6819 - val_loss: 0.5967 - val_accuracy: 0.7188\n",
            "Epoch 92/100\n",
            "50/50 [==============================] - 0s 3ms/step - loss: 0.5948 - accuracy: 0.7013 - val_loss: 0.5998 - val_accuracy: 0.7000\n",
            "Epoch 93/100\n",
            "50/50 [==============================] - 0s 2ms/step - loss: 0.6179 - accuracy: 0.6862 - val_loss: 0.5964 - val_accuracy: 0.7000\n",
            "Epoch 94/100\n",
            "50/50 [==============================] - 0s 3ms/step - loss: 0.6091 - accuracy: 0.6894 - val_loss: 0.6016 - val_accuracy: 0.7125\n",
            "Epoch 95/100\n",
            "50/50 [==============================] - 0s 3ms/step - loss: 0.5969 - accuracy: 0.6975 - val_loss: 0.5978 - val_accuracy: 0.7000\n",
            "Epoch 96/100\n",
            "50/50 [==============================] - 0s 3ms/step - loss: 0.5974 - accuracy: 0.6837 - val_loss: 0.5954 - val_accuracy: 0.6938\n",
            "Epoch 97/100\n",
            "50/50 [==============================] - 0s 3ms/step - loss: 0.5941 - accuracy: 0.7056 - val_loss: 0.5973 - val_accuracy: 0.6969\n",
            "Epoch 98/100\n",
            "50/50 [==============================] - 0s 3ms/step - loss: 0.6204 - accuracy: 0.6781 - val_loss: 0.6009 - val_accuracy: 0.7094\n",
            "Epoch 99/100\n",
            "50/50 [==============================] - 0s 3ms/step - loss: 0.6080 - accuracy: 0.6900 - val_loss: 0.5953 - val_accuracy: 0.7094\n",
            "Epoch 100/100\n",
            "50/50 [==============================] - 0s 3ms/step - loss: 0.6002 - accuracy: 0.6900 - val_loss: 0.5980 - val_accuracy: 0.6969\n",
            "10/10 [==============================] - 0s 2ms/step - loss: 0.5980 - accuracy: 0.6969\n",
            "Epoch 1/100\n",
            "50/50 [==============================] - 1s 6ms/step - loss: 0.9149 - accuracy: 0.5081 - val_loss: 0.8076 - val_accuracy: 0.4875\n",
            "Epoch 2/100\n",
            "50/50 [==============================] - 0s 2ms/step - loss: 0.8487 - accuracy: 0.4950 - val_loss: 0.8057 - val_accuracy: 0.4875\n",
            "Epoch 3/100\n",
            "50/50 [==============================] - 0s 2ms/step - loss: 0.8272 - accuracy: 0.5038 - val_loss: 0.8023 - val_accuracy: 0.4688\n",
            "Epoch 4/100\n",
            "50/50 [==============================] - 0s 3ms/step - loss: 0.8116 - accuracy: 0.5244 - val_loss: 0.8006 - val_accuracy: 0.3781\n",
            "Epoch 5/100\n",
            "50/50 [==============================] - 0s 3ms/step - loss: 0.8130 - accuracy: 0.5044 - val_loss: 0.7970 - val_accuracy: 0.4344\n",
            "Epoch 6/100\n",
            "50/50 [==============================] - 0s 3ms/step - loss: 0.8000 - accuracy: 0.5113 - val_loss: 0.7940 - val_accuracy: 0.4313\n",
            "Epoch 7/100\n",
            "50/50 [==============================] - 0s 3ms/step - loss: 0.8033 - accuracy: 0.4913 - val_loss: 0.7908 - val_accuracy: 0.4375\n",
            "Epoch 8/100\n",
            "50/50 [==============================] - 0s 3ms/step - loss: 0.7889 - accuracy: 0.5169 - val_loss: 0.7884 - val_accuracy: 0.4375\n",
            "Epoch 9/100\n",
            "50/50 [==============================] - 0s 3ms/step - loss: 0.7894 - accuracy: 0.4931 - val_loss: 0.7857 - val_accuracy: 0.4313\n",
            "Epoch 10/100\n",
            "50/50 [==============================] - 0s 3ms/step - loss: 0.7865 - accuracy: 0.5025 - val_loss: 0.7828 - val_accuracy: 0.4500\n",
            "Epoch 11/100\n",
            "50/50 [==============================] - 0s 3ms/step - loss: 0.7822 - accuracy: 0.4888 - val_loss: 0.7795 - val_accuracy: 0.4656\n",
            "Epoch 12/100\n",
            "50/50 [==============================] - 0s 3ms/step - loss: 0.7776 - accuracy: 0.5156 - val_loss: 0.7766 - val_accuracy: 0.4781\n",
            "Epoch 13/100\n",
            "50/50 [==============================] - 0s 3ms/step - loss: 0.7765 - accuracy: 0.5225 - val_loss: 0.7740 - val_accuracy: 0.4656\n",
            "Epoch 14/100\n",
            "50/50 [==============================] - 0s 3ms/step - loss: 0.7730 - accuracy: 0.4975 - val_loss: 0.7713 - val_accuracy: 0.4656\n",
            "Epoch 15/100\n",
            "50/50 [==============================] - 0s 3ms/step - loss: 0.7706 - accuracy: 0.4812 - val_loss: 0.7684 - val_accuracy: 0.5437\n",
            "Epoch 16/100\n",
            "50/50 [==============================] - 0s 3ms/step - loss: 0.7678 - accuracy: 0.5312 - val_loss: 0.7658 - val_accuracy: 0.4625\n",
            "Epoch 17/100\n",
            "50/50 [==============================] - 0s 3ms/step - loss: 0.7661 - accuracy: 0.5125 - val_loss: 0.7631 - val_accuracy: 0.4938\n",
            "Epoch 18/100\n",
            "50/50 [==============================] - 0s 3ms/step - loss: 0.7607 - accuracy: 0.5044 - val_loss: 0.7604 - val_accuracy: 0.5312\n",
            "Epoch 19/100\n",
            "50/50 [==============================] - 0s 3ms/step - loss: 0.7570 - accuracy: 0.5094 - val_loss: 0.7576 - val_accuracy: 0.5094\n",
            "Epoch 20/100\n",
            "50/50 [==============================] - 0s 3ms/step - loss: 0.7549 - accuracy: 0.5113 - val_loss: 0.7547 - val_accuracy: 0.5469\n",
            "Epoch 21/100\n",
            "50/50 [==============================] - 0s 3ms/step - loss: 0.7519 - accuracy: 0.5300 - val_loss: 0.7519 - val_accuracy: 0.5344\n",
            "Epoch 22/100\n",
            "50/50 [==============================] - 0s 3ms/step - loss: 0.7440 - accuracy: 0.5387 - val_loss: 0.7484 - val_accuracy: 0.5437\n",
            "Epoch 23/100\n",
            "50/50 [==============================] - 0s 3ms/step - loss: 0.7420 - accuracy: 0.5381 - val_loss: 0.7453 - val_accuracy: 0.5312\n",
            "Epoch 24/100\n",
            "50/50 [==============================] - 0s 3ms/step - loss: 0.7402 - accuracy: 0.5344 - val_loss: 0.7424 - val_accuracy: 0.5437\n",
            "Epoch 25/100\n",
            "50/50 [==============================] - 0s 3ms/step - loss: 0.7346 - accuracy: 0.5444 - val_loss: 0.7390 - val_accuracy: 0.5406\n",
            "Epoch 26/100\n",
            "50/50 [==============================] - 0s 2ms/step - loss: 0.7333 - accuracy: 0.5519 - val_loss: 0.7357 - val_accuracy: 0.5469\n",
            "Epoch 27/100\n",
            "50/50 [==============================] - 0s 3ms/step - loss: 0.7367 - accuracy: 0.5537 - val_loss: 0.7334 - val_accuracy: 0.5562\n",
            "Epoch 28/100\n",
            "50/50 [==============================] - 0s 3ms/step - loss: 0.7280 - accuracy: 0.5562 - val_loss: 0.7313 - val_accuracy: 0.5437\n",
            "Epoch 29/100\n",
            "50/50 [==============================] - 0s 3ms/step - loss: 0.7220 - accuracy: 0.5369 - val_loss: 0.7289 - val_accuracy: 0.5375\n",
            "Epoch 30/100\n",
            "50/50 [==============================] - 0s 3ms/step - loss: 0.7208 - accuracy: 0.5612 - val_loss: 0.7243 - val_accuracy: 0.5719\n",
            "Epoch 31/100\n",
            "50/50 [==============================] - 0s 3ms/step - loss: 0.7138 - accuracy: 0.5663 - val_loss: 0.7212 - val_accuracy: 0.5688\n",
            "Epoch 32/100\n",
            "50/50 [==============================] - 0s 3ms/step - loss: 0.7080 - accuracy: 0.5706 - val_loss: 0.7160 - val_accuracy: 0.5969\n",
            "Epoch 33/100\n",
            "50/50 [==============================] - 0s 3ms/step - loss: 0.7023 - accuracy: 0.6106 - val_loss: 0.7092 - val_accuracy: 0.6094\n",
            "Epoch 34/100\n",
            "50/50 [==============================] - 0s 3ms/step - loss: 0.6928 - accuracy: 0.5962 - val_loss: 0.7002 - val_accuracy: 0.6438\n",
            "Epoch 35/100\n",
            "50/50 [==============================] - 0s 3ms/step - loss: 0.7063 - accuracy: 0.5956 - val_loss: 0.7001 - val_accuracy: 0.6187\n",
            "Epoch 36/100\n",
            "50/50 [==============================] - 0s 3ms/step - loss: 0.6833 - accuracy: 0.6181 - val_loss: 0.6973 - val_accuracy: 0.6250\n",
            "Epoch 37/100\n",
            "50/50 [==============================] - 0s 3ms/step - loss: 0.6881 - accuracy: 0.6156 - val_loss: 0.6889 - val_accuracy: 0.6187\n",
            "Epoch 38/100\n",
            "50/50 [==============================] - 0s 3ms/step - loss: 0.6650 - accuracy: 0.6400 - val_loss: 0.6925 - val_accuracy: 0.6344\n",
            "Epoch 39/100\n",
            "50/50 [==============================] - 0s 3ms/step - loss: 0.6752 - accuracy: 0.6231 - val_loss: 0.6736 - val_accuracy: 0.6406\n",
            "Epoch 40/100\n",
            "50/50 [==============================] - 0s 3ms/step - loss: 0.6704 - accuracy: 0.6281 - val_loss: 0.6778 - val_accuracy: 0.6375\n",
            "Epoch 41/100\n",
            "50/50 [==============================] - 0s 3ms/step - loss: 0.6738 - accuracy: 0.6237 - val_loss: 0.6720 - val_accuracy: 0.6594\n",
            "Epoch 42/100\n",
            "50/50 [==============================] - 0s 2ms/step - loss: 0.6653 - accuracy: 0.6531 - val_loss: 0.6652 - val_accuracy: 0.6500\n",
            "Epoch 43/100\n",
            "50/50 [==============================] - 0s 3ms/step - loss: 0.6626 - accuracy: 0.6431 - val_loss: 0.6638 - val_accuracy: 0.6500\n",
            "Epoch 44/100\n",
            "50/50 [==============================] - 0s 3ms/step - loss: 0.6597 - accuracy: 0.6625 - val_loss: 0.6629 - val_accuracy: 0.6562\n",
            "Epoch 45/100\n",
            "50/50 [==============================] - 0s 3ms/step - loss: 0.6667 - accuracy: 0.6463 - val_loss: 0.6622 - val_accuracy: 0.6500\n",
            "Epoch 46/100\n",
            "50/50 [==============================] - 0s 3ms/step - loss: 0.6645 - accuracy: 0.6494 - val_loss: 0.6582 - val_accuracy: 0.6531\n",
            "Epoch 47/100\n",
            "50/50 [==============================] - 0s 3ms/step - loss: 0.6436 - accuracy: 0.6581 - val_loss: 0.6602 - val_accuracy: 0.6281\n",
            "Epoch 48/100\n",
            "50/50 [==============================] - 0s 3ms/step - loss: 0.6572 - accuracy: 0.6538 - val_loss: 0.6646 - val_accuracy: 0.6375\n",
            "Epoch 49/100\n",
            "50/50 [==============================] - 0s 3ms/step - loss: 0.6436 - accuracy: 0.6575 - val_loss: 0.6469 - val_accuracy: 0.6625\n",
            "Epoch 50/100\n",
            "50/50 [==============================] - 0s 3ms/step - loss: 0.6518 - accuracy: 0.6719 - val_loss: 0.6588 - val_accuracy: 0.6594\n",
            "Epoch 51/100\n",
            "50/50 [==============================] - 0s 4ms/step - loss: 0.6438 - accuracy: 0.6569 - val_loss: 0.6621 - val_accuracy: 0.6469\n",
            "Epoch 52/100\n",
            "50/50 [==============================] - 0s 3ms/step - loss: 0.6400 - accuracy: 0.6525 - val_loss: 0.6606 - val_accuracy: 0.6344\n",
            "Epoch 53/100\n",
            "50/50 [==============================] - 0s 2ms/step - loss: 0.6383 - accuracy: 0.6694 - val_loss: 0.6609 - val_accuracy: 0.6344\n",
            "Epoch 54/100\n",
            "50/50 [==============================] - 0s 3ms/step - loss: 0.6386 - accuracy: 0.6681 - val_loss: 0.6573 - val_accuracy: 0.6344\n",
            "Epoch 55/100\n",
            "50/50 [==============================] - 0s 3ms/step - loss: 0.6356 - accuracy: 0.6656 - val_loss: 0.6577 - val_accuracy: 0.6469\n",
            "Epoch 56/100\n",
            "50/50 [==============================] - 0s 3ms/step - loss: 0.6339 - accuracy: 0.6675 - val_loss: 0.6519 - val_accuracy: 0.6500\n",
            "Epoch 57/100\n",
            "50/50 [==============================] - 0s 3ms/step - loss: 0.6344 - accuracy: 0.6662 - val_loss: 0.6550 - val_accuracy: 0.6344\n",
            "Epoch 58/100\n",
            "50/50 [==============================] - 0s 2ms/step - loss: 0.6366 - accuracy: 0.6756 - val_loss: 0.6594 - val_accuracy: 0.6469\n",
            "Epoch 59/100\n",
            "50/50 [==============================] - 0s 3ms/step - loss: 0.6320 - accuracy: 0.6550 - val_loss: 0.6564 - val_accuracy: 0.6344\n",
            "Epoch 60/100\n",
            "50/50 [==============================] - 0s 3ms/step - loss: 0.6219 - accuracy: 0.6800 - val_loss: 0.6550 - val_accuracy: 0.6250\n",
            "Epoch 61/100\n",
            "50/50 [==============================] - 0s 3ms/step - loss: 0.6243 - accuracy: 0.6837 - val_loss: 0.6604 - val_accuracy: 0.6438\n",
            "Epoch 62/100\n",
            "50/50 [==============================] - 0s 3ms/step - loss: 0.6197 - accuracy: 0.6831 - val_loss: 0.6560 - val_accuracy: 0.6156\n",
            "Epoch 63/100\n",
            "50/50 [==============================] - 0s 3ms/step - loss: 0.6210 - accuracy: 0.6694 - val_loss: 0.6654 - val_accuracy: 0.6344\n",
            "Epoch 64/100\n",
            "50/50 [==============================] - 0s 3ms/step - loss: 0.6184 - accuracy: 0.6988 - val_loss: 0.6536 - val_accuracy: 0.6531\n",
            "Epoch 65/100\n",
            "50/50 [==============================] - 0s 2ms/step - loss: 0.6121 - accuracy: 0.6856 - val_loss: 0.6506 - val_accuracy: 0.6562\n",
            "Epoch 66/100\n",
            "50/50 [==============================] - 0s 3ms/step - loss: 0.6200 - accuracy: 0.6819 - val_loss: 0.6470 - val_accuracy: 0.6375\n",
            "Epoch 67/100\n",
            "50/50 [==============================] - 0s 3ms/step - loss: 0.6180 - accuracy: 0.6900 - val_loss: 0.6504 - val_accuracy: 0.6375\n",
            "Epoch 68/100\n",
            "50/50 [==============================] - 0s 3ms/step - loss: 0.6108 - accuracy: 0.6931 - val_loss: 0.6547 - val_accuracy: 0.6438\n",
            "Epoch 69/100\n",
            "50/50 [==============================] - 0s 3ms/step - loss: 0.6174 - accuracy: 0.6744 - val_loss: 0.6603 - val_accuracy: 0.6406\n",
            "Epoch 70/100\n",
            "50/50 [==============================] - 0s 3ms/step - loss: 0.6237 - accuracy: 0.6913 - val_loss: 0.6504 - val_accuracy: 0.6438\n",
            "Epoch 71/100\n",
            "50/50 [==============================] - 0s 3ms/step - loss: 0.6070 - accuracy: 0.6881 - val_loss: 0.6511 - val_accuracy: 0.6375\n",
            "Epoch 72/100\n",
            "50/50 [==============================] - 0s 3ms/step - loss: 0.6167 - accuracy: 0.6875 - val_loss: 0.6502 - val_accuracy: 0.6406\n",
            "Epoch 73/100\n",
            "50/50 [==============================] - 0s 3ms/step - loss: 0.6036 - accuracy: 0.6812 - val_loss: 0.6626 - val_accuracy: 0.6250\n",
            "Epoch 74/100\n",
            "50/50 [==============================] - 0s 3ms/step - loss: 0.6010 - accuracy: 0.6888 - val_loss: 0.6466 - val_accuracy: 0.6344\n",
            "Epoch 75/100\n",
            "50/50 [==============================] - 0s 3ms/step - loss: 0.6076 - accuracy: 0.6894 - val_loss: 0.6518 - val_accuracy: 0.6281\n",
            "Epoch 76/100\n",
            "50/50 [==============================] - 0s 3ms/step - loss: 0.6013 - accuracy: 0.6837 - val_loss: 0.6521 - val_accuracy: 0.6375\n",
            "Epoch 77/100\n",
            "50/50 [==============================] - 0s 3ms/step - loss: 0.6077 - accuracy: 0.6906 - val_loss: 0.6500 - val_accuracy: 0.6562\n",
            "Epoch 78/100\n",
            "50/50 [==============================] - 0s 3ms/step - loss: 0.6140 - accuracy: 0.6913 - val_loss: 0.6405 - val_accuracy: 0.6531\n",
            "Epoch 79/100\n",
            "50/50 [==============================] - 0s 3ms/step - loss: 0.6058 - accuracy: 0.7000 - val_loss: 0.6537 - val_accuracy: 0.6313\n",
            "Epoch 80/100\n",
            "50/50 [==============================] - 0s 3ms/step - loss: 0.5967 - accuracy: 0.6881 - val_loss: 0.6505 - val_accuracy: 0.6469\n",
            "Epoch 81/100\n",
            "50/50 [==============================] - 0s 3ms/step - loss: 0.6104 - accuracy: 0.6888 - val_loss: 0.6549 - val_accuracy: 0.6187\n",
            "Epoch 82/100\n",
            "50/50 [==============================] - 0s 3ms/step - loss: 0.6062 - accuracy: 0.6931 - val_loss: 0.6409 - val_accuracy: 0.6313\n",
            "Epoch 83/100\n",
            "50/50 [==============================] - 0s 3ms/step - loss: 0.6135 - accuracy: 0.6894 - val_loss: 0.6406 - val_accuracy: 0.6406\n",
            "Epoch 84/100\n",
            "50/50 [==============================] - 0s 3ms/step - loss: 0.6103 - accuracy: 0.7119 - val_loss: 0.6438 - val_accuracy: 0.6375\n",
            "Epoch 85/100\n",
            "50/50 [==============================] - 0s 3ms/step - loss: 0.5884 - accuracy: 0.7119 - val_loss: 0.6554 - val_accuracy: 0.6625\n",
            "Epoch 86/100\n",
            "50/50 [==============================] - 0s 2ms/step - loss: 0.5985 - accuracy: 0.7000 - val_loss: 0.6465 - val_accuracy: 0.6313\n",
            "Epoch 87/100\n",
            "50/50 [==============================] - 0s 3ms/step - loss: 0.5893 - accuracy: 0.6975 - val_loss: 0.6490 - val_accuracy: 0.6344\n",
            "Epoch 88/100\n",
            "50/50 [==============================] - 0s 3ms/step - loss: 0.6020 - accuracy: 0.6988 - val_loss: 0.6519 - val_accuracy: 0.6281\n",
            "Epoch 89/100\n",
            "50/50 [==============================] - 0s 2ms/step - loss: 0.5969 - accuracy: 0.6938 - val_loss: 0.6554 - val_accuracy: 0.6219\n",
            "Epoch 90/100\n",
            "50/50 [==============================] - 0s 3ms/step - loss: 0.6072 - accuracy: 0.7013 - val_loss: 0.6523 - val_accuracy: 0.6281\n",
            "Epoch 91/100\n",
            "50/50 [==============================] - 0s 2ms/step - loss: 0.5995 - accuracy: 0.6862 - val_loss: 0.6565 - val_accuracy: 0.6250\n",
            "Epoch 92/100\n",
            "50/50 [==============================] - 0s 3ms/step - loss: 0.6089 - accuracy: 0.6869 - val_loss: 0.6441 - val_accuracy: 0.6438\n",
            "Epoch 93/100\n",
            "50/50 [==============================] - 0s 3ms/step - loss: 0.6027 - accuracy: 0.6819 - val_loss: 0.6434 - val_accuracy: 0.6281\n",
            "Epoch 94/100\n",
            "50/50 [==============================] - 0s 2ms/step - loss: 0.5951 - accuracy: 0.6950 - val_loss: 0.6559 - val_accuracy: 0.6313\n",
            "Epoch 95/100\n",
            "50/50 [==============================] - 0s 2ms/step - loss: 0.5895 - accuracy: 0.7038 - val_loss: 0.6542 - val_accuracy: 0.6375\n",
            "Epoch 96/100\n",
            "50/50 [==============================] - 0s 2ms/step - loss: 0.5841 - accuracy: 0.7188 - val_loss: 0.6582 - val_accuracy: 0.6500\n",
            "Epoch 97/100\n",
            "50/50 [==============================] - 0s 3ms/step - loss: 0.5972 - accuracy: 0.7031 - val_loss: 0.6479 - val_accuracy: 0.6438\n",
            "Epoch 98/100\n",
            "50/50 [==============================] - 0s 3ms/step - loss: 0.5894 - accuracy: 0.7063 - val_loss: 0.6526 - val_accuracy: 0.6531\n",
            "Epoch 99/100\n",
            "50/50 [==============================] - 0s 3ms/step - loss: 0.5858 - accuracy: 0.7063 - val_loss: 0.6506 - val_accuracy: 0.6406\n",
            "Epoch 100/100\n",
            "50/50 [==============================] - 0s 3ms/step - loss: 0.6081 - accuracy: 0.7056 - val_loss: 0.6482 - val_accuracy: 0.6406\n",
            "10/10 [==============================] - 0s 2ms/step - loss: 0.6482 - accuracy: 0.6406\n",
            "15/15 [==============================] - 0s 2ms/step - loss: 0.6148 - accuracy: 0.6771\n"
          ]
        }
      ]
    },
    {
      "cell_type": "code",
      "metadata": {
        "id": "MF8FPOAuEbvi",
        "colab": {
          "base_uri": "https://localhost:8080/"
        },
        "outputId": "9e5e309f-1fdb-47b5-94f1-dd617cbc256f"
      },
      "source": [
        "if solution == \"drop\":\n",
        "  print(result)\n",
        "  history = best_history\n",
        "  model = best_model\n",
        "  print(max_validation_score)"
      ],
      "execution_count": null,
      "outputs": [
        {
          "output_type": "stream",
          "name": "stdout",
          "text": [
            "[0.6147823929786682, 0.6770833134651184]\n",
            "0.731249988079071\n"
          ]
        }
      ]
    },
    {
      "cell_type": "markdown",
      "metadata": {
        "id": "GlX82DsKEdvq"
      },
      "source": [
        "### Loss graph of the model"
      ]
    },
    {
      "cell_type": "code",
      "metadata": {
        "id": "oSuKLOb4Av18",
        "colab": {
          "base_uri": "https://localhost:8080/",
          "height": 513
        },
        "outputId": "17b6b063-deb3-465c-f65b-0eb970a67207"
      },
      "source": [
        "if model_loss == True:\n",
        "  plt.subplots(figsize=(12,8))\n",
        "  plt.plot(history.history['loss'])\n",
        "  plt.plot(history.history['val_loss'])\n",
        "  plt.title('Model Loss')\n",
        "  plt.ylabel('Loss')\n",
        "  plt.xlabel('Epoch')\n",
        "  plt.legend(['Train', 'Validation'], loc='upper right')\n",
        "  plt.show()"
      ],
      "execution_count": null,
      "outputs": [
        {
          "output_type": "display_data",
          "data": {
            "image/png": "[encoded data removed]",
            "text/plain": [
              "<Figure size 864x576 with 1 Axes>"
            ]
          },
          "metadata": {
            "needs_background": "light"
          }
        }
      ]
    },
    {
      "cell_type": "markdown",
      "metadata": {
        "id": "3S5hOmIGEs9j"
      },
      "source": [
        "### Accuracy graph of the model"
      ]
    },
    {
      "cell_type": "code",
      "metadata": {
        "id": "PKWN9djLyMc7",
        "colab": {
          "base_uri": "https://localhost:8080/",
          "height": 513
        },
        "outputId": "ac223d49-5912-4a17-d616-7f4210bfcc22"
      },
      "source": [
        "if model_accuracy == True:\n",
        "  plt.subplots(figsize=(12,8))\n",
        "  plt.plot(history.history['accuracy'])\n",
        "  plt.plot(history.history['val_accuracy'])\n",
        "  plt.title('Model Accuracy')\n",
        "  plt.ylabel('Accuracy')\n",
        "  plt.xlabel('Epoch')\n",
        "  plt.legend(['Train', 'Validation'], loc='lower right')\n",
        "  plt.show()"
      ],
      "execution_count": null,
      "outputs": [
        {
          "output_type": "display_data",
          "data": {
            "image/png": "[encoded data removed]",
            "text/plain": [
              "<Figure size 864x576 with 1 Axes>"
            ]
          },
          "metadata": {
            "needs_background": "light"
          }
        }
      ]
    },
    {
      "cell_type": "markdown",
      "metadata": {
        "id": "JAGewXYAEwD3"
      },
      "source": [
        "### Evaluate the model\n",
        "\n",
        "Check how well the dataset perform on the test set\n"
      ]
    },
    {
      "cell_type": "code",
      "metadata": {
        "id": "TzswDSgvz64p",
        "colab": {
          "base_uri": "https://localhost:8080/"
        },
        "outputId": "37241c6b-c192-4a96-cc14-5357c45ad469"
      },
      "source": [
        "if evaluate_model == True:\n",
        "  model.evaluate(x_test, y_test)"
      ],
      "execution_count": null,
      "outputs": [
        {
          "output_type": "stream",
          "name": "stdout",
          "text": [
            "13/13 [==============================] - 0s 2ms/step - loss: 0.6394 - accuracy: 0.6500\n"
          ]
        }
      ]
    },
    {
      "cell_type": "markdown",
      "metadata": {
        "id": "ocROaziSE4et"
      },
      "source": [
        "### Confusion Matrix\n",
        "\n",
        "Compute the label prediction using the test set and plot the confusion matrix."
      ]
    },
    {
      "cell_type": "code",
      "metadata": {
        "id": "UNA7s8vOEQh0",
        "colab": {
          "base_uri": "https://localhost:8080/",
          "height": 611
        },
        "outputId": "b56aae08-8fd1-4364-8df7-8fa85f390e5b"
      },
      "source": [
        "from sklearn.metrics import classification_report,confusion_matrix\n",
        "if conf_matr == True:\n",
        "  predictions = model.predict(x_test)\n",
        "  classes = predictions > 0.5\n",
        "  cm = confusion_matrix(y_test,classes)\n",
        "\n",
        "  # Plot\n",
        "  plt.figure(figsize=(10,7))\n",
        "  ax = plt.subplot()\n",
        "  sns.heatmap(cm, annot=True, fmt='g', ax=ax, cmap=\"PuBu\");  # annot=True to annotate cells, ftm='g' to disable scientific notation\n",
        "  ax.set_xlabel('Predicted labels');ax.set_ylabel('True labels'); \n",
        "  ax.set_title('Confusion Matrix'); \n",
        "  ax.xaxis.set_ticklabels(['No Potable ', 'Potable ']); ax.yaxis.set_ticklabels(['No Potable ', 'Potable ']);\n",
        "  print(classification_report(y_test,classes))"
      ],
      "execution_count": null,
      "outputs": [
        {
          "output_type": "stream",
          "name": "stdout",
          "text": [
            "              precision    recall  f1-score   support\n",
            "\n",
            "         0.0       0.70      0.56      0.62       205\n",
            "         1.0       0.62      0.75      0.68       195\n",
            "\n",
            "    accuracy                           0.65       400\n",
            "   macro avg       0.66      0.65      0.65       400\n",
            "weighted avg       0.66      0.65      0.65       400\n",
            "\n"
          ]
        },
        {
          "output_type": "display_data",
          "data": {
            "image/png": "[encoded data removed]",
            "text/plain": [
              "<Figure size 720x504 with 2 Axes>"
            ]
          },
          "metadata": {
            "needs_background": "light"
          }
        }
      ]
    },
    {
      "cell_type": "markdown",
      "metadata": {
        "id": "2bUT5YjlI9Tk"
      },
      "source": [
        "### Test performance original value"
      ]
    },
    {
      "cell_type": "code",
      "metadata": {
        "id": "BHbweMsjJHgR"
      },
      "source": [
        "x_original_train, x_original_test, y_original_train, y_original_test = train_test_split(data, labels, train_size=0.9)\n"
      ],
      "execution_count": null,
      "outputs": []
    },
    {
      "cell_type": "code",
      "metadata": {
        "colab": {
          "base_uri": "https://localhost:8080/",
          "height": 611
        },
        "id": "OzXDhKHqJrMm",
        "outputId": "af88dbcb-1e55-4077-ef66-ffee8cb1697c"
      },
      "source": [
        "from sklearn.metrics import classification_report,confusion_matrix\n",
        "if conf_matr == True:\n",
        "  predictions = model.predict(x_original_test)\n",
        "  classes = predictions > 0.5\n",
        "  cm = confusion_matrix(y_original_test,classes)\n",
        "\n",
        "  # Plot\n",
        "  plt.figure(figsize=(10,7))\n",
        "  ax = plt.subplot()\n",
        "  sns.heatmap(cm, annot=True, fmt='g', ax=ax, cmap=\"PuBu\");  # annot=True to annotate cells, ftm='g' to disable scientific notation\n",
        "  ax.set_xlabel('Predicted labels');ax.set_ylabel('True labels'); \n",
        "  ax.set_title('Confusion Matrix'); \n",
        "  ax.xaxis.set_ticklabels(['No Potable ', 'Potable ']); ax.yaxis.set_ticklabels(['No Potable ', 'Potable ']);\n",
        "  print(classification_report(y_original_test,classes))"
      ],
      "execution_count": null,
      "outputs": [
        {
          "output_type": "stream",
          "name": "stdout",
          "text": [
            "              precision    recall  f1-score   support\n",
            "\n",
            "         0.0       0.85      0.60      0.70       212\n",
            "         1.0       0.52      0.80      0.63       116\n",
            "\n",
            "    accuracy                           0.67       328\n",
            "   macro avg       0.68      0.70      0.67       328\n",
            "weighted avg       0.73      0.67      0.68       328\n",
            "\n"
          ]
        },
        {
          "output_type": "display_data",
          "data": {
            "image/png": "[encoded data removed]",
            "text/plain": [
              "<Figure size 720x504 with 2 Axes>"
            ]
          },
          "metadata": {
            "needs_background": "light"
          }
        }
      ]
    },
    {
      "cell_type": "markdown",
      "metadata": {
        "id": "Qi5S7LhQTexS"
      },
      "source": [
        "### Plot model"
      ]
    },
    {
      "cell_type": "code",
      "metadata": {
        "id": "Z1ny8y9KThbB"
      },
      "source": [
        "if plot_model == True:\n",
        "  dot_img_file = \"network.png\"\n",
        "  keras.utils.plot_model(model, to_file=dot_img_file, show_shapes=True)"
      ],
      "execution_count": null,
      "outputs": []
    },
    {
      "cell_type": "markdown",
      "metadata": {
        "id": "8RZ5X7kXE0XD"
      },
      "source": [
        "### Save the model"
      ]
    },
    {
      "cell_type": "code",
      "metadata": {
        "id": "hyLclhdA5VDW",
        "colab": {
          "base_uri": "https://localhost:8080/"
        },
        "outputId": "0ce65926-f819-45d3-9169-a7e25666aac8"
      },
      "source": [
        "if save_model == False:\n",
        "  file_name = 'acc_69'\n",
        "  model.save(file_name)\n",
        "\n",
        "! zip -r model.zip acc_69/"
      ],
      "execution_count": null,
      "outputs": [
        {
          "output_type": "stream",
          "name": "stdout",
          "text": [
            "INFO:tensorflow:Assets written to: acc_69/assets\n",
            "updating: acc_69/ (stored 0%)\n",
            "updating: acc_69/keras_metadata.pb (deflated 91%)\n",
            "updating: acc_69/saved_model.pb (deflated 90%)\n",
            "updating: acc_69/variables/ (stored 0%)\n",
            "updating: acc_69/variables/variables.index (deflated 66%)\n",
            "updating: acc_69/variables/variables.data-00000-of-00001 (deflated 13%)\n",
            "updating: acc_69/assets/ (stored 0%)\n"
          ]
        }
      ]
    },
    {
      "cell_type": "markdown",
      "metadata": {
        "id": "Cq2wNkY2_W2c"
      },
      "source": [
        "## Load the model\n",
        "\n",
        "Load on colab the model.zip file. Uncomment to use this section"
      ]
    },
    {
      "cell_type": "markdown",
      "metadata": {
        "id": "ERK8LG-UtAV_"
      },
      "source": [
        "Unzip the model"
      ]
    },
    {
      "cell_type": "code",
      "metadata": {
        "id": "4sCAWqEftCJQ"
      },
      "source": [
        "# ! unzip model.zip"
      ],
      "execution_count": null,
      "outputs": []
    },
    {
      "cell_type": "markdown",
      "metadata": {
        "id": "_i3FK_XzsRCM"
      },
      "source": [
        "Import the model"
      ]
    },
    {
      "cell_type": "code",
      "metadata": {
        "id": "xnS1lowBsPRe"
      },
      "source": [
        "# file_name = 'acc_69'\n",
        "# model = keras.models.load_model(file_name)"
      ],
      "execution_count": null,
      "outputs": []
    },
    {
      "cell_type": "markdown",
      "metadata": {
        "id": "OfSKhTa6Jur_"
      },
      "source": [
        "# A"
      ]
    },
    {
      "cell_type": "code",
      "metadata": {
        "colab": {
          "base_uri": "https://localhost:8080/"
        },
        "id": "zQRHyG1vJtb7",
        "outputId": "ec5d6c5e-dace-4e49-e465-7636f486d35a"
      },
      "source": [
        "model.evaluate(x_test, y_test)"
      ],
      "execution_count": null,
      "outputs": [
        {
          "output_type": "stream",
          "name": "stdout",
          "text": [
            "15/15 [==============================] - 0s 1ms/step - loss: 0.6148 - accuracy: 0.6771\n"
          ]
        },
        {
          "output_type": "execute_result",
          "data": {
            "text/plain": [
              "[0.6147823929786682, 0.6770833134651184]"
            ]
          },
          "metadata": {},
          "execution_count": 686
        }
      ]
    }
  ]
}